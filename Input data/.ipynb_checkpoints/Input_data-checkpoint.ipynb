{
 "cells": [
  {
   "cell_type": "code",
   "execution_count": 56,
   "id": "22a7f4a4-c380-45ba-afe0-adb1271247a7",
   "metadata": {},
   "outputs": [],
   "source": [
    "import pandas as pd\n",
    "import numpy as np"
   ]
  },
  {
   "cell_type": "code",
   "execution_count": 57,
   "id": "0b1cf501-75b5-4f68-89ba-ee473678b5d1",
   "metadata": {},
   "outputs": [],
   "source": [
    "freq = '90Min';"
   ]
  },
  {
   "cell_type": "code",
   "execution_count": 64,
   "id": "e833ba8d-b415-49bd-bc8d-c3cfbefa7327",
   "metadata": {},
   "outputs": [],
   "source": [
    "load = pd.read_pickle('2015-2020_load_generation.pkl')\n",
    "df = load['DE']\n",
    "df = df.loc[df.index.year == 2020]\n",
    "load_curve = df.groupby(df.index.hour).mean()\n",
    "\n",
    "\n",
    "load_curve.index = pd.to_timedelta(load_curve.index, 'hours')\n",
    "#load_curve.index = pd.TimedeltaIndex(load_curve.index)\n",
    "#freq16= load_curve.resample('90min').mean()"
   ]
  },
  {
   "cell_type": "code",
   "execution_count": 65,
   "id": "2dea237d-5d53-4252-b613-c2dfe20e046d",
   "metadata": {},
   "outputs": [],
   "source": [
    "series = load_curve.resample(freq).mean()"
   ]
  },
  {
   "cell_type": "code",
   "execution_count": 66,
   "id": "25991c00-5ac9-4943-87c9-dfb768277776",
   "metadata": {},
   "outputs": [
    {
     "data": {
      "text/plain": [
       "0 days 00:00:00    44774.184247\n",
       "0 days 01:30:00    43763.082192\n",
       "0 days 03:00:00    45137.798973\n",
       "0 days 04:30:00    49783.784247\n",
       "0 days 06:00:00    56329.984589\n",
       "0 days 07:30:00    60427.193151\n",
       "0 days 09:00:00    62540.813356\n",
       "0 days 10:30:00    63503.516438\n",
       "0 days 12:00:00    61904.611301\n",
       "0 days 13:30:00    60058.521233\n",
       "0 days 15:00:00    59380.116438\n",
       "0 days 16:30:00    60742.449315\n",
       "0 days 18:00:00    60242.765068\n",
       "0 days 19:30:00    56622.827397\n",
       "0 days 21:00:00    52262.651027\n",
       "0 days 22:30:00    47629.627397\n",
       "Freq: 90T, Name: DE, dtype: float64"
      ]
     },
     "execution_count": 66,
     "metadata": {},
     "output_type": "execute_result"
    }
   ],
   "source": [
    "series"
   ]
  },
  {
   "cell_type": "code",
   "execution_count": 67,
   "id": "ab673b23-1123-4f27-a44e-633554536dc0",
   "metadata": {},
   "outputs": [],
   "source": [
    "new_frequency = pd.DataFrame(data = series.values, index = series.index, columns = ['total load'])"
   ]
  },
  {
   "cell_type": "code",
   "execution_count": 70,
   "id": "5a4c2ba9-6e23-4d06-b9de-9cedb5269eaf",
   "metadata": {},
   "outputs": [],
   "source": [
    "new_frequency['north'] = new_frequency['total load'] *1/3 \n",
    "new_frequency['south'] = new_frequency['total load'] *2/3 "
   ]
  },
  {
   "cell_type": "code",
   "execution_count": 74,
   "id": "6e270196-e16f-477e-a92f-03f8e41154cf",
   "metadata": {},
   "outputs": [
    {
     "data": {
      "text/html": [
       "<div>\n",
       "<style scoped>\n",
       "    .dataframe tbody tr th:only-of-type {\n",
       "        vertical-align: middle;\n",
       "    }\n",
       "\n",
       "    .dataframe tbody tr th {\n",
       "        vertical-align: top;\n",
       "    }\n",
       "\n",
       "    .dataframe thead th {\n",
       "        text-align: right;\n",
       "    }\n",
       "</style>\n",
       "<table border=\"1\" class=\"dataframe\">\n",
       "  <thead>\n",
       "    <tr style=\"text-align: right;\">\n",
       "      <th></th>\n",
       "      <th>total load</th>\n",
       "      <th>north</th>\n",
       "      <th>south</th>\n",
       "    </tr>\n",
       "  </thead>\n",
       "  <tbody>\n",
       "    <tr>\n",
       "      <th>0 days 00:00:00</th>\n",
       "      <td>44774.2</td>\n",
       "      <td>14924.7</td>\n",
       "      <td>29849.5</td>\n",
       "    </tr>\n",
       "    <tr>\n",
       "      <th>0 days 01:30:00</th>\n",
       "      <td>43763.1</td>\n",
       "      <td>14587.7</td>\n",
       "      <td>29175.4</td>\n",
       "    </tr>\n",
       "    <tr>\n",
       "      <th>0 days 03:00:00</th>\n",
       "      <td>45137.8</td>\n",
       "      <td>15045.9</td>\n",
       "      <td>30091.9</td>\n",
       "    </tr>\n",
       "    <tr>\n",
       "      <th>0 days 04:30:00</th>\n",
       "      <td>49783.8</td>\n",
       "      <td>16594.6</td>\n",
       "      <td>33189.2</td>\n",
       "    </tr>\n",
       "    <tr>\n",
       "      <th>0 days 06:00:00</th>\n",
       "      <td>56330.0</td>\n",
       "      <td>18776.7</td>\n",
       "      <td>37553.3</td>\n",
       "    </tr>\n",
       "    <tr>\n",
       "      <th>0 days 07:30:00</th>\n",
       "      <td>60427.2</td>\n",
       "      <td>20142.4</td>\n",
       "      <td>40284.8</td>\n",
       "    </tr>\n",
       "    <tr>\n",
       "      <th>0 days 09:00:00</th>\n",
       "      <td>62540.8</td>\n",
       "      <td>20846.9</td>\n",
       "      <td>41693.9</td>\n",
       "    </tr>\n",
       "    <tr>\n",
       "      <th>0 days 10:30:00</th>\n",
       "      <td>63503.5</td>\n",
       "      <td>21167.8</td>\n",
       "      <td>42335.7</td>\n",
       "    </tr>\n",
       "    <tr>\n",
       "      <th>0 days 12:00:00</th>\n",
       "      <td>61904.6</td>\n",
       "      <td>20634.9</td>\n",
       "      <td>41269.7</td>\n",
       "    </tr>\n",
       "    <tr>\n",
       "      <th>0 days 13:30:00</th>\n",
       "      <td>60058.5</td>\n",
       "      <td>20019.5</td>\n",
       "      <td>40039.0</td>\n",
       "    </tr>\n",
       "    <tr>\n",
       "      <th>0 days 15:00:00</th>\n",
       "      <td>59380.1</td>\n",
       "      <td>19793.4</td>\n",
       "      <td>39586.7</td>\n",
       "    </tr>\n",
       "    <tr>\n",
       "      <th>0 days 16:30:00</th>\n",
       "      <td>60742.4</td>\n",
       "      <td>20247.5</td>\n",
       "      <td>40495.0</td>\n",
       "    </tr>\n",
       "    <tr>\n",
       "      <th>0 days 18:00:00</th>\n",
       "      <td>60242.8</td>\n",
       "      <td>20080.9</td>\n",
       "      <td>40161.8</td>\n",
       "    </tr>\n",
       "    <tr>\n",
       "      <th>0 days 19:30:00</th>\n",
       "      <td>56622.8</td>\n",
       "      <td>18874.3</td>\n",
       "      <td>37748.6</td>\n",
       "    </tr>\n",
       "    <tr>\n",
       "      <th>0 days 21:00:00</th>\n",
       "      <td>52262.7</td>\n",
       "      <td>17420.9</td>\n",
       "      <td>34841.8</td>\n",
       "    </tr>\n",
       "    <tr>\n",
       "      <th>0 days 22:30:00</th>\n",
       "      <td>47629.6</td>\n",
       "      <td>15876.5</td>\n",
       "      <td>31753.1</td>\n",
       "    </tr>\n",
       "  </tbody>\n",
       "</table>\n",
       "</div>"
      ],
      "text/plain": [
       "                 total load    north    south\n",
       "0 days 00:00:00     44774.2  14924.7  29849.5\n",
       "0 days 01:30:00     43763.1  14587.7  29175.4\n",
       "0 days 03:00:00     45137.8  15045.9  30091.9\n",
       "0 days 04:30:00     49783.8  16594.6  33189.2\n",
       "0 days 06:00:00     56330.0  18776.7  37553.3\n",
       "0 days 07:30:00     60427.2  20142.4  40284.8\n",
       "0 days 09:00:00     62540.8  20846.9  41693.9\n",
       "0 days 10:30:00     63503.5  21167.8  42335.7\n",
       "0 days 12:00:00     61904.6  20634.9  41269.7\n",
       "0 days 13:30:00     60058.5  20019.5  40039.0\n",
       "0 days 15:00:00     59380.1  19793.4  39586.7\n",
       "0 days 16:30:00     60742.4  20247.5  40495.0\n",
       "0 days 18:00:00     60242.8  20080.9  40161.8\n",
       "0 days 19:30:00     56622.8  18874.3  37748.6\n",
       "0 days 21:00:00     52262.7  17420.9  34841.8\n",
       "0 days 22:30:00     47629.6  15876.5  31753.1"
      ]
     },
     "execution_count": 74,
     "metadata": {},
     "output_type": "execute_result"
    }
   ],
   "source": [
    "new_frequency.round(1)"
   ]
  },
  {
   "cell_type": "code",
   "execution_count": 42,
   "id": "50b87e69-ab82-49eb-ba7c-42eedfbf67f4",
   "metadata": {},
   "outputs": [],
   "source": [
    "new_frequency.to_csv('16.csv')"
   ]
  },
  {
   "cell_type": "code",
   "execution_count": 43,
   "id": "ff0f190f-d4e7-4ca2-8aca-9e04da0e47f8",
   "metadata": {},
   "outputs": [
    {
     "data": {
      "text/plain": [
       "<AxesSubplot:>"
      ]
     },
     "execution_count": 43,
     "metadata": {},
     "output_type": "execute_result"
    },
    {
     "data": {
      "image/png": "[encoded data removed]",
      "text/plain": [
       "<Figure size 432x288 with 1 Axes>"
      ]
     },
     "metadata": {
      "needs_background": "light"
     },
     "output_type": "display_data"
    }
   ],
   "source": [
    "new_frequency.plot()"
   ]
  },
  {
   "cell_type": "code",
   "execution_count": null,
   "id": "3a612dfd-aaf0-4dd0-991e-84e0e864ba32",
   "metadata": {},
   "outputs": [],
   "source": []
  }
 ],
 "metadata": {
  "kernelspec": {
   "display_name": "Python 3 (ipykernel)",
   "language": "python",
   "name": "python3"
  },
  "language_info": {
   "codemirror_mode": {
    "name": "ipython",
    "version": 3
   },
   "file_extension": ".py",
   "mimetype": "text/x-python",
   "name": "python",
   "nbconvert_exporter": "python",
   "pygments_lexer": "ipython3",
   "version": "3.9.9"
  }
 },
 "nbformat": 4,
 "nbformat_minor": 5
}

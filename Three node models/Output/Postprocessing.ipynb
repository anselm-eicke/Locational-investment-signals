{
 "cells": [
  {
   "cell_type": "code",
   "execution_count": 1,
   "id": "07958183-16b7-4e7a-bdfe-545e1abe1329",
   "metadata": {},
   "outputs": [],
   "source": [
    "import gdxpds\n",
    "import pandas as pd\n",
    "import matplotlib.pyplot as plt\n",
    "import numpy as np"
   ]
  },
  {
   "cell_type": "code",
   "execution_count": 2,
   "id": "5d2a8854-b836-4493-89ed-f273c683cfcd",
   "metadata": {},
   "outputs": [],
   "source": [
    "scenarios = list(['nodal', 'with_instrument', 'agnostic_instrument', 'without_instrument']);\n",
    "\n",
    "nodes = list(['north', 'south'])"
   ]
  },
  {
   "cell_type": "code",
   "execution_count": 95,
   "id": "393ce09e-6ac3-4835-95e4-7516087b898d",
   "metadata": {},
   "outputs": [],
   "source": [
    "def read_data(file, indicator):\n",
    "    gams_dir='C:\\Program Files\\GAMS'\n",
    "    df = gdxpds.to_dataframes(str(file) + '.gdx', gams_dir=gams_dir)\n",
    "    df = df[indicator]\n",
    "    df['model'] = file\n",
    "    if 'Level' in df.columns:\n",
    "        df['Value'] = df['Level']\n",
    "    df['Value'] = df['Value'].round(2)\n",
    "    return(df.set_index(['model']))\n",
    "\n",
    "\n",
    "def read_old(indicator, add = 'prefix'):\n",
    "    if add == 'prefix':\n",
    "        df = read_data('Zonal', 'o_' + indicator).append(read_data('Capacity instrument', 'o_' + indicator)).append(read_data('Nodal', 'o_' +  indicator))\n",
    "        return(df)\n",
    "    \n",
    "    elif add == 'prefix_linearized':\n",
    "        df = read_data('Zonal', 'o_' + indicator).append(read_data('Capacity instrument', 'o_' + indicator)).append(read_data('Capacity instrument linearized', 'i_' + indicator)).append(read_data('Nodal', 'o_' +  indicator))\n",
    "        return(df)\n",
    "    \n",
    "    elif add == None:\n",
    "        df = read_data('Capacity instrument', indicator).append(read_data('Nodal', indicator)).append(read_data('Zonal', indicator))\n",
    "        df = df[['tec', 't', 'n', 'Value']]\n",
    "        return(df)\n",
    "\n",
    "\n",
    "\n",
    "def read(indicator):\n",
    "    df = read_data(scenarios[0], indicator).append(read_data(scenarios[1], indicator)).append(read_data(scenarios[2], indicator)).append(read_data(scenarios[3], indicator))\n",
    "    return(df)\n",
    "    \n",
    "def plot_distribution(df, axes, location):\n",
    "    \n",
    "    width = 0.8\n",
    "    #baseload\n",
    "    \n",
    "    tmp = df.loc[df['tec'] == 'base'][location].fillna(0)\n",
    "    tmp = tmp.reindex(index = scenarios)\n",
    "    leg = axes.barh(y_pos, tmp, width, align='center', color = 'darkred')\n",
    "    left = tmp.fillna(0)\n",
    "\n",
    "    #peaker\n",
    "    tmp = df.loc[df['tec'] == 'peak'][location].fillna(0)\n",
    "    tmp = tmp.reindex(index = scenarios)\n",
    "    axes.barh(y_pos, tmp, width, left=left, align='center', color = 'black')\n",
    "    left = left + tmp.fillna(0)\n",
    "\n",
    "    #wind\n",
    "    tmp = df.loc[df['tec'] == 'wind'][location].fillna(0)\n",
    "    tmp = tmp.reindex(index = scenarios)\n",
    "    axes.barh(y_pos, tmp, width, left=left, align='center', color = 'lightblue')\n",
    "    left = left + tmp.fillna(0)\n",
    "\n",
    "    #solar\n",
    "    tmp = df.loc[df['tec'] == 'solar'][location].fillna(0)\n",
    "    tmp = tmp.reindex(index = scenarios)\n",
    "    axes.barh(y_pos, tmp, width, left=left, align='center', color = 'gold')\n",
    "    left = left + tmp.fillna(0)\n",
    "    #leg.legend()\n",
    "    return(axes)\n",
    "\n",
    "    "
   ]
  },
  {
   "cell_type": "code",
   "execution_count": 10,
   "id": "df437588-8b57-4d4b-8a02-c146c361a356",
   "metadata": {},
   "outputs": [],
   "source": [
    "df = read('o_gen')\n",
    "df = df.reset_index().set_index(['model','t', 'n','tec'])\n",
    "df = df.swaplevel().unstack()\n",
    "df.columns = df.columns.droplevel(0)\n",
    "df.columns.name = ''\n",
    "\n",
    "df = df.groupby(['model','tec']).sum()\n",
    "df = df.reset_index().set_index(['model'])\n",
    "gen = df"
   ]
  },
  {
   "cell_type": "code",
   "execution_count": 11,
   "id": "c1e84cab-5a3e-475e-aeb5-5c2272db5448",
   "metadata": {},
   "outputs": [
    {
     "data": {
      "text/html": [
       "<div>\n",
       "<style scoped>\n",
       "    .dataframe tbody tr th:only-of-type {\n",
       "        vertical-align: middle;\n",
       "    }\n",
       "\n",
       "    .dataframe tbody tr th {\n",
       "        vertical-align: top;\n",
       "    }\n",
       "\n",
       "    .dataframe thead th {\n",
       "        text-align: right;\n",
       "    }\n",
       "</style>\n",
       "<table border=\"1\" class=\"dataframe\">\n",
       "  <thead>\n",
       "    <tr style=\"text-align: right;\">\n",
       "      <th></th>\n",
       "      <th>tec</th>\n",
       "      <th>north</th>\n",
       "      <th>south</th>\n",
       "    </tr>\n",
       "    <tr>\n",
       "      <th>model</th>\n",
       "      <th></th>\n",
       "      <th></th>\n",
       "      <th></th>\n",
       "    </tr>\n",
       "  </thead>\n",
       "  <tbody>\n",
       "    <tr>\n",
       "      <th>agnostic_instrument</th>\n",
       "      <td>base</td>\n",
       "      <td>61.13</td>\n",
       "      <td>598.17</td>\n",
       "    </tr>\n",
       "    <tr>\n",
       "      <th>agnostic_instrument</th>\n",
       "      <td>wind</td>\n",
       "      <td>301.52</td>\n",
       "      <td>0.00</td>\n",
       "    </tr>\n",
       "    <tr>\n",
       "      <th>nodal</th>\n",
       "      <td>base</td>\n",
       "      <td>86.93</td>\n",
       "      <td>618.42</td>\n",
       "    </tr>\n",
       "    <tr>\n",
       "      <th>nodal</th>\n",
       "      <td>peak</td>\n",
       "      <td>24.43</td>\n",
       "      <td>16.51</td>\n",
       "    </tr>\n",
       "    <tr>\n",
       "      <th>nodal</th>\n",
       "      <td>solar</td>\n",
       "      <td>0.00</td>\n",
       "      <td>285.50</td>\n",
       "    </tr>\n",
       "    <tr>\n",
       "      <th>nodal</th>\n",
       "      <td>wind</td>\n",
       "      <td>379.39</td>\n",
       "      <td>80.91</td>\n",
       "    </tr>\n",
       "    <tr>\n",
       "      <th>with_instrument</th>\n",
       "      <td>base</td>\n",
       "      <td>0.00</td>\n",
       "      <td>366.48</td>\n",
       "    </tr>\n",
       "    <tr>\n",
       "      <th>with_instrument</th>\n",
       "      <td>peak</td>\n",
       "      <td>126.27</td>\n",
       "      <td>199.27</td>\n",
       "    </tr>\n",
       "    <tr>\n",
       "      <th>with_instrument</th>\n",
       "      <td>solar</td>\n",
       "      <td>22.59</td>\n",
       "      <td>141.13</td>\n",
       "    </tr>\n",
       "    <tr>\n",
       "      <th>with_instrument</th>\n",
       "      <td>wind</td>\n",
       "      <td>338.98</td>\n",
       "      <td>227.26</td>\n",
       "    </tr>\n",
       "    <tr>\n",
       "      <th>without_instrument</th>\n",
       "      <td>base</td>\n",
       "      <td>371.11</td>\n",
       "      <td>382.76</td>\n",
       "    </tr>\n",
       "    <tr>\n",
       "      <th>without_instrument</th>\n",
       "      <td>solar</td>\n",
       "      <td>0.00</td>\n",
       "      <td>190.03</td>\n",
       "    </tr>\n",
       "    <tr>\n",
       "      <th>without_instrument</th>\n",
       "      <td>wind</td>\n",
       "      <td>522.00</td>\n",
       "      <td>0.00</td>\n",
       "    </tr>\n",
       "  </tbody>\n",
       "</table>\n",
       "</div>"
      ],
      "text/plain": [
       "                       tec   north   south\n",
       "model                                     \n",
       "agnostic_instrument   base   61.13  598.17\n",
       "agnostic_instrument   wind  301.52    0.00\n",
       "nodal                 base   86.93  618.42\n",
       "nodal                 peak   24.43   16.51\n",
       "nodal                solar    0.00  285.50\n",
       "nodal                 wind  379.39   80.91\n",
       "with_instrument       base    0.00  366.48\n",
       "with_instrument       peak  126.27  199.27\n",
       "with_instrument      solar   22.59  141.13\n",
       "with_instrument       wind  338.98  227.26\n",
       "without_instrument    base  371.11  382.76\n",
       "without_instrument   solar    0.00  190.03\n",
       "without_instrument    wind  522.00    0.00"
      ]
     },
     "execution_count": 11,
     "metadata": {},
     "output_type": "execute_result"
    }
   ],
   "source": [
    "gen"
   ]
  },
  {
   "cell_type": "code",
   "execution_count": 12,
   "id": "e2948ac8-9a9e-46a2-8b1f-dda72b642845",
   "metadata": {},
   "outputs": [
    {
     "data": {
      "text/html": [
       "<div>\n",
       "<style scoped>\n",
       "    .dataframe tbody tr th:only-of-type {\n",
       "        vertical-align: middle;\n",
       "    }\n",
       "\n",
       "    .dataframe tbody tr th {\n",
       "        vertical-align: top;\n",
       "    }\n",
       "\n",
       "    .dataframe thead th {\n",
       "        text-align: right;\n",
       "    }\n",
       "</style>\n",
       "<table border=\"1\" class=\"dataframe\">\n",
       "  <thead>\n",
       "    <tr style=\"text-align: right;\">\n",
       "      <th></th>\n",
       "      <th>north</th>\n",
       "      <th>south</th>\n",
       "      <th>total</th>\n",
       "      <th>share north</th>\n",
       "    </tr>\n",
       "    <tr>\n",
       "      <th>model</th>\n",
       "      <th></th>\n",
       "      <th></th>\n",
       "      <th></th>\n",
       "      <th></th>\n",
       "    </tr>\n",
       "  </thead>\n",
       "  <tbody>\n",
       "    <tr>\n",
       "      <th>agnostic_instrument</th>\n",
       "      <td>66183.625</td>\n",
       "      <td>109166.025</td>\n",
       "      <td>175349.650</td>\n",
       "      <td>0.377438</td>\n",
       "    </tr>\n",
       "    <tr>\n",
       "      <th>nodal</th>\n",
       "      <td>89561.875</td>\n",
       "      <td>182744.550</td>\n",
       "      <td>272306.425</td>\n",
       "      <td>0.328901</td>\n",
       "    </tr>\n",
       "    <tr>\n",
       "      <th>with_instrument</th>\n",
       "      <td>89030.800</td>\n",
       "      <td>170480.550</td>\n",
       "      <td>259511.350</td>\n",
       "      <td>0.343071</td>\n",
       "    </tr>\n",
       "    <tr>\n",
       "      <th>without_instrument</th>\n",
       "      <td>162992.575</td>\n",
       "      <td>104534.175</td>\n",
       "      <td>267526.750</td>\n",
       "      <td>0.609257</td>\n",
       "    </tr>\n",
       "  </tbody>\n",
       "</table>\n",
       "</div>"
      ],
      "text/plain": [
       "                          north       south       total  share north\n",
       "model                                                               \n",
       "agnostic_instrument   66183.625  109166.025  175349.650     0.377438\n",
       "nodal                 89561.875  182744.550  272306.425     0.328901\n",
       "with_instrument       89030.800  170480.550  259511.350     0.343071\n",
       "without_instrument   162992.575  104534.175  267526.750     0.609257"
      ]
     },
     "execution_count": 12,
     "metadata": {},
     "output_type": "execute_result"
    }
   ],
   "source": [
    "sums = gen.groupby(['model']).sum()\n",
    "sums['total'] = sums[nodes[0]] + sums[nodes[1]]\n",
    "sums = sums /48 * 8760\n",
    "sums['share north'] = sums[nodes[0]] / sums['total']\n",
    "sums\n",
    "# in GWh"
   ]
  },
  {
   "cell_type": "markdown",
   "id": "68f14ab3-cc4a-4392-a2d1-246b8155d002",
   "metadata": {},
   "source": [
    "# Installed capacities"
   ]
  },
  {
   "cell_type": "code",
   "execution_count": 68,
   "id": "c3bbb3c2-5a0f-4c02-9126-b45d662f067e",
   "metadata": {},
   "outputs": [],
   "source": [
    "df = read('o_cap')\n",
    "df = df.reset_index().set_index(['model', 'n','tec'])\n",
    "df = df.swaplevel().unstack()\n",
    "df.columns = df.columns.droplevel(0)\n",
    "df.columns.name = ''\n",
    "df = df.reset_index().set_index(['model'])\n",
    "capacities = df"
   ]
  },
  {
   "cell_type": "code",
   "execution_count": 69,
   "id": "485eab88-195e-4db7-a575-220972693df2",
   "metadata": {},
   "outputs": [
    {
     "data": {
      "text/html": [
       "<div>\n",
       "<style scoped>\n",
       "    .dataframe tbody tr th:only-of-type {\n",
       "        vertical-align: middle;\n",
       "    }\n",
       "\n",
       "    .dataframe tbody tr th {\n",
       "        vertical-align: top;\n",
       "    }\n",
       "\n",
       "    .dataframe thead th {\n",
       "        text-align: right;\n",
       "    }\n",
       "</style>\n",
       "<table border=\"1\" class=\"dataframe\">\n",
       "  <thead>\n",
       "    <tr style=\"text-align: right;\">\n",
       "      <th></th>\n",
       "      <th>tec</th>\n",
       "      <th>north</th>\n",
       "      <th>south</th>\n",
       "    </tr>\n",
       "    <tr>\n",
       "      <th>model</th>\n",
       "      <th></th>\n",
       "      <th></th>\n",
       "      <th></th>\n",
       "    </tr>\n",
       "  </thead>\n",
       "  <tbody>\n",
       "    <tr>\n",
       "      <th>agnostic_instrument</th>\n",
       "      <td>base</td>\n",
       "      <td>4.52</td>\n",
       "      <td>41.25</td>\n",
       "    </tr>\n",
       "    <tr>\n",
       "      <th>agnostic_instrument</th>\n",
       "      <td>wind</td>\n",
       "      <td>84.94</td>\n",
       "      <td>NaN</td>\n",
       "    </tr>\n",
       "    <tr>\n",
       "      <th>nodal</th>\n",
       "      <td>base</td>\n",
       "      <td>6.29</td>\n",
       "      <td>33.01</td>\n",
       "    </tr>\n",
       "    <tr>\n",
       "      <th>nodal</th>\n",
       "      <td>peak</td>\n",
       "      <td>3.43</td>\n",
       "      <td>2.73</td>\n",
       "    </tr>\n",
       "    <tr>\n",
       "      <th>nodal</th>\n",
       "      <td>solar</td>\n",
       "      <td>NaN</td>\n",
       "      <td>99.83</td>\n",
       "    </tr>\n",
       "    <tr>\n",
       "      <th>nodal</th>\n",
       "      <td>wind</td>\n",
       "      <td>76.47</td>\n",
       "      <td>21.13</td>\n",
       "    </tr>\n",
       "    <tr>\n",
       "      <th>with_instrument</th>\n",
       "      <td>base</td>\n",
       "      <td>0.00</td>\n",
       "      <td>15.27</td>\n",
       "    </tr>\n",
       "    <tr>\n",
       "      <th>with_instrument</th>\n",
       "      <td>peak</td>\n",
       "      <td>11.89</td>\n",
       "      <td>18.16</td>\n",
       "    </tr>\n",
       "    <tr>\n",
       "      <th>with_instrument</th>\n",
       "      <td>solar</td>\n",
       "      <td>10.81</td>\n",
       "      <td>49.35</td>\n",
       "    </tr>\n",
       "    <tr>\n",
       "      <th>with_instrument</th>\n",
       "      <td>wind</td>\n",
       "      <td>64.94</td>\n",
       "      <td>59.34</td>\n",
       "    </tr>\n",
       "    <tr>\n",
       "      <th>without_instrument</th>\n",
       "      <td>base</td>\n",
       "      <td>18.69</td>\n",
       "      <td>18.69</td>\n",
       "    </tr>\n",
       "    <tr>\n",
       "      <th>without_instrument</th>\n",
       "      <td>solar</td>\n",
       "      <td>NaN</td>\n",
       "      <td>66.44</td>\n",
       "    </tr>\n",
       "    <tr>\n",
       "      <th>without_instrument</th>\n",
       "      <td>wind</td>\n",
       "      <td>100.00</td>\n",
       "      <td>NaN</td>\n",
       "    </tr>\n",
       "  </tbody>\n",
       "</table>\n",
       "</div>"
      ],
      "text/plain": [
       "                       tec   north  south\n",
       "model                                    \n",
       "agnostic_instrument   base    4.52  41.25\n",
       "agnostic_instrument   wind   84.94    NaN\n",
       "nodal                 base    6.29  33.01\n",
       "nodal                 peak    3.43   2.73\n",
       "nodal                solar     NaN  99.83\n",
       "nodal                 wind   76.47  21.13\n",
       "with_instrument       base    0.00  15.27\n",
       "with_instrument       peak   11.89  18.16\n",
       "with_instrument      solar   10.81  49.35\n",
       "with_instrument       wind   64.94  59.34\n",
       "without_instrument    base   18.69  18.69\n",
       "without_instrument   solar     NaN  66.44\n",
       "without_instrument    wind  100.00    NaN"
      ]
     },
     "execution_count": 69,
     "metadata": {},
     "output_type": "execute_result"
    }
   ],
   "source": [
    "capacities"
   ]
  },
  {
   "cell_type": "code",
   "execution_count": 49,
   "id": "254801f6-d7fb-409c-b500-a68713737d16",
   "metadata": {},
   "outputs": [
    {
     "data": {
      "text/plain": [
       "False"
      ]
     },
     "execution_count": 49,
     "metadata": {},
     "output_type": "execute_result"
    }
   ],
   "source": [
    "'agnostic_instrument' in capacities.loc[df['tec'] == 'peak'].index"
   ]
  },
  {
   "cell_type": "code",
   "execution_count": 78,
   "id": "28e3c286-eca7-46e8-827c-ef10a9caaf4e",
   "metadata": {},
   "outputs": [],
   "source": [
    "df = capacities"
   ]
  },
  {
   "cell_type": "code",
   "execution_count": 85,
   "id": "c9752cee-0ac9-450a-97bb-d5ebfbed16f5",
   "metadata": {},
   "outputs": [
    {
     "data": {
      "image/png": "[encoded data removed]",
      "text/plain": [
       "<Figure size 720x165.6 with 1 Axes>"
      ]
     },
     "metadata": {
      "needs_background": "light"
     },
     "output_type": "display_data"
    }
   ],
   "source": [
    "fig = plt.figure(figsize=(10, 2.3))\n",
    "\n",
    "axes = plt.subplot(1,2,1)\n",
    "\n",
    "y_pos = np.arange(len(scenarios))"
   ]
  },
  {
   "cell_type": "code",
   "execution_count": 92,
   "id": "85107f4f-9b7c-4f8d-a26c-56d9dffd4d57",
   "metadata": {},
   "outputs": [],
   "source": [
    "tmp = df.loc[df['tec'] == 'base'][location].fillna(0)\n",
    "tmp = tmp.reindex(index = scenarios)\n",
    "leg = axes.barh(y_pos, tmp, width, align='center', color = 'darkred')\n",
    "left = tmp.fillna(0)"
   ]
  },
  {
   "cell_type": "code",
   "execution_count": 93,
   "id": "32305eb9-934e-498f-995c-2ba7c4b73243",
   "metadata": {},
   "outputs": [],
   "source": [
    "tmp = df.loc[df['tec'] == 'peak'][location].fillna(0)\n",
    "tmp = tmp.reindex(index = scenarios)\n",
    "leg = axes.barh(y_pos, tmp, width, left=left, align='center', color = 'black')\n",
    "left = left + tmp.fillna(0)"
   ]
  },
  {
   "cell_type": "code",
   "execution_count": 94,
   "id": "ff18a2f2-a26e-4c67-a7a4-103239cd2ba5",
   "metadata": {},
   "outputs": [
    {
     "data": {
      "text/plain": [
       "model\n",
       "nodal                  35.74\n",
       "with_instrument        33.43\n",
       "agnostic_instrument    41.25\n",
       "without_instrument     18.69\n",
       "Name: south, dtype: float64"
      ]
     },
     "execution_count": 94,
     "metadata": {},
     "output_type": "execute_result"
    }
   ],
   "source": [
    "left"
   ]
  },
  {
   "cell_type": "code",
   "execution_count": 53,
   "id": "c07be6dc-9d82-46eb-bfbd-3cb716ea02df",
   "metadata": {},
   "outputs": [],
   "source": [
    "location = 'south'\n",
    "width = 1"
   ]
  },
  {
   "cell_type": "code",
   "execution_count": 73,
   "id": "e8c7425d-61f8-4545-8d6f-12da9becb21f",
   "metadata": {},
   "outputs": [],
   "source": [
    "tmp = capacities.loc[df['tec'] == 'peak'][location].fillna(0)"
   ]
  },
  {
   "cell_type": "code",
   "execution_count": 77,
   "id": "1436caae-7fd7-47b2-af11-999b53434afa",
   "metadata": {},
   "outputs": [
    {
     "data": {
      "text/plain": [
       "<BarContainer object of 4 artists>"
      ]
     },
     "execution_count": 77,
     "metadata": {},
     "output_type": "execute_result"
    },
    {
     "data": {
      "image/png": "[encoded data removed]",
      "text/plain": [
       "<Figure size 432x288 with 1 Axes>"
      ]
     },
     "metadata": {
      "needs_background": "light"
     },
     "output_type": "display_data"
    }
   ],
   "source": [
    "\n",
    "tmp = tmp.reindex(index = scenarios)\n",
    "plt.barh(y_pos, tmp, width, align='center', color = 'darkred')"
   ]
  },
  {
   "cell_type": "code",
   "execution_count": 74,
   "id": "7b19a043-5316-4f5d-96f7-fce5888a64ee",
   "metadata": {},
   "outputs": [
    {
     "data": {
      "text/plain": [
       "model\n",
       "nodal               2.73\n",
       "with_instrument    18.16\n",
       "Name: south, dtype: float64"
      ]
     },
     "execution_count": 74,
     "metadata": {},
     "output_type": "execute_result"
    }
   ],
   "source": [
    "tmp"
   ]
  },
  {
   "cell_type": "code",
   "execution_count": 96,
   "id": "f89ed63e-d3c5-4ab3-b1f6-4589a4822c58",
   "metadata": {},
   "outputs": [
    {
     "data": {
      "image/png": "[encoded data removed]",
      "text/plain": [
       "<Figure size 720x165.6 with 2 Axes>"
      ]
     },
     "metadata": {
      "needs_background": "light"
     },
     "output_type": "display_data"
    }
   ],
   "source": [
    "#plt.rcdefaults()\n",
    "fig = plt.figure(figsize=(10, 2.3))\n",
    "\n",
    "ax1 = plt.subplot(1,2,1)\n",
    "ax2 = plt.subplot(1,2,2)\n",
    "\n",
    "y_pos = np.arange(len(scenarios))\n",
    "#leg = pd.Dataframe()\n",
    "\n",
    "plot_distribution(capacities, ax1, 'north')\n",
    "axes = plot_distribution(capacities, ax2, 'south')\n",
    "\n",
    "#ax1.set_xlim(0, 205)\n",
    "#ax2.set_xlim(0, 205)\n",
    "\n",
    "ax1.set_title('North')\n",
    "ax2.set_title('South')\n",
    "                        \n",
    "ax2.legend(['Base', 'Peak', 'Wind', 'Solar'], bbox_to_anchor=(1.0, 1))\n",
    "#ax1.legend(['Base', 'Peak', 'Wind', 'Solar'])\n",
    "ax1.set_yticks(y_pos);\n",
    "ax1.set_yticklabels(scenarios); # ['First-best', 'Second-best', 'Single market zone']\n",
    "ax2.set_yticklabels([]);\n",
    "ax1.set_xlabel('Installed capacity in GW')\n",
    "ax2.set_xlabel('Installed capacity in GW')\n",
    "plt.tight_layout()\n",
    "\n",
    "fig.savefig('capacity_distribution.jpeg', dpi=500)"
   ]
  },
  {
   "cell_type": "code",
   "execution_count": 24,
   "id": "e4827868-a344-45c9-9216-edbb71cea775",
   "metadata": {},
   "outputs": [
    {
     "ename": "NameError",
     "evalue": "name 'tmp' is not defined",
     "output_type": "error",
     "traceback": [
      "\u001b[1;31m---------------------------------------------------------------------------\u001b[0m",
      "\u001b[1;31mNameError\u001b[0m                                 Traceback (most recent call last)",
      "\u001b[1;32m<ipython-input-24-52a35c59c6f2>\u001b[0m in \u001b[0;36m<module>\u001b[1;34m\u001b[0m\n\u001b[1;32m----> 1\u001b[1;33m \u001b[0mtmp\u001b[0m\u001b[1;33m\u001b[0m\u001b[1;33m\u001b[0m\u001b[0m\n\u001b[0m",
      "\u001b[1;31mNameError\u001b[0m: name 'tmp' is not defined"
     ]
    }
   ],
   "source": []
  },
  {
   "cell_type": "code",
   "execution_count": 20,
   "id": "56984c35-39bd-4159-82b6-792dac3929ce",
   "metadata": {},
   "outputs": [
    {
     "data": {
      "image/png": "[encoded data removed]",
      "text/plain": [
       "<Figure size 720x165.6 with 2 Axes>"
      ]
     },
     "metadata": {
      "needs_background": "light"
     },
     "output_type": "display_data"
    }
   ],
   "source": [
    "# plot generation\n",
    "#plt.rcdefaults()\n",
    "fig = plt.figure(figsize=(10, 2.3))\n",
    "\n",
    "ax1 = plt.subplot(1,2,1)\n",
    "ax2 = plt.subplot(1,2,2)\n",
    "\n",
    "y_pos = np.arange(len(scenarios))\n",
    "#leg = pd.Dataframe()\n",
    "\n",
    "plot_distribution(gen, ax1, nodes[0])\n",
    "axes = plot_distribution(gen, ax2, nodes[1])\n",
    "\n",
    "#ax1.set_xlim(0, 2250)\n",
    "#ax2.set_xlim(0, 2250)\n",
    "\n",
    "ax1.set_title('North')\n",
    "ax2.set_title('South')\n",
    "                        \n",
    "ax2.legend(['Base', 'Peak', 'Wind', 'Solar'], bbox_to_anchor=(1.0, 1))\n",
    "#ax1.legend(['Base', 'Peak', 'Wind', 'Solar'])\n",
    "ax1.set_yticks(y_pos);\n",
    "ax1.set_yticklabels(scenarios); #['Nodal market', 'Locational instrument', 'Single market zone']);\n",
    "ax2.set_yticklabels([]);\n",
    "ax1.set_xlabel('Generation in GWh')\n",
    "ax2.set_xlabel('Generation in GWh')\n",
    "plt.tight_layout()\n",
    "\n",
    "fig.savefig('generation_distribution.jpeg', dpi=500)"
   ]
  },
  {
   "cell_type": "markdown",
   "id": "a76428a9-c96b-4672-b196-26adf5c07822",
   "metadata": {},
   "source": [
    "# Welfare comparison"
   ]
  },
  {
   "cell_type": "code",
   "execution_count": 21,
   "id": "596a2026-ec24-41f1-9417-e61fcaa04f31",
   "metadata": {},
   "outputs": [],
   "source": [
    "welfare = pd.DataFrame(index = scenarios, columns = ['Network cost', 'Generation cost', 'Gross consumer surplus'])"
   ]
  },
  {
   "cell_type": "code",
   "execution_count": 22,
   "id": "d6ee85d2-1492-4b2f-a9a0-f5a8133da966",
   "metadata": {},
   "outputs": [],
   "source": [
    "for scenario in scenarios:\n",
    "    welfare.loc[scenario, 'Network cost'] = read_data(scenario, 'network_cost').iloc[0,0]\n",
    "    welfare.loc[scenario, 'Generation cost'] = read_data(scenario, 'generation_costs').iloc[0,0]\n",
    "    welfare.loc[scenario, 'Gross consumer surplus'] = read_data(scenario, 'consumer_surplus').iloc[0,0]"
   ]
  },
  {
   "cell_type": "code",
   "execution_count": 23,
   "id": "593d4d92-8f84-46cb-a604-0bff4f463c19",
   "metadata": {},
   "outputs": [],
   "source": [
    "welfare['Welfare'] = welfare['Gross consumer surplus'] - welfare['Network cost'] - welfare['Generation cost'];\n",
    "welfare['Welfare'] = welfare['Welfare']\n",
    "\n"
   ]
  },
  {
   "cell_type": "code",
   "execution_count": 24,
   "id": "0a2ac94a-9b4b-471e-8e21-556a32734352",
   "metadata": {},
   "outputs": [],
   "source": [
    "welfare = welfare / 1000 / 1000"
   ]
  },
  {
   "cell_type": "code",
   "execution_count": 25,
   "id": "43b28ff7-ccfa-4b4a-876a-9ff19a2d82fc",
   "metadata": {},
   "outputs": [
    {
     "data": {
      "text/html": [
       "<style  type=\"text/css\" >\n",
       "</style><table id=\"T_ae945_\" ><thead>    <tr>        <th class=\"blank level0\" ></th>        <th class=\"col_heading level0 col0\" >Network cost</th>        <th class=\"col_heading level0 col1\" >Generation cost</th>        <th class=\"col_heading level0 col2\" >Gross consumer surplus</th>        <th class=\"col_heading level0 col3\" >Welfare</th>    </tr></thead><tbody>\n",
       "                <tr>\n",
       "                        <th id=\"T_ae945_level0_row0\" class=\"row_heading level0 row0\" >nodal</th>\n",
       "                        <td id=\"T_ae945_row0_col0\" class=\"data row0 col0\" >1,595</td>\n",
       "                        <td id=\"T_ae945_row0_col1\" class=\"data row0 col1\" >29,719</td>\n",
       "                        <td id=\"T_ae945_row0_col2\" class=\"data row0 col2\" >102,516</td>\n",
       "                        <td id=\"T_ae945_row0_col3\" class=\"data row0 col3\" >71,202</td>\n",
       "            </tr>\n",
       "            <tr>\n",
       "                        <th id=\"T_ae945_level0_row1\" class=\"row_heading level0 row1\" >with_instrument</th>\n",
       "                        <td id=\"T_ae945_row1_col0\" class=\"data row1 col0\" >2</td>\n",
       "                        <td id=\"T_ae945_row1_col1\" class=\"data row1 col1\" >31</td>\n",
       "                        <td id=\"T_ae945_row1_col2\" class=\"data row1 col2\" >101</td>\n",
       "                        <td id=\"T_ae945_row1_col3\" class=\"data row1 col3\" >68</td>\n",
       "            </tr>\n",
       "            <tr>\n",
       "                        <th id=\"T_ae945_level0_row2\" class=\"row_heading level0 row2\" >agnostic_instrument</th>\n",
       "                        <td id=\"T_ae945_row2_col0\" class=\"data row2 col0\" >2,273</td>\n",
       "                        <td id=\"T_ae945_row2_col1\" class=\"data row2 col1\" >29,776</td>\n",
       "                        <td id=\"T_ae945_row2_col2\" class=\"data row2 col2\" >101,689</td>\n",
       "                        <td id=\"T_ae945_row2_col3\" class=\"data row2 col3\" >69,640</td>\n",
       "            </tr>\n",
       "            <tr>\n",
       "                        <th id=\"T_ae945_level0_row3\" class=\"row_heading level0 row3\" >without_instrument</th>\n",
       "                        <td id=\"T_ae945_row3_col0\" class=\"data row3 col0\" >4,064</td>\n",
       "                        <td id=\"T_ae945_row3_col1\" class=\"data row3 col1\" >32,977</td>\n",
       "                        <td id=\"T_ae945_row3_col2\" class=\"data row3 col2\" >103,021</td>\n",
       "                        <td id=\"T_ae945_row3_col3\" class=\"data row3 col3\" >65,980</td>\n",
       "            </tr>\n",
       "    </tbody></table>"
      ],
      "text/plain": [
       "<pandas.io.formats.style.Styler at 0x1d7dad245b0>"
      ]
     },
     "execution_count": 25,
     "metadata": {},
     "output_type": "execute_result"
    }
   ],
   "source": [
    "welfare.style.format('{0:,.0f}')"
   ]
  },
  {
   "cell_type": "markdown",
   "id": "dcc55c93-5cee-4bbb-a833-9f9533801678",
   "metadata": {},
   "source": [
    "# Instrument level"
   ]
  },
  {
   "cell_type": "code",
   "execution_count": 27,
   "id": "e337a326-2901-4d28-a580-67caecaf6ee2",
   "metadata": {},
   "outputs": [
    {
     "ename": "GdxError",
     "evalue": "Could not open 'Capacity Instrument.gdx'. No such file or directory.",
     "output_type": "error",
     "traceback": [
      "\u001b[1;31m---------------------------------------------------------------------------\u001b[0m",
      "\u001b[1;31mGdxError\u001b[0m                                  Traceback (most recent call last)",
      "\u001b[1;32m<ipython-input-27-633158181dba>\u001b[0m in \u001b[0;36m<module>\u001b[1;34m\u001b[0m\n\u001b[1;32m----> 1\u001b[1;33m \u001b[0mfixed_costs\u001b[0m \u001b[1;33m=\u001b[0m \u001b[0mread_data\u001b[0m\u001b[1;33m(\u001b[0m\u001b[1;34m'Capacity Instrument'\u001b[0m\u001b[1;33m,\u001b[0m \u001b[1;34m'c_fix'\u001b[0m\u001b[1;33m)\u001b[0m\u001b[1;33m.\u001b[0m\u001b[0mreset_index\u001b[0m\u001b[1;33m(\u001b[0m\u001b[0mdrop\u001b[0m \u001b[1;33m=\u001b[0m \u001b[1;32mTrue\u001b[0m\u001b[1;33m)\u001b[0m\u001b[1;33m.\u001b[0m\u001b[0mset_index\u001b[0m\u001b[1;33m(\u001b[0m\u001b[1;33m[\u001b[0m\u001b[1;34m'tec'\u001b[0m\u001b[1;33m,\u001b[0m\u001b[1;34m'n'\u001b[0m\u001b[1;33m]\u001b[0m\u001b[1;33m)\u001b[0m\u001b[1;33m.\u001b[0m\u001b[0munstack\u001b[0m\u001b[1;33m(\u001b[0m\u001b[1;33m)\u001b[0m\u001b[1;33m\u001b[0m\u001b[1;33m\u001b[0m\u001b[0m\n\u001b[0m\u001b[0;32m      2\u001b[0m \u001b[1;31m#fixed_costs.columns = fixed_costs.columns.droplevel(0)\u001b[0m\u001b[1;33m\u001b[0m\u001b[1;33m\u001b[0m\u001b[1;33m\u001b[0m\u001b[0m\n",
      "\u001b[1;32m<ipython-input-13-c6a85bd2472c>\u001b[0m in \u001b[0;36mread_data\u001b[1;34m(file, indicator)\u001b[0m\n\u001b[0;32m      1\u001b[0m \u001b[1;32mdef\u001b[0m \u001b[0mread_data\u001b[0m\u001b[1;33m(\u001b[0m\u001b[0mfile\u001b[0m\u001b[1;33m,\u001b[0m \u001b[0mindicator\u001b[0m\u001b[1;33m)\u001b[0m\u001b[1;33m:\u001b[0m\u001b[1;33m\u001b[0m\u001b[1;33m\u001b[0m\u001b[0m\n\u001b[0;32m      2\u001b[0m     \u001b[0mgams_dir\u001b[0m\u001b[1;33m=\u001b[0m\u001b[1;34m'C:\\Program Files\\GAMS'\u001b[0m\u001b[1;33m\u001b[0m\u001b[1;33m\u001b[0m\u001b[0m\n\u001b[1;32m----> 3\u001b[1;33m     \u001b[0mdf\u001b[0m \u001b[1;33m=\u001b[0m \u001b[0mgdxpds\u001b[0m\u001b[1;33m.\u001b[0m\u001b[0mto_dataframes\u001b[0m\u001b[1;33m(\u001b[0m\u001b[0mstr\u001b[0m\u001b[1;33m(\u001b[0m\u001b[0mfile\u001b[0m\u001b[1;33m)\u001b[0m \u001b[1;33m+\u001b[0m \u001b[1;34m'.gdx'\u001b[0m\u001b[1;33m,\u001b[0m \u001b[0mgams_dir\u001b[0m\u001b[1;33m=\u001b[0m\u001b[0mgams_dir\u001b[0m\u001b[1;33m)\u001b[0m\u001b[1;33m\u001b[0m\u001b[1;33m\u001b[0m\u001b[0m\n\u001b[0m\u001b[0;32m      4\u001b[0m     \u001b[0mdf\u001b[0m \u001b[1;33m=\u001b[0m \u001b[0mdf\u001b[0m\u001b[1;33m[\u001b[0m\u001b[0mindicator\u001b[0m\u001b[1;33m]\u001b[0m\u001b[1;33m\u001b[0m\u001b[1;33m\u001b[0m\u001b[0m\n\u001b[0;32m      5\u001b[0m     \u001b[0mdf\u001b[0m\u001b[1;33m[\u001b[0m\u001b[1;34m'model'\u001b[0m\u001b[1;33m]\u001b[0m \u001b[1;33m=\u001b[0m \u001b[0mfile\u001b[0m\u001b[1;33m\u001b[0m\u001b[1;33m\u001b[0m\u001b[0m\n",
      "\u001b[1;32m~\\miniconda3\\lib\\site-packages\\gdxpds\\read_gdx.py\u001b[0m in \u001b[0;36mto_dataframes\u001b[1;34m(gdx_file, gams_dir)\u001b[0m\n\u001b[0;32m    114\u001b[0m     \u001b[0mfile\u001b[0m\u001b[1;33m,\u001b[0m \u001b[0mkeyed\u001b[0m \u001b[1;32mwith\u001b[0m \u001b[0mthe\u001b[0m \u001b[0msymbol\u001b[0m \u001b[0mname\u001b[0m\u001b[1;33m.\u001b[0m\u001b[1;33m\u001b[0m\u001b[1;33m\u001b[0m\u001b[0m\n\u001b[0;32m    115\u001b[0m     \"\"\"\n\u001b[1;32m--> 116\u001b[1;33m     \u001b[0mdfs\u001b[0m \u001b[1;33m=\u001b[0m \u001b[0mTranslator\u001b[0m\u001b[1;33m(\u001b[0m\u001b[0mgdx_file\u001b[0m\u001b[1;33m,\u001b[0m\u001b[0mgams_dir\u001b[0m\u001b[1;33m=\u001b[0m\u001b[0mgams_dir\u001b[0m\u001b[1;33m)\u001b[0m\u001b[1;33m.\u001b[0m\u001b[0mdataframes\u001b[0m\u001b[1;33m\u001b[0m\u001b[1;33m\u001b[0m\u001b[0m\n\u001b[0m\u001b[0;32m    117\u001b[0m     \u001b[1;32mreturn\u001b[0m \u001b[0mdfs\u001b[0m\u001b[1;33m\u001b[0m\u001b[1;33m\u001b[0m\u001b[0m\n\u001b[0;32m    118\u001b[0m \u001b[1;33m\u001b[0m\u001b[0m\n",
      "\u001b[1;32m~\\miniconda3\\lib\\site-packages\\gdxpds\\read_gdx.py\u001b[0m in \u001b[0;36m__init__\u001b[1;34m(self, gdx_file, gams_dir, lazy_load)\u001b[0m\n\u001b[0;32m     49\u001b[0m     \u001b[1;32mdef\u001b[0m \u001b[0m__init__\u001b[0m\u001b[1;33m(\u001b[0m\u001b[0mself\u001b[0m\u001b[1;33m,\u001b[0m\u001b[0mgdx_file\u001b[0m\u001b[1;33m,\u001b[0m\u001b[0mgams_dir\u001b[0m\u001b[1;33m=\u001b[0m\u001b[1;32mNone\u001b[0m\u001b[1;33m,\u001b[0m\u001b[0mlazy_load\u001b[0m\u001b[1;33m=\u001b[0m\u001b[1;32mFalse\u001b[0m\u001b[1;33m)\u001b[0m\u001b[1;33m:\u001b[0m\u001b[1;33m\u001b[0m\u001b[1;33m\u001b[0m\u001b[0m\n\u001b[0;32m     50\u001b[0m         \u001b[0mself\u001b[0m\u001b[1;33m.\u001b[0m\u001b[0m__gdx\u001b[0m \u001b[1;33m=\u001b[0m \u001b[0mGdxFile\u001b[0m\u001b[1;33m(\u001b[0m\u001b[0mgams_dir\u001b[0m\u001b[1;33m=\u001b[0m\u001b[0mgams_dir\u001b[0m\u001b[1;33m,\u001b[0m\u001b[0mlazy_load\u001b[0m\u001b[1;33m=\u001b[0m\u001b[0mlazy_load\u001b[0m\u001b[1;33m)\u001b[0m\u001b[1;33m\u001b[0m\u001b[1;33m\u001b[0m\u001b[0m\n\u001b[1;32m---> 51\u001b[1;33m         \u001b[0mself\u001b[0m\u001b[1;33m.\u001b[0m\u001b[0m__gdx\u001b[0m\u001b[1;33m.\u001b[0m\u001b[0mread\u001b[0m\u001b[1;33m(\u001b[0m\u001b[0mgdx_file\u001b[0m\u001b[1;33m)\u001b[0m\u001b[1;33m\u001b[0m\u001b[1;33m\u001b[0m\u001b[0m\n\u001b[0m\u001b[0;32m     52\u001b[0m         \u001b[0mself\u001b[0m\u001b[1;33m.\u001b[0m\u001b[0m__dataframes\u001b[0m \u001b[1;33m=\u001b[0m \u001b[1;32mNone\u001b[0m\u001b[1;33m\u001b[0m\u001b[1;33m\u001b[0m\u001b[0m\n\u001b[0;32m     53\u001b[0m \u001b[1;33m\u001b[0m\u001b[0m\n",
      "\u001b[1;32m~\\miniconda3\\lib\\site-packages\\gdxpds\\gdx.py\u001b[0m in \u001b[0;36mread\u001b[1;34m(self, filename)\u001b[0m\n\u001b[0;32m    236\u001b[0m         \u001b[0mrc\u001b[0m \u001b[1;33m=\u001b[0m \u001b[0mgdxcc\u001b[0m\u001b[1;33m.\u001b[0m\u001b[0mgdxOpenRead\u001b[0m\u001b[1;33m(\u001b[0m\u001b[0mself\u001b[0m\u001b[1;33m.\u001b[0m\u001b[0mH\u001b[0m\u001b[1;33m,\u001b[0m\u001b[0mstr\u001b[0m\u001b[1;33m(\u001b[0m\u001b[0mfilename\u001b[0m\u001b[1;33m)\u001b[0m\u001b[1;33m)\u001b[0m\u001b[1;33m\u001b[0m\u001b[1;33m\u001b[0m\u001b[0m\n\u001b[0;32m    237\u001b[0m         \u001b[1;32mif\u001b[0m \u001b[1;32mnot\u001b[0m \u001b[0mrc\u001b[0m\u001b[1;33m[\u001b[0m\u001b[1;36m0\u001b[0m\u001b[1;33m]\u001b[0m\u001b[1;33m:\u001b[0m\u001b[1;33m\u001b[0m\u001b[1;33m\u001b[0m\u001b[0m\n\u001b[1;32m--> 238\u001b[1;33m             \u001b[1;32mraise\u001b[0m \u001b[0mGdxError\u001b[0m\u001b[1;33m(\u001b[0m\u001b[0mself\u001b[0m\u001b[1;33m.\u001b[0m\u001b[0mH\u001b[0m\u001b[1;33m,\u001b[0m\u001b[1;34mf\"Could not open {filename!r}\"\u001b[0m\u001b[1;33m)\u001b[0m\u001b[1;33m\u001b[0m\u001b[1;33m\u001b[0m\u001b[0m\n\u001b[0m\u001b[0;32m    239\u001b[0m         \u001b[0mself\u001b[0m\u001b[1;33m.\u001b[0m\u001b[0m_filename\u001b[0m \u001b[1;33m=\u001b[0m \u001b[0mfilename\u001b[0m\u001b[1;33m\u001b[0m\u001b[1;33m\u001b[0m\u001b[0m\n\u001b[0;32m    240\u001b[0m \u001b[1;33m\u001b[0m\u001b[0m\n",
      "\u001b[1;31mGdxError\u001b[0m: Could not open 'Capacity Instrument.gdx'. No such file or directory."
     ]
    }
   ],
   "source": [
    "fixed_costs = read_data('Capacity Instrument', 'c_fix').reset_index(drop = True).set_index(['tec','n']).unstack()\n",
    "#fixed_costs.columns = fixed_costs.columns.droplevel(0)"
   ]
  },
  {
   "cell_type": "code",
   "execution_count": 131,
   "id": "979b188e-1385-44e8-bd5d-6c0b013c5e48",
   "metadata": {},
   "outputs": [],
   "source": [
    "instr = read_data('Capacity Instrument', 'i_instrument').reset_index(drop = True).set_index(['tec','n']).unstack()\n",
    "instr.columns = instr.columns.droplevel(0)\n",
    "#instrument.loc['wind','south'] = 0\n",
    "instr = instr.round(1)"
   ]
  },
  {
   "cell_type": "code",
   "execution_count": 132,
   "id": "5385ca8f-bcfc-48e4-9a95-4240bd81b4b7",
   "metadata": {},
   "outputs": [],
   "source": [
    "cap = read_data('Capacity Instrument', 'i_cap').reset_index(drop = True).set_index(['tec','n']).unstack()\n",
    "cap.columns = cap.columns.droplevel(0)\n",
    "instr[cap.isna()] = np.nan"
   ]
  },
  {
   "cell_type": "code",
   "execution_count": 133,
   "id": "b267b4e5-510d-4a00-aec7-8d23b6db6b33",
   "metadata": {},
   "outputs": [],
   "source": [
    "shares = round(100 *instr / fixed_costs,1)"
   ]
  },
  {
   "cell_type": "code",
   "execution_count": 134,
   "id": "c9648b36-44f9-4b1a-ac20-04013d764707",
   "metadata": {},
   "outputs": [],
   "source": [
    "shares = shares.rename(columns={'north':'north (share)', 'south': 'south (share)'})\n",
    "shares.columns = shares.columns.droplevel(0)"
   ]
  },
  {
   "cell_type": "code",
   "execution_count": 135,
   "id": "d846379d-a4af-465e-a794-ff5f6f1fe951",
   "metadata": {},
   "outputs": [],
   "source": [
    "instrument = pd.concat([instr, shares], axis=1)\n",
    "instrument = instrument.sort_index(axis = 1)"
   ]
  },
  {
   "cell_type": "code",
   "execution_count": 136,
   "id": "da9cd7bf-9eb4-4f15-8d61-ba5d3539caee",
   "metadata": {},
   "outputs": [],
   "source": [
    "fixed_costs.columns = fixed_costs.columns.droplevel(0)\n",
    "instrument['Fixed cost'] = fixed_costs['north']"
   ]
  },
  {
   "cell_type": "code",
   "execution_count": 137,
   "id": "497eda19-bd00-47d3-8e56-0d747345a8b8",
   "metadata": {},
   "outputs": [
    {
     "data": {
      "text/html": [
       "<style  type=\"text/css\" >\n",
       "</style><table id=\"T_b7269_\" ><thead>    <tr>        <th class=\"index_name level0\" >n</th>        <th class=\"col_heading level0 col0\" >north</th>        <th class=\"col_heading level0 col1\" >north (share)</th>        <th class=\"col_heading level0 col2\" >south</th>        <th class=\"col_heading level0 col3\" >south (share)</th>        <th class=\"col_heading level0 col4\" >Fixed cost</th>    </tr>    <tr>        <th class=\"index_name level0\" >tec</th>        <th class=\"blank\" ></th>        <th class=\"blank\" ></th>        <th class=\"blank\" ></th>        <th class=\"blank\" ></th>        <th class=\"blank\" ></th>    </tr></thead><tbody>\n",
       "                <tr>\n",
       "                        <th id=\"T_b7269_level0_row0\" class=\"row_heading level0 row0\" >base</th>\n",
       "                        <td id=\"T_b7269_row0_col0\" class=\"data row0 col0\" >450 €</td>\n",
       "                        <td id=\"T_b7269_row0_col1\" class=\"data row0 col1\" >82%</td>\n",
       "                        <td id=\"T_b7269_row0_col2\" class=\"data row0 col2\" >430 €</td>\n",
       "                        <td id=\"T_b7269_row0_col3\" class=\"data row0 col3\" >78%</td>\n",
       "                        <td id=\"T_b7269_row0_col4\" class=\"data row0 col4\" >548 €</td>\n",
       "            </tr>\n",
       "            <tr>\n",
       "                        <th id=\"T_b7269_level0_row1\" class=\"row_heading level0 row1\" >peak</th>\n",
       "                        <td id=\"T_b7269_row1_col0\" class=\"data row1 col0\" >-126 €</td>\n",
       "                        <td id=\"T_b7269_row1_col1\" class=\"data row1 col1\" >-72%</td>\n",
       "                        <td id=\"T_b7269_row1_col2\" class=\"data row1 col2\" >-178 €</td>\n",
       "                        <td id=\"T_b7269_row1_col3\" class=\"data row1 col3\" >-102%</td>\n",
       "                        <td id=\"T_b7269_row1_col4\" class=\"data row1 col4\" >175 €</td>\n",
       "            </tr>\n",
       "            <tr>\n",
       "                        <th id=\"T_b7269_level0_row2\" class=\"row_heading level0 row2\" >solar</th>\n",
       "                        <td id=\"T_b7269_row2_col0\" class=\"data row2 col0\" >120 €</td>\n",
       "                        <td id=\"T_b7269_row2_col1\" class=\"data row2 col1\" >48%</td>\n",
       "                        <td id=\"T_b7269_row2_col2\" class=\"data row2 col2\" >114 €</td>\n",
       "                        <td id=\"T_b7269_row2_col3\" class=\"data row2 col3\" >46%</td>\n",
       "                        <td id=\"T_b7269_row2_col4\" class=\"data row2 col4\" >247 €</td>\n",
       "            </tr>\n",
       "            <tr>\n",
       "                        <th id=\"T_b7269_level0_row3\" class=\"row_heading level0 row3\" >wind</th>\n",
       "                        <td id=\"T_b7269_row3_col0\" class=\"data row3 col0\" >276 €</td>\n",
       "                        <td id=\"T_b7269_row3_col1\" class=\"data row3 col1\" >63%</td>\n",
       "                        <td id=\"T_b7269_row3_col2\" class=\"data row3 col2\" >29 €</td>\n",
       "                        <td id=\"T_b7269_row3_col3\" class=\"data row3 col3\" >7%</td>\n",
       "                        <td id=\"T_b7269_row3_col4\" class=\"data row3 col4\" >438 €</td>\n",
       "            </tr>\n",
       "    </tbody></table>"
      ],
      "text/plain": [
       "<pandas.io.formats.style.Styler at 0x1fe33ff69a0>"
      ]
     },
     "execution_count": 137,
     "metadata": {},
     "output_type": "execute_result"
    }
   ],
   "source": [
    "format_dict = {'north':'{0:,.0f} €', 'north (share)': '{0:,.0f}%', 'south': '{0:,.0f} €', 'south (share)': '{0:,.0f}%', 'Fixed cost': '{0:,.0f} €'}\n",
    "instrument.style.format(format_dict)"
   ]
  },
  {
   "cell_type": "code",
   "execution_count": 122,
   "id": "48d374b7-9a7e-4036-8e7e-c173a574028c",
   "metadata": {},
   "outputs": [
    {
     "data": {
      "text/html": [
       "<div>\n",
       "<style scoped>\n",
       "    .dataframe tbody tr th:only-of-type {\n",
       "        vertical-align: middle;\n",
       "    }\n",
       "\n",
       "    .dataframe tbody tr th {\n",
       "        vertical-align: top;\n",
       "    }\n",
       "\n",
       "    .dataframe thead th {\n",
       "        text-align: right;\n",
       "    }\n",
       "</style>\n",
       "<table border=\"1\" class=\"dataframe\">\n",
       "  <thead>\n",
       "    <tr style=\"text-align: right;\">\n",
       "      <th>n</th>\n",
       "      <th>north</th>\n",
       "      <th>south</th>\n",
       "    </tr>\n",
       "    <tr>\n",
       "      <th>tec</th>\n",
       "      <th></th>\n",
       "      <th></th>\n",
       "    </tr>\n",
       "  </thead>\n",
       "  <tbody>\n",
       "    <tr>\n",
       "      <th>base</th>\n",
       "      <td>250.0</td>\n",
       "      <td>230.4</td>\n",
       "    </tr>\n",
       "    <tr>\n",
       "      <th>peak</th>\n",
       "      <td>NaN</td>\n",
       "      <td>-159.8</td>\n",
       "    </tr>\n",
       "    <tr>\n",
       "      <th>solar</th>\n",
       "      <td>-1.0</td>\n",
       "      <td>-37.0</td>\n",
       "    </tr>\n",
       "    <tr>\n",
       "      <th>wind</th>\n",
       "      <td>112.9</td>\n",
       "      <td>-129.2</td>\n",
       "    </tr>\n",
       "  </tbody>\n",
       "</table>\n",
       "</div>"
      ],
      "text/plain": [
       "n      north  south\n",
       "tec                \n",
       "base   250.0  230.4\n",
       "peak     NaN -159.8\n",
       "solar   -1.0  -37.0\n",
       "wind   112.9 -129.2"
      ]
     },
     "execution_count": 122,
     "metadata": {},
     "output_type": "execute_result"
    }
   ],
   "source": [
    "instr"
   ]
  },
  {
   "cell_type": "code",
   "execution_count": 99,
   "id": "69d3feb9-1695-45a2-b5c4-b71db3f49bd5",
   "metadata": {},
   "outputs": [
    {
     "data": {
      "text/html": [
       "<div>\n",
       "<style scoped>\n",
       "    .dataframe tbody tr th:only-of-type {\n",
       "        vertical-align: middle;\n",
       "    }\n",
       "\n",
       "    .dataframe tbody tr th {\n",
       "        vertical-align: top;\n",
       "    }\n",
       "\n",
       "    .dataframe thead th {\n",
       "        text-align: right;\n",
       "    }\n",
       "</style>\n",
       "<table border=\"1\" class=\"dataframe\">\n",
       "  <thead>\n",
       "    <tr style=\"text-align: right;\">\n",
       "      <th>n</th>\n",
       "      <th>north</th>\n",
       "      <th>south</th>\n",
       "    </tr>\n",
       "    <tr>\n",
       "      <th>tec</th>\n",
       "      <th></th>\n",
       "      <th></th>\n",
       "    </tr>\n",
       "  </thead>\n",
       "  <tbody>\n",
       "    <tr>\n",
       "      <th>base</th>\n",
       "      <td>0.2</td>\n",
       "      <td>1.3</td>\n",
       "    </tr>\n",
       "    <tr>\n",
       "      <th>peak</th>\n",
       "      <td>0.3</td>\n",
       "      <td>0.1</td>\n",
       "    </tr>\n",
       "    <tr>\n",
       "      <th>solar</th>\n",
       "      <td>1.5</td>\n",
       "      <td>4.4</td>\n",
       "    </tr>\n",
       "    <tr>\n",
       "      <th>wind</th>\n",
       "      <td>2.5</td>\n",
       "      <td>2.0</td>\n",
       "    </tr>\n",
       "  </tbody>\n",
       "</table>\n",
       "</div>"
      ],
      "text/plain": [
       "n      north  south\n",
       "tec                \n",
       "base     0.2    1.3\n",
       "peak     0.3    0.1\n",
       "solar    1.5    4.4\n",
       "wind     2.5    2.0"
      ]
     },
     "execution_count": 99,
     "metadata": {},
     "output_type": "execute_result"
    }
   ],
   "source": [
    "# marginal price adder\n",
    "mpa = cap*50 / 1000\n",
    "mpa = mpa.round(1)\n",
    "mpa"
   ]
  },
  {
   "cell_type": "code",
   "execution_count": 94,
   "id": "714ade7b-cafd-41c3-9b0b-fbccc545256d",
   "metadata": {},
   "outputs": [],
   "source": [
    "costs = pd.concat([instrument, mpa], axis=1)"
   ]
  },
  {
   "cell_type": "code",
   "execution_count": 96,
   "id": "0f1fe610-f1b5-4eda-8659-bf9adac010d4",
   "metadata": {},
   "outputs": [
    {
     "data": {
      "text/html": [
       "<div>\n",
       "<style scoped>\n",
       "    .dataframe tbody tr th:only-of-type {\n",
       "        vertical-align: middle;\n",
       "    }\n",
       "\n",
       "    .dataframe tbody tr th {\n",
       "        vertical-align: top;\n",
       "    }\n",
       "\n",
       "    .dataframe thead th {\n",
       "        text-align: right;\n",
       "    }\n",
       "</style>\n",
       "<table border=\"1\" class=\"dataframe\">\n",
       "  <thead>\n",
       "    <tr style=\"text-align: right;\">\n",
       "      <th>n</th>\n",
       "      <th>north</th>\n",
       "      <th>north (share)</th>\n",
       "      <th>south</th>\n",
       "      <th>south (share)</th>\n",
       "      <th>Fixed cost</th>\n",
       "      <th>north</th>\n",
       "      <th>south</th>\n",
       "    </tr>\n",
       "    <tr>\n",
       "      <th>tec</th>\n",
       "      <th></th>\n",
       "      <th></th>\n",
       "      <th></th>\n",
       "      <th></th>\n",
       "      <th></th>\n",
       "      <th></th>\n",
       "      <th></th>\n",
       "    </tr>\n",
       "  </thead>\n",
       "  <tbody>\n",
       "    <tr>\n",
       "      <th>base</th>\n",
       "      <td>205.8</td>\n",
       "      <td>39.5</td>\n",
       "      <td>187.0</td>\n",
       "      <td>35.9</td>\n",
       "      <td>521.0</td>\n",
       "      <td>1.0</td>\n",
       "      <td>5.2</td>\n",
       "    </tr>\n",
       "    <tr>\n",
       "      <th>peak</th>\n",
       "      <td>19.9</td>\n",
       "      <td>11.4</td>\n",
       "      <td>21.2</td>\n",
       "      <td>12.1</td>\n",
       "      <td>175.0</td>\n",
       "      <td>1.0</td>\n",
       "      <td>0.4</td>\n",
       "    </tr>\n",
       "    <tr>\n",
       "      <th>solar</th>\n",
       "      <td>7.3</td>\n",
       "      <td>2.7</td>\n",
       "      <td>12.5</td>\n",
       "      <td>4.6</td>\n",
       "      <td>274.0</td>\n",
       "      <td>6.0</td>\n",
       "      <td>17.6</td>\n",
       "    </tr>\n",
       "    <tr>\n",
       "      <th>wind</th>\n",
       "      <td>181.2</td>\n",
       "      <td>38.9</td>\n",
       "      <td>-16.8</td>\n",
       "      <td>-3.6</td>\n",
       "      <td>466.0</td>\n",
       "      <td>10.0</td>\n",
       "      <td>7.9</td>\n",
       "    </tr>\n",
       "  </tbody>\n",
       "</table>\n",
       "</div>"
      ],
      "text/plain": [
       "n      north  north (share)  south  south (share)  Fixed cost  north  south\n",
       "tec                                                                        \n",
       "base   205.8           39.5  187.0           35.9       521.0    1.0    5.2\n",
       "peak    19.9           11.4   21.2           12.1       175.0    1.0    0.4\n",
       "solar    7.3            2.7   12.5            4.6       274.0    6.0   17.6\n",
       "wind   181.2           38.9  -16.8           -3.6       466.0   10.0    7.9"
      ]
     },
     "execution_count": 96,
     "metadata": {},
     "output_type": "execute_result"
    }
   ],
   "source": [
    "costs"
   ]
  },
  {
   "cell_type": "code",
   "execution_count": 95,
   "id": "4294c35d-0cdf-4bd6-ad86-03ecfc5d1939",
   "metadata": {},
   "outputs": [
    {
     "ename": "ValueError",
     "evalue": "cannot reindex from a duplicate axis",
     "output_type": "error",
     "traceback": [
      "\u001b[1;31m---------------------------------------------------------------------------\u001b[0m",
      "\u001b[1;31mValueError\u001b[0m                                Traceback (most recent call last)",
      "\u001b[1;32m<ipython-input-95-64e5e0c93718>\u001b[0m in \u001b[0;36m<module>\u001b[1;34m\u001b[0m\n\u001b[1;32m----> 1\u001b[1;33m \u001b[0mcosts\u001b[0m\u001b[1;33m[\u001b[0m\u001b[1;34m'south rel'\u001b[0m\u001b[1;33m]\u001b[0m \u001b[1;33m=\u001b[0m \u001b[0mcosts\u001b[0m\u001b[1;33m[\u001b[0m\u001b[1;34m'south'\u001b[0m\u001b[1;33m]\u001b[0m \u001b[1;33m/\u001b[0m \u001b[0mcosts\u001b[0m\u001b[1;33m[\u001b[0m\u001b[1;34m'Fixed cost'\u001b[0m\u001b[1;33m]\u001b[0m\u001b[1;33m\u001b[0m\u001b[1;33m\u001b[0m\u001b[0m\n\u001b[0m",
      "\u001b[1;32m~\\miniconda3\\lib\\site-packages\\pandas\\core\\ops\\common.py\u001b[0m in \u001b[0;36mnew_method\u001b[1;34m(self, other)\u001b[0m\n\u001b[0;32m     63\u001b[0m         \u001b[0mother\u001b[0m \u001b[1;33m=\u001b[0m \u001b[0mitem_from_zerodim\u001b[0m\u001b[1;33m(\u001b[0m\u001b[0mother\u001b[0m\u001b[1;33m)\u001b[0m\u001b[1;33m\u001b[0m\u001b[1;33m\u001b[0m\u001b[0m\n\u001b[0;32m     64\u001b[0m \u001b[1;33m\u001b[0m\u001b[0m\n\u001b[1;32m---> 65\u001b[1;33m         \u001b[1;32mreturn\u001b[0m \u001b[0mmethod\u001b[0m\u001b[1;33m(\u001b[0m\u001b[0mself\u001b[0m\u001b[1;33m,\u001b[0m \u001b[0mother\u001b[0m\u001b[1;33m)\u001b[0m\u001b[1;33m\u001b[0m\u001b[1;33m\u001b[0m\u001b[0m\n\u001b[0m\u001b[0;32m     66\u001b[0m \u001b[1;33m\u001b[0m\u001b[0m\n\u001b[0;32m     67\u001b[0m     \u001b[1;32mreturn\u001b[0m \u001b[0mnew_method\u001b[0m\u001b[1;33m\u001b[0m\u001b[1;33m\u001b[0m\u001b[0m\n",
      "\u001b[1;32m~\\miniconda3\\lib\\site-packages\\pandas\\core\\arraylike.py\u001b[0m in \u001b[0;36m__truediv__\u001b[1;34m(self, other)\u001b[0m\n\u001b[0;32m    111\u001b[0m     \u001b[1;33m@\u001b[0m\u001b[0munpack_zerodim_and_defer\u001b[0m\u001b[1;33m(\u001b[0m\u001b[1;34m\"__truediv__\"\u001b[0m\u001b[1;33m)\u001b[0m\u001b[1;33m\u001b[0m\u001b[1;33m\u001b[0m\u001b[0m\n\u001b[0;32m    112\u001b[0m     \u001b[1;32mdef\u001b[0m \u001b[0m__truediv__\u001b[0m\u001b[1;33m(\u001b[0m\u001b[0mself\u001b[0m\u001b[1;33m,\u001b[0m \u001b[0mother\u001b[0m\u001b[1;33m)\u001b[0m\u001b[1;33m:\u001b[0m\u001b[1;33m\u001b[0m\u001b[1;33m\u001b[0m\u001b[0m\n\u001b[1;32m--> 113\u001b[1;33m         \u001b[1;32mreturn\u001b[0m \u001b[0mself\u001b[0m\u001b[1;33m.\u001b[0m\u001b[0m_arith_method\u001b[0m\u001b[1;33m(\u001b[0m\u001b[0mother\u001b[0m\u001b[1;33m,\u001b[0m \u001b[0moperator\u001b[0m\u001b[1;33m.\u001b[0m\u001b[0mtruediv\u001b[0m\u001b[1;33m)\u001b[0m\u001b[1;33m\u001b[0m\u001b[1;33m\u001b[0m\u001b[0m\n\u001b[0m\u001b[0;32m    114\u001b[0m \u001b[1;33m\u001b[0m\u001b[0m\n\u001b[0;32m    115\u001b[0m     \u001b[1;33m@\u001b[0m\u001b[0munpack_zerodim_and_defer\u001b[0m\u001b[1;33m(\u001b[0m\u001b[1;34m\"__rtruediv__\"\u001b[0m\u001b[1;33m)\u001b[0m\u001b[1;33m\u001b[0m\u001b[1;33m\u001b[0m\u001b[0m\n",
      "\u001b[1;32m~\\miniconda3\\lib\\site-packages\\pandas\\core\\frame.py\u001b[0m in \u001b[0;36m_arith_method\u001b[1;34m(self, other, op)\u001b[0m\n\u001b[0;32m   5978\u001b[0m         \u001b[0maxis\u001b[0m \u001b[1;33m=\u001b[0m \u001b[1;36m1\u001b[0m  \u001b[1;31m# only relevant for Series other case\u001b[0m\u001b[1;33m\u001b[0m\u001b[1;33m\u001b[0m\u001b[0m\n\u001b[0;32m   5979\u001b[0m \u001b[1;33m\u001b[0m\u001b[0m\n\u001b[1;32m-> 5980\u001b[1;33m         \u001b[0mself\u001b[0m\u001b[1;33m,\u001b[0m \u001b[0mother\u001b[0m \u001b[1;33m=\u001b[0m \u001b[0mops\u001b[0m\u001b[1;33m.\u001b[0m\u001b[0malign_method_FRAME\u001b[0m\u001b[1;33m(\u001b[0m\u001b[0mself\u001b[0m\u001b[1;33m,\u001b[0m \u001b[0mother\u001b[0m\u001b[1;33m,\u001b[0m \u001b[0maxis\u001b[0m\u001b[1;33m,\u001b[0m \u001b[0mflex\u001b[0m\u001b[1;33m=\u001b[0m\u001b[1;32mTrue\u001b[0m\u001b[1;33m,\u001b[0m \u001b[0mlevel\u001b[0m\u001b[1;33m=\u001b[0m\u001b[1;32mNone\u001b[0m\u001b[1;33m)\u001b[0m\u001b[1;33m\u001b[0m\u001b[1;33m\u001b[0m\u001b[0m\n\u001b[0m\u001b[0;32m   5981\u001b[0m \u001b[1;33m\u001b[0m\u001b[0m\n\u001b[0;32m   5982\u001b[0m         \u001b[0mnew_data\u001b[0m \u001b[1;33m=\u001b[0m \u001b[0mself\u001b[0m\u001b[1;33m.\u001b[0m\u001b[0m_dispatch_frame_op\u001b[0m\u001b[1;33m(\u001b[0m\u001b[0mother\u001b[0m\u001b[1;33m,\u001b[0m \u001b[0mop\u001b[0m\u001b[1;33m,\u001b[0m \u001b[0maxis\u001b[0m\u001b[1;33m=\u001b[0m\u001b[0maxis\u001b[0m\u001b[1;33m)\u001b[0m\u001b[1;33m\u001b[0m\u001b[1;33m\u001b[0m\u001b[0m\n",
      "\u001b[1;32m~\\miniconda3\\lib\\site-packages\\pandas\\core\\ops\\__init__.py\u001b[0m in \u001b[0;36malign_method_FRAME\u001b[1;34m(left, right, axis, flex, level)\u001b[0m\n\u001b[0;32m    285\u001b[0m                 )\n\u001b[0;32m    286\u001b[0m \u001b[1;33m\u001b[0m\u001b[0m\n\u001b[1;32m--> 287\u001b[1;33m         left, right = left.align(\n\u001b[0m\u001b[0;32m    288\u001b[0m             \u001b[0mright\u001b[0m\u001b[1;33m,\u001b[0m \u001b[0mjoin\u001b[0m\u001b[1;33m=\u001b[0m\u001b[1;34m\"outer\"\u001b[0m\u001b[1;33m,\u001b[0m \u001b[0maxis\u001b[0m\u001b[1;33m=\u001b[0m\u001b[0maxis\u001b[0m\u001b[1;33m,\u001b[0m \u001b[0mlevel\u001b[0m\u001b[1;33m=\u001b[0m\u001b[0mlevel\u001b[0m\u001b[1;33m,\u001b[0m \u001b[0mcopy\u001b[0m\u001b[1;33m=\u001b[0m\u001b[1;32mFalse\u001b[0m\u001b[1;33m\u001b[0m\u001b[1;33m\u001b[0m\u001b[0m\n\u001b[0;32m    289\u001b[0m         )\n",
      "\u001b[1;32m~\\miniconda3\\lib\\site-packages\\pandas\\core\\frame.py\u001b[0m in \u001b[0;36malign\u001b[1;34m(self, other, join, axis, level, copy, fill_value, method, limit, fill_axis, broadcast_axis)\u001b[0m\n\u001b[0;32m   4100\u001b[0m         \u001b[0mbroadcast_axis\u001b[0m\u001b[1;33m=\u001b[0m\u001b[1;32mNone\u001b[0m\u001b[1;33m,\u001b[0m\u001b[1;33m\u001b[0m\u001b[1;33m\u001b[0m\u001b[0m\n\u001b[0;32m   4101\u001b[0m     ) -> DataFrame:\n\u001b[1;32m-> 4102\u001b[1;33m         return super().align(\n\u001b[0m\u001b[0;32m   4103\u001b[0m             \u001b[0mother\u001b[0m\u001b[1;33m,\u001b[0m\u001b[1;33m\u001b[0m\u001b[1;33m\u001b[0m\u001b[0m\n\u001b[0;32m   4104\u001b[0m             \u001b[0mjoin\u001b[0m\u001b[1;33m=\u001b[0m\u001b[0mjoin\u001b[0m\u001b[1;33m,\u001b[0m\u001b[1;33m\u001b[0m\u001b[1;33m\u001b[0m\u001b[0m\n",
      "\u001b[1;32m~\\miniconda3\\lib\\site-packages\\pandas\\core\\generic.py\u001b[0m in \u001b[0;36malign\u001b[1;34m(self, other, join, axis, level, copy, fill_value, method, limit, fill_axis, broadcast_axis)\u001b[0m\n\u001b[0;32m   8823\u001b[0m             )\n\u001b[0;32m   8824\u001b[0m         \u001b[1;32melif\u001b[0m \u001b[0misinstance\u001b[0m\u001b[1;33m(\u001b[0m\u001b[0mother\u001b[0m\u001b[1;33m,\u001b[0m \u001b[0mABCSeries\u001b[0m\u001b[1;33m)\u001b[0m\u001b[1;33m:\u001b[0m\u001b[1;33m\u001b[0m\u001b[1;33m\u001b[0m\u001b[0m\n\u001b[1;32m-> 8825\u001b[1;33m             return self._align_series(\n\u001b[0m\u001b[0;32m   8826\u001b[0m                 \u001b[0mother\u001b[0m\u001b[1;33m,\u001b[0m\u001b[1;33m\u001b[0m\u001b[1;33m\u001b[0m\u001b[0m\n\u001b[0;32m   8827\u001b[0m                 \u001b[0mjoin\u001b[0m\u001b[1;33m=\u001b[0m\u001b[0mjoin\u001b[0m\u001b[1;33m,\u001b[0m\u001b[1;33m\u001b[0m\u001b[1;33m\u001b[0m\u001b[0m\n",
      "\u001b[1;32m~\\miniconda3\\lib\\site-packages\\pandas\\core\\generic.py\u001b[0m in \u001b[0;36m_align_series\u001b[1;34m(self, other, join, axis, level, copy, fill_value, method, limit, fill_axis)\u001b[0m\n\u001b[0;32m   8962\u001b[0m \u001b[1;33m\u001b[0m\u001b[0m\n\u001b[0;32m   8963\u001b[0m                 \u001b[1;32mif\u001b[0m \u001b[0mlidx\u001b[0m \u001b[1;32mis\u001b[0m \u001b[1;32mnot\u001b[0m \u001b[1;32mNone\u001b[0m\u001b[1;33m:\u001b[0m\u001b[1;33m\u001b[0m\u001b[1;33m\u001b[0m\u001b[0m\n\u001b[1;32m-> 8964\u001b[1;33m                     \u001b[0mfdata\u001b[0m \u001b[1;33m=\u001b[0m \u001b[0mfdata\u001b[0m\u001b[1;33m.\u001b[0m\u001b[0mreindex_indexer\u001b[0m\u001b[1;33m(\u001b[0m\u001b[0mjoin_index\u001b[0m\u001b[1;33m,\u001b[0m \u001b[0mlidx\u001b[0m\u001b[1;33m,\u001b[0m \u001b[0maxis\u001b[0m\u001b[1;33m=\u001b[0m\u001b[1;36m0\u001b[0m\u001b[1;33m)\u001b[0m\u001b[1;33m\u001b[0m\u001b[1;33m\u001b[0m\u001b[0m\n\u001b[0m\u001b[0;32m   8965\u001b[0m             \u001b[1;32melse\u001b[0m\u001b[1;33m:\u001b[0m\u001b[1;33m\u001b[0m\u001b[1;33m\u001b[0m\u001b[0m\n\u001b[0;32m   8966\u001b[0m                 \u001b[1;32mraise\u001b[0m \u001b[0mValueError\u001b[0m\u001b[1;33m(\u001b[0m\u001b[1;34m\"Must specify axis=0 or 1\"\u001b[0m\u001b[1;33m)\u001b[0m\u001b[1;33m\u001b[0m\u001b[1;33m\u001b[0m\u001b[0m\n",
      "\u001b[1;32m~\\miniconda3\\lib\\site-packages\\pandas\\core\\internals\\managers.py\u001b[0m in \u001b[0;36mreindex_indexer\u001b[1;34m(self, new_axis, indexer, axis, fill_value, allow_dups, copy, consolidate, only_slice)\u001b[0m\n\u001b[0;32m   1299\u001b[0m         \u001b[1;31m# some axes don't allow reindexing with dups\u001b[0m\u001b[1;33m\u001b[0m\u001b[1;33m\u001b[0m\u001b[1;33m\u001b[0m\u001b[0m\n\u001b[0;32m   1300\u001b[0m         \u001b[1;32mif\u001b[0m \u001b[1;32mnot\u001b[0m \u001b[0mallow_dups\u001b[0m\u001b[1;33m:\u001b[0m\u001b[1;33m\u001b[0m\u001b[1;33m\u001b[0m\u001b[0m\n\u001b[1;32m-> 1301\u001b[1;33m             \u001b[0mself\u001b[0m\u001b[1;33m.\u001b[0m\u001b[0maxes\u001b[0m\u001b[1;33m[\u001b[0m\u001b[0maxis\u001b[0m\u001b[1;33m]\u001b[0m\u001b[1;33m.\u001b[0m\u001b[0m_can_reindex\u001b[0m\u001b[1;33m(\u001b[0m\u001b[0mindexer\u001b[0m\u001b[1;33m)\u001b[0m\u001b[1;33m\u001b[0m\u001b[1;33m\u001b[0m\u001b[0m\n\u001b[0m\u001b[0;32m   1302\u001b[0m \u001b[1;33m\u001b[0m\u001b[0m\n\u001b[0;32m   1303\u001b[0m         \u001b[1;32mif\u001b[0m \u001b[0maxis\u001b[0m \u001b[1;33m>=\u001b[0m \u001b[0mself\u001b[0m\u001b[1;33m.\u001b[0m\u001b[0mndim\u001b[0m\u001b[1;33m:\u001b[0m\u001b[1;33m\u001b[0m\u001b[1;33m\u001b[0m\u001b[0m\n",
      "\u001b[1;32m~\\miniconda3\\lib\\site-packages\\pandas\\core\\indexes\\base.py\u001b[0m in \u001b[0;36m_can_reindex\u001b[1;34m(self, indexer)\u001b[0m\n\u001b[0;32m   3474\u001b[0m         \u001b[1;31m# trying to reindex on an axis with duplicates\u001b[0m\u001b[1;33m\u001b[0m\u001b[1;33m\u001b[0m\u001b[1;33m\u001b[0m\u001b[0m\n\u001b[0;32m   3475\u001b[0m         \u001b[1;32mif\u001b[0m \u001b[1;32mnot\u001b[0m \u001b[0mself\u001b[0m\u001b[1;33m.\u001b[0m\u001b[0m_index_as_unique\u001b[0m \u001b[1;32mand\u001b[0m \u001b[0mlen\u001b[0m\u001b[1;33m(\u001b[0m\u001b[0mindexer\u001b[0m\u001b[1;33m)\u001b[0m\u001b[1;33m:\u001b[0m\u001b[1;33m\u001b[0m\u001b[1;33m\u001b[0m\u001b[0m\n\u001b[1;32m-> 3476\u001b[1;33m             \u001b[1;32mraise\u001b[0m \u001b[0mValueError\u001b[0m\u001b[1;33m(\u001b[0m\u001b[1;34m\"cannot reindex from a duplicate axis\"\u001b[0m\u001b[1;33m)\u001b[0m\u001b[1;33m\u001b[0m\u001b[1;33m\u001b[0m\u001b[0m\n\u001b[0m\u001b[0;32m   3477\u001b[0m \u001b[1;33m\u001b[0m\u001b[0m\n\u001b[0;32m   3478\u001b[0m     \u001b[1;32mdef\u001b[0m \u001b[0mreindex\u001b[0m\u001b[1;33m(\u001b[0m\u001b[0mself\u001b[0m\u001b[1;33m,\u001b[0m \u001b[0mtarget\u001b[0m\u001b[1;33m,\u001b[0m \u001b[0mmethod\u001b[0m\u001b[1;33m=\u001b[0m\u001b[1;32mNone\u001b[0m\u001b[1;33m,\u001b[0m \u001b[0mlevel\u001b[0m\u001b[1;33m=\u001b[0m\u001b[1;32mNone\u001b[0m\u001b[1;33m,\u001b[0m \u001b[0mlimit\u001b[0m\u001b[1;33m=\u001b[0m\u001b[1;32mNone\u001b[0m\u001b[1;33m,\u001b[0m \u001b[0mtolerance\u001b[0m\u001b[1;33m=\u001b[0m\u001b[1;32mNone\u001b[0m\u001b[1;33m)\u001b[0m\u001b[1;33m:\u001b[0m\u001b[1;33m\u001b[0m\u001b[1;33m\u001b[0m\u001b[0m\n",
      "\u001b[1;31mValueError\u001b[0m: cannot reindex from a duplicate axis"
     ]
    }
   ],
   "source": [
    "costs['south rel'] = costs['south'] / costs['Fixed cost']"
   ]
  },
  {
   "cell_type": "markdown",
   "id": "a837be38-207c-40bb-8552-7edca32332ca",
   "metadata": {},
   "source": [
    "# testing"
   ]
  },
  {
   "cell_type": "code",
   "execution_count": 72,
   "id": "d6f26cef-909f-46f3-b6cd-a5f08cb48d2a",
   "metadata": {},
   "outputs": [
    {
     "data": {
      "text/html": [
       "<div>\n",
       "<style scoped>\n",
       "    .dataframe tbody tr th:only-of-type {\n",
       "        vertical-align: middle;\n",
       "    }\n",
       "\n",
       "    .dataframe tbody tr th {\n",
       "        vertical-align: top;\n",
       "    }\n",
       "\n",
       "    .dataframe thead th {\n",
       "        text-align: right;\n",
       "    }\n",
       "</style>\n",
       "<table border=\"1\" class=\"dataframe\">\n",
       "  <thead>\n",
       "    <tr style=\"text-align: right;\">\n",
       "      <th>n</th>\n",
       "      <th>north</th>\n",
       "      <th>south</th>\n",
       "    </tr>\n",
       "    <tr>\n",
       "      <th>tec</th>\n",
       "      <th></th>\n",
       "      <th></th>\n",
       "    </tr>\n",
       "  </thead>\n",
       "  <tbody>\n",
       "    <tr>\n",
       "      <th>base</th>\n",
       "      <td>4.79</td>\n",
       "      <td>25.95</td>\n",
       "    </tr>\n",
       "    <tr>\n",
       "      <th>peak</th>\n",
       "      <td>5.14</td>\n",
       "      <td>1.89</td>\n",
       "    </tr>\n",
       "    <tr>\n",
       "      <th>solar</th>\n",
       "      <td>30.07</td>\n",
       "      <td>88.23</td>\n",
       "    </tr>\n",
       "    <tr>\n",
       "      <th>wind</th>\n",
       "      <td>49.87</td>\n",
       "      <td>39.45</td>\n",
       "    </tr>\n",
       "  </tbody>\n",
       "</table>\n",
       "</div>"
      ],
      "text/plain": [
       "n      north  south\n",
       "tec                \n",
       "base    4.79  25.95\n",
       "peak    5.14   1.89\n",
       "solar  30.07  88.23\n",
       "wind   49.87  39.45"
      ]
     },
     "execution_count": 72,
     "metadata": {},
     "output_type": "execute_result"
    }
   ],
   "source": [
    "cap"
   ]
  },
  {
   "cell_type": "code",
   "execution_count": 74,
   "id": "b68f6f91-9c59-4461-9a9e-b753ae16ea13",
   "metadata": {},
   "outputs": [
    {
     "data": {
      "text/html": [
       "<div>\n",
       "<style scoped>\n",
       "    .dataframe tbody tr th:only-of-type {\n",
       "        vertical-align: middle;\n",
       "    }\n",
       "\n",
       "    .dataframe tbody tr th {\n",
       "        vertical-align: top;\n",
       "    }\n",
       "\n",
       "    .dataframe thead th {\n",
       "        text-align: right;\n",
       "    }\n",
       "</style>\n",
       "<table border=\"1\" class=\"dataframe\">\n",
       "  <thead>\n",
       "    <tr style=\"text-align: right;\">\n",
       "      <th>n</th>\n",
       "      <th>north</th>\n",
       "      <th>south</th>\n",
       "    </tr>\n",
       "    <tr>\n",
       "      <th>tec</th>\n",
       "      <th></th>\n",
       "      <th></th>\n",
       "    </tr>\n",
       "  </thead>\n",
       "  <tbody>\n",
       "    <tr>\n",
       "      <th>base</th>\n",
       "      <td>205.8</td>\n",
       "      <td>187.0</td>\n",
       "    </tr>\n",
       "    <tr>\n",
       "      <th>peak</th>\n",
       "      <td>19.9</td>\n",
       "      <td>21.2</td>\n",
       "    </tr>\n",
       "    <tr>\n",
       "      <th>solar</th>\n",
       "      <td>7.3</td>\n",
       "      <td>12.5</td>\n",
       "    </tr>\n",
       "    <tr>\n",
       "      <th>wind</th>\n",
       "      <td>181.2</td>\n",
       "      <td>-16.8</td>\n",
       "    </tr>\n",
       "  </tbody>\n",
       "</table>\n",
       "</div>"
      ],
      "text/plain": [
       "n      north  south\n",
       "tec                \n",
       "base   205.8  187.0\n",
       "peak    19.9   21.2\n",
       "solar    7.3   12.5\n",
       "wind   181.2  -16.8"
      ]
     },
     "execution_count": 74,
     "metadata": {},
     "output_type": "execute_result"
    }
   ],
   "source": [
    "instr"
   ]
  },
  {
   "cell_type": "code",
   "execution_count": 76,
   "id": "45e1dfc9-a061-487b-8058-467f18c41ae1",
   "metadata": {},
   "outputs": [],
   "source": [
    "total_revenues = cap*instr"
   ]
  },
  {
   "cell_type": "code",
   "execution_count": 77,
   "id": "006c1067-d48b-4350-ab9c-9c53623a9f10",
   "metadata": {},
   "outputs": [
    {
     "data": {
      "text/plain": [
       "15676.856"
      ]
     },
     "execution_count": 77,
     "metadata": {},
     "output_type": "execute_result"
    }
   ],
   "source": [
    "total_revenues.sum().sum()"
   ]
  },
  {
   "cell_type": "code",
   "execution_count": 80,
   "id": "e17afffa-d618-4c99-97c2-33743f886c87",
   "metadata": {},
   "outputs": [
    {
     "data": {
      "text/html": [
       "<div>\n",
       "<style scoped>\n",
       "    .dataframe tbody tr th:only-of-type {\n",
       "        vertical-align: middle;\n",
       "    }\n",
       "\n",
       "    .dataframe tbody tr th {\n",
       "        vertical-align: top;\n",
       "    }\n",
       "\n",
       "    .dataframe thead th {\n",
       "        text-align: right;\n",
       "    }\n",
       "</style>\n",
       "<table border=\"1\" class=\"dataframe\">\n",
       "  <thead>\n",
       "    <tr style=\"text-align: right;\">\n",
       "      <th></th>\n",
       "      <th>Network cost</th>\n",
       "      <th>Generation cost</th>\n",
       "      <th>Gross consumer surplus</th>\n",
       "      <th>Welfare</th>\n",
       "    </tr>\n",
       "    <tr>\n",
       "      <th>model</th>\n",
       "      <th></th>\n",
       "      <th></th>\n",
       "      <th></th>\n",
       "      <th></th>\n",
       "    </tr>\n",
       "  </thead>\n",
       "  <tbody>\n",
       "    <tr>\n",
       "      <th>Zonal</th>\n",
       "      <td>80.0</td>\n",
       "      <td>308.0</td>\n",
       "      <td>1000.0</td>\n",
       "      <td>614.0</td>\n",
       "    </tr>\n",
       "    <tr>\n",
       "      <th>Capacity instrument</th>\n",
       "      <td>8.0</td>\n",
       "      <td>324.0</td>\n",
       "      <td>990.0</td>\n",
       "      <td>648.0</td>\n",
       "    </tr>\n",
       "    <tr>\n",
       "      <th>Nodal</th>\n",
       "      <td>4.0</td>\n",
       "      <td>328.0</td>\n",
       "      <td>998.0</td>\n",
       "      <td>668.0</td>\n",
       "    </tr>\n",
       "  </tbody>\n",
       "</table>\n",
       "</div>"
      ],
      "text/plain": [
       "                     Network cost  Generation cost  Gross consumer surplus  \\\n",
       "model                                                                        \n",
       "Zonal                        80.0            308.0                  1000.0   \n",
       "Capacity instrument           8.0            324.0                   990.0   \n",
       "Nodal                         4.0            328.0                   998.0   \n",
       "\n",
       "                     Welfare  \n",
       "model                         \n",
       "Zonal                  614.0  \n",
       "Capacity instrument    648.0  \n",
       "Nodal                  668.0  "
      ]
     },
     "execution_count": 80,
     "metadata": {},
     "output_type": "execute_result"
    }
   ],
   "source": [
    "total"
   ]
  },
  {
   "cell_type": "code",
   "execution_count": 38,
   "id": "c6301d7c-5cd9-4578-9e91-29a3b2c2d4d8",
   "metadata": {},
   "outputs": [],
   "source": [
    "df = capacities"
   ]
  },
  {
   "cell_type": "code",
   "execution_count": 39,
   "id": "74121966-ae31-473b-b370-81b9201c548e",
   "metadata": {},
   "outputs": [],
   "source": [
    "location = 'east'"
   ]
  },
  {
   "cell_type": "code",
   "execution_count": null,
   "id": "d12a08b0-3671-4540-aa4c-5519b58585f2",
   "metadata": {},
   "outputs": [],
   "source": [
    "plot_distribution(df, axes, location)"
   ]
  },
  {
   "cell_type": "code",
   "execution_count": 50,
   "id": "63a360df-267e-4e43-a8bc-0a32c84a6f53",
   "metadata": {},
   "outputs": [
    {
     "data": {
      "text/plain": [
       "array([ 4.62, 10.65,  9.28,  9.37])"
      ]
     },
     "execution_count": 50,
     "metadata": {},
     "output_type": "execute_result"
    }
   ],
   "source": [
    "width = 0.8\n",
    "#baseload\n",
    "tmp = df.loc[df['tec'] == 'base'][location].fillna(0)\n",
    "tmp = tmp.reindex(index = scenarios)\n",
    "\n",
    "tmp.values\n",
    "\n"
   ]
  },
  {
   "cell_type": "code",
   "execution_count": 49,
   "id": "c1093554-5644-4b51-8fb6-728d1bb13cf5",
   "metadata": {},
   "outputs": [
    {
     "data": {
      "text/plain": [
       "array([0, 1, 2, 3])"
      ]
     },
     "execution_count": 49,
     "metadata": {},
     "output_type": "execute_result"
    }
   ],
   "source": [
    "y_pos"
   ]
  },
  {
   "cell_type": "code",
   "execution_count": 51,
   "id": "75803e54-1851-4f41-9cee-fcb40ecf4452",
   "metadata": {},
   "outputs": [],
   "source": [
    "leg = axes.barh(y_pos, tmp.values, width, align='center', color = 'darkred')\n",
    "left = tmp"
   ]
  },
  {
   "cell_type": "code",
   "execution_count": 52,
   "id": "b5071a6d-5764-40ce-810b-3c41a3abe893",
   "metadata": {},
   "outputs": [
    {
     "data": {
      "text/plain": [
       "<BarContainer object of 4 artists>"
      ]
     },
     "execution_count": 52,
     "metadata": {},
     "output_type": "execute_result"
    }
   ],
   "source": [
    "leg"
   ]
  },
  {
   "cell_type": "code",
   "execution_count": null,
   "id": "c64f3f56-4b96-4e99-9a60-3c3b49a9f759",
   "metadata": {},
   "outputs": [],
   "source": []
  }
 ],
 "metadata": {
  "kernelspec": {
   "display_name": "Python 3",
   "language": "python",
   "name": "python3"
  },
  "language_info": {
   "codemirror_mode": {
    "name": "ipython",
    "version": 3
   },
   "file_extension": ".py",
   "mimetype": "text/x-python",
   "name": "python",
   "nbconvert_exporter": "python",
   "pygments_lexer": "ipython3",
   "version": "3.9.1"
  }
 },
 "nbformat": 4,
 "nbformat_minor": 5
}

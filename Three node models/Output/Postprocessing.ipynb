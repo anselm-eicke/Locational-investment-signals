{
 "cells": [
  {
   "cell_type": "code",
   "execution_count": 1,
   "id": "07958183-16b7-4e7a-bdfe-545e1abe1329",
   "metadata": {},
   "outputs": [],
   "source": [
    "import gdxpds\n",
    "import pandas as pd\n",
    "import matplotlib.pyplot as plt\n",
    "import numpy as np"
   ]
  },
  {
   "cell_type": "code",
   "execution_count": 2,
   "id": "5d2a8854-b836-4493-89ed-f273c683cfcd",
   "metadata": {},
   "outputs": [],
   "source": [
    "scenarios = list(['nodal', 'with_instrument', 'without_instrument']);\n",
    "\n",
    "nodes = list(['north', 'south'])"
   ]
  },
  {
   "cell_type": "code",
   "execution_count": null,
   "id": "c54ef9bc-01e4-499f-a9e1-88ce74fdedf6",
   "metadata": {},
   "outputs": [],
   "source": []
  },
  {
   "cell_type": "code",
   "execution_count": 3,
   "id": "393ce09e-6ac3-4835-95e4-7516087b898d",
   "metadata": {},
   "outputs": [],
   "source": [
    "def read_data(file, indicator):\n",
    "    gams_dir='C:\\Program Files\\GAMS'\n",
    "    df = gdxpds.to_dataframes(str(file) + '.gdx', gams_dir=gams_dir)\n",
    "    df = df[indicator]\n",
    "    df['model'] = file\n",
    "    if 'Level' in df.columns:\n",
    "        df['Value'] = df['Level']\n",
    "    df['Value'] = df['Value'].round(2)\n",
    "    return(df.set_index(['model']))\n",
    "\n",
    "\n",
    "def read_old(indicator, add = 'prefix'):\n",
    "    if add == 'prefix':\n",
    "        df = read_data('Zonal', 'o_' + indicator).append(read_data('Capacity instrument', 'o_' + indicator)).append(read_data('Nodal', 'o_' +  indicator))\n",
    "        return(df)\n",
    "    \n",
    "    elif add == 'prefix_linearized':\n",
    "        df = read_data('Zonal', 'o_' + indicator).append(read_data('Capacity instrument', 'o_' + indicator)).append(read_data('Capacity instrument linearized', 'i_' + indicator)).append(read_data('Nodal', 'o_' +  indicator))\n",
    "        return(df)\n",
    "    \n",
    "    elif add == None:\n",
    "        df = read_data('Capacity instrument', indicator).append(read_data('Nodal', indicator)).append(read_data('Zonal', indicator))\n",
    "        df = df[['tec', 't', 'n', 'Value']]\n",
    "        return(df)\n",
    "\n",
    "\n",
    "\n",
    "def read(indicator):\n",
    "    if (len(scenarios) == 4):\n",
    "        df = read_data(scenarios[0], indicator).append(read_data(scenarios[1], indicator)).append(read_data(scenarios[2], indicator)).append(read_data(scenarios[3], indicator))\n",
    "    elif (len(scenarios) == 3):\n",
    "        df = read_data(scenarios[0], indicator).append(read_data(scenarios[1], indicator)).append(read_data(scenarios[2], indicator))\n",
    "    return(df)\n",
    "    \n",
    "def plot_distribution(df, axes, location):\n",
    "    \n",
    "    width = 0.8\n",
    "    #baseload\n",
    "    \n",
    "    tmp = df.loc[df['tec'] == 'base'][location].fillna(0)\n",
    "    tmp = tmp.reindex(index = scenarios)\n",
    "    leg = axes.barh(y_pos, tmp, width, align='center', color = 'darkred')\n",
    "    left = tmp.fillna(0)\n",
    "\n",
    "    #peaker\n",
    "    tmp = df.loc[df['tec'] == 'peak'][location].fillna(0)\n",
    "    tmp = tmp.reindex(index = scenarios)\n",
    "    axes.barh(y_pos, tmp, width, left=left, align='center', color = 'black')\n",
    "    left = left + tmp.fillna(0)\n",
    "\n",
    "    #wind\n",
    "    tmp = df.loc[df['tec'] == 'wind'][location].fillna(0)\n",
    "    tmp = tmp.reindex(index = scenarios)\n",
    "    axes.barh(y_pos, tmp, width, left=left, align='center', color = 'lightblue')\n",
    "    left = left + tmp.fillna(0)\n",
    "\n",
    "    #solar\n",
    "    tmp = df.loc[df['tec'] == 'solar'][location].fillna(0)\n",
    "    tmp = tmp.reindex(index = scenarios)\n",
    "    axes.barh(y_pos, tmp, width, left=left, align='center', color = 'gold')\n",
    "    left = left + tmp.fillna(0)\n",
    "    #leg.legend()\n",
    "    return(axes)\n",
    "\n",
    "    "
   ]
  },
  {
   "cell_type": "code",
   "execution_count": 4,
   "id": "df437588-8b57-4d4b-8a02-c146c361a356",
   "metadata": {},
   "outputs": [],
   "source": [
    "df = read('o_gen')\n",
    "df = df.reset_index().set_index(['model','t', 'n','tec'])\n",
    "df = df.swaplevel().unstack()\n",
    "df.columns = df.columns.droplevel(0)\n",
    "df.columns.name = ''\n",
    "\n",
    "df = df.groupby(['model','tec']).sum()\n",
    "df = df.reset_index().set_index(['model'])\n",
    "gen = df"
   ]
  },
  {
   "cell_type": "code",
   "execution_count": 55,
   "id": "c1e84cab-5a3e-475e-aeb5-5c2272db5448",
   "metadata": {},
   "outputs": [
    {
     "data": {
      "text/html": [
       "<div>\n",
       "<style scoped>\n",
       "    .dataframe tbody tr th:only-of-type {\n",
       "        vertical-align: middle;\n",
       "    }\n",
       "\n",
       "    .dataframe tbody tr th {\n",
       "        vertical-align: top;\n",
       "    }\n",
       "\n",
       "    .dataframe thead th {\n",
       "        text-align: right;\n",
       "    }\n",
       "</style>\n",
       "<table border=\"1\" class=\"dataframe\">\n",
       "  <thead>\n",
       "    <tr style=\"text-align: right;\">\n",
       "      <th></th>\n",
       "      <th>tec</th>\n",
       "      <th>north</th>\n",
       "      <th>south</th>\n",
       "      <th>type</th>\n",
       "      <th>total</th>\n",
       "    </tr>\n",
       "    <tr>\n",
       "      <th>model</th>\n",
       "      <th></th>\n",
       "      <th></th>\n",
       "      <th></th>\n",
       "      <th></th>\n",
       "      <th></th>\n",
       "    </tr>\n",
       "  </thead>\n",
       "  <tbody>\n",
       "    <tr>\n",
       "      <th>nodal</th>\n",
       "      <td>base</td>\n",
       "      <td>67.64</td>\n",
       "      <td>566.49</td>\n",
       "      <td>non RE</td>\n",
       "      <td>634.13</td>\n",
       "    </tr>\n",
       "    <tr>\n",
       "      <th>nodal</th>\n",
       "      <td>peak</td>\n",
       "      <td>7.76</td>\n",
       "      <td>8.12</td>\n",
       "      <td>non RE</td>\n",
       "      <td>15.88</td>\n",
       "    </tr>\n",
       "    <tr>\n",
       "      <th>nodal</th>\n",
       "      <td>solar</td>\n",
       "      <td>0.00</td>\n",
       "      <td>286.00</td>\n",
       "      <td>RE</td>\n",
       "      <td>286.00</td>\n",
       "    </tr>\n",
       "    <tr>\n",
       "      <th>nodal</th>\n",
       "      <td>wind</td>\n",
       "      <td>434.57</td>\n",
       "      <td>119.20</td>\n",
       "      <td>RE</td>\n",
       "      <td>553.77</td>\n",
       "    </tr>\n",
       "    <tr>\n",
       "      <th>with_instrument</th>\n",
       "      <td>base</td>\n",
       "      <td>16.56</td>\n",
       "      <td>399.12</td>\n",
       "      <td>non RE</td>\n",
       "      <td>415.68</td>\n",
       "    </tr>\n",
       "    <tr>\n",
       "      <th>with_instrument</th>\n",
       "      <td>peak</td>\n",
       "      <td>132.00</td>\n",
       "      <td>182.41</td>\n",
       "      <td>non RE</td>\n",
       "      <td>314.41</td>\n",
       "    </tr>\n",
       "    <tr>\n",
       "      <th>with_instrument</th>\n",
       "      <td>solar</td>\n",
       "      <td>21.30</td>\n",
       "      <td>137.51</td>\n",
       "      <td>RE</td>\n",
       "      <td>158.81</td>\n",
       "    </tr>\n",
       "    <tr>\n",
       "      <th>with_instrument</th>\n",
       "      <td>wind</td>\n",
       "      <td>316.17</td>\n",
       "      <td>216.76</td>\n",
       "      <td>RE</td>\n",
       "      <td>532.93</td>\n",
       "    </tr>\n",
       "    <tr>\n",
       "      <th>without_instrument</th>\n",
       "      <td>base</td>\n",
       "      <td>382.25</td>\n",
       "      <td>396.41</td>\n",
       "      <td>non RE</td>\n",
       "      <td>778.66</td>\n",
       "    </tr>\n",
       "    <tr>\n",
       "      <th>without_instrument</th>\n",
       "      <td>solar</td>\n",
       "      <td>0.00</td>\n",
       "      <td>163.64</td>\n",
       "      <td>RE</td>\n",
       "      <td>163.64</td>\n",
       "    </tr>\n",
       "    <tr>\n",
       "      <th>without_instrument</th>\n",
       "      <td>wind</td>\n",
       "      <td>522.00</td>\n",
       "      <td>0.00</td>\n",
       "      <td>RE</td>\n",
       "      <td>522.00</td>\n",
       "    </tr>\n",
       "  </tbody>\n",
       "</table>\n",
       "</div>"
      ],
      "text/plain": [
       "                      tec   north   south    type   total\n",
       "model                                                    \n",
       "nodal                base   67.64  566.49  non RE  634.13\n",
       "nodal                peak    7.76    8.12  non RE   15.88\n",
       "nodal               solar    0.00  286.00      RE  286.00\n",
       "nodal                wind  434.57  119.20      RE  553.77\n",
       "with_instrument      base   16.56  399.12  non RE  415.68\n",
       "with_instrument      peak  132.00  182.41  non RE  314.41\n",
       "with_instrument     solar   21.30  137.51      RE  158.81\n",
       "with_instrument      wind  316.17  216.76      RE  532.93\n",
       "without_instrument   base  382.25  396.41  non RE  778.66\n",
       "without_instrument  solar    0.00  163.64      RE  163.64\n",
       "without_instrument   wind  522.00    0.00      RE  522.00"
      ]
     },
     "execution_count": 55,
     "metadata": {},
     "output_type": "execute_result"
    }
   ],
   "source": [
    "gen"
   ]
  },
  {
   "cell_type": "code",
   "execution_count": 53,
   "id": "b3f27d06-2567-4caf-876d-9e2e9684e183",
   "metadata": {},
   "outputs": [],
   "source": [
    "gen['total'] = gen['north'] + gen['south']"
   ]
  },
  {
   "cell_type": "code",
   "execution_count": 46,
   "id": "612413d2-26b5-49de-bd70-a69774d20953",
   "metadata": {},
   "outputs": [],
   "source": [
    "gen['type'] = ['RE' if tec in ['wind', 'solar'] else 'non RE' for tec in gen['tec']]"
   ]
  },
  {
   "cell_type": "code",
   "execution_count": 56,
   "id": "1453f08f-f13f-4355-8faf-22bf24c46c33",
   "metadata": {},
   "outputs": [],
   "source": [
    "re_shares = gen[['total', 'type']].groupby(['model', 'type']).sum()"
   ]
  },
  {
   "cell_type": "code",
   "execution_count": 60,
   "id": "26764aec-7ee5-4eea-8b5a-e751679d86f3",
   "metadata": {},
   "outputs": [],
   "source": [
    "re_shares = re_shares.unstack()"
   ]
  },
  {
   "cell_type": "code",
   "execution_count": 65,
   "id": "b2d0aa90-fbd7-4c78-ab8d-292eefc2abb7",
   "metadata": {},
   "outputs": [
    {
     "data": {
      "text/html": [
       "<div>\n",
       "<style scoped>\n",
       "    .dataframe tbody tr th:only-of-type {\n",
       "        vertical-align: middle;\n",
       "    }\n",
       "\n",
       "    .dataframe tbody tr th {\n",
       "        vertical-align: top;\n",
       "    }\n",
       "\n",
       "    .dataframe thead tr th {\n",
       "        text-align: left;\n",
       "    }\n",
       "\n",
       "    .dataframe thead tr:last-of-type th {\n",
       "        text-align: right;\n",
       "    }\n",
       "</style>\n",
       "<table border=\"1\" class=\"dataframe\">\n",
       "  <thead>\n",
       "    <tr>\n",
       "      <th></th>\n",
       "      <th colspan=\"2\" halign=\"left\">total</th>\n",
       "    </tr>\n",
       "    <tr>\n",
       "      <th>type</th>\n",
       "      <th>RE</th>\n",
       "      <th>non RE</th>\n",
       "    </tr>\n",
       "    <tr>\n",
       "      <th>model</th>\n",
       "      <th></th>\n",
       "      <th></th>\n",
       "    </tr>\n",
       "  </thead>\n",
       "  <tbody>\n",
       "    <tr>\n",
       "      <th>nodal</th>\n",
       "      <td>839.77</td>\n",
       "      <td>650.01</td>\n",
       "    </tr>\n",
       "    <tr>\n",
       "      <th>with_instrument</th>\n",
       "      <td>691.74</td>\n",
       "      <td>730.09</td>\n",
       "    </tr>\n",
       "    <tr>\n",
       "      <th>without_instrument</th>\n",
       "      <td>685.64</td>\n",
       "      <td>778.66</td>\n",
       "    </tr>\n",
       "  </tbody>\n",
       "</table>\n",
       "</div>"
      ],
      "text/plain": [
       "                     total        \n",
       "type                    RE  non RE\n",
       "model                             \n",
       "nodal               839.77  650.01\n",
       "with_instrument     691.74  730.09\n",
       "without_instrument  685.64  778.66"
      ]
     },
     "execution_count": 65,
     "metadata": {},
     "output_type": "execute_result"
    }
   ],
   "source": [
    "re_shares"
   ]
  },
  {
   "cell_type": "code",
   "execution_count": 64,
   "id": "685584f7-0cef-47be-9c2e-7d0d6bd7a885",
   "metadata": {},
   "outputs": [
    {
     "data": {
      "text/plain": [
       "model\n",
       "nodal                 0.563687\n",
       "with_instrument       0.486514\n",
       "without_instrument    0.468237\n",
       "dtype: float64"
      ]
     },
     "execution_count": 64,
     "metadata": {},
     "output_type": "execute_result"
    }
   ],
   "source": [
    "re_shares['total', 'RE'] / (re_shares['total', 'RE'] + re_shares['total', 'non RE'])"
   ]
  },
  {
   "cell_type": "code",
   "execution_count": 6,
   "id": "e2948ac8-9a9e-46a2-8b1f-dda72b642845",
   "metadata": {},
   "outputs": [
    {
     "data": {
      "text/html": [
       "<div>\n",
       "<style scoped>\n",
       "    .dataframe tbody tr th:only-of-type {\n",
       "        vertical-align: middle;\n",
       "    }\n",
       "\n",
       "    .dataframe tbody tr th {\n",
       "        vertical-align: top;\n",
       "    }\n",
       "\n",
       "    .dataframe thead th {\n",
       "        text-align: right;\n",
       "    }\n",
       "</style>\n",
       "<table border=\"1\" class=\"dataframe\">\n",
       "  <thead>\n",
       "    <tr style=\"text-align: right;\">\n",
       "      <th></th>\n",
       "      <th>north</th>\n",
       "      <th>south</th>\n",
       "      <th>total</th>\n",
       "      <th>share north</th>\n",
       "    </tr>\n",
       "    <tr>\n",
       "      <th>model</th>\n",
       "      <th></th>\n",
       "      <th></th>\n",
       "      <th></th>\n",
       "      <th></th>\n",
       "    </tr>\n",
       "  </thead>\n",
       "  <tbody>\n",
       "    <tr>\n",
       "      <th>nodal</th>\n",
       "      <td>93069.525</td>\n",
       "      <td>178815.325</td>\n",
       "      <td>271884.850</td>\n",
       "      <td>0.342312</td>\n",
       "    </tr>\n",
       "    <tr>\n",
       "      <th>with_instrument</th>\n",
       "      <td>88700.475</td>\n",
       "      <td>170783.500</td>\n",
       "      <td>259483.975</td>\n",
       "      <td>0.341834</td>\n",
       "    </tr>\n",
       "    <tr>\n",
       "      <th>without_instrument</th>\n",
       "      <td>165025.625</td>\n",
       "      <td>102209.125</td>\n",
       "      <td>267234.750</td>\n",
       "      <td>0.617531</td>\n",
       "    </tr>\n",
       "  </tbody>\n",
       "</table>\n",
       "</div>"
      ],
      "text/plain": [
       "                         north       south       total  share north\n",
       "model                                                              \n",
       "nodal                93069.525  178815.325  271884.850     0.342312\n",
       "with_instrument      88700.475  170783.500  259483.975     0.341834\n",
       "without_instrument  165025.625  102209.125  267234.750     0.617531"
      ]
     },
     "execution_count": 6,
     "metadata": {},
     "output_type": "execute_result"
    }
   ],
   "source": [
    "sums = gen.groupby(['model']).sum()\n",
    "sums['total'] = sums[nodes[0]] + sums[nodes[1]]\n",
    "sums = sums /48 * 8760\n",
    "sums['share north'] = sums[nodes[0]] / sums['total']\n",
    "sums\n",
    "# in GWh"
   ]
  },
  {
   "cell_type": "markdown",
   "id": "68f14ab3-cc4a-4392-a2d1-246b8155d002",
   "metadata": {},
   "source": [
    "# Installed capacities"
   ]
  },
  {
   "cell_type": "code",
   "execution_count": 7,
   "id": "c3bbb3c2-5a0f-4c02-9126-b45d662f067e",
   "metadata": {},
   "outputs": [],
   "source": [
    "df = read('o_cap')\n",
    "df = df.reset_index().set_index(['model', 'n','tec'])\n",
    "df = df.swaplevel().unstack()\n",
    "df.columns = df.columns.droplevel(0)\n",
    "df.columns.name = ''\n",
    "df = df.reset_index().set_index(['model'])\n",
    "capacities = df"
   ]
  },
  {
   "cell_type": "code",
   "execution_count": 8,
   "id": "485eab88-195e-4db7-a575-220972693df2",
   "metadata": {},
   "outputs": [
    {
     "data": {
      "text/html": [
       "<div>\n",
       "<style scoped>\n",
       "    .dataframe tbody tr th:only-of-type {\n",
       "        vertical-align: middle;\n",
       "    }\n",
       "\n",
       "    .dataframe tbody tr th {\n",
       "        vertical-align: top;\n",
       "    }\n",
       "\n",
       "    .dataframe thead th {\n",
       "        text-align: right;\n",
       "    }\n",
       "</style>\n",
       "<table border=\"1\" class=\"dataframe\">\n",
       "  <thead>\n",
       "    <tr style=\"text-align: right;\">\n",
       "      <th></th>\n",
       "      <th>tec</th>\n",
       "      <th>north</th>\n",
       "      <th>south</th>\n",
       "    </tr>\n",
       "    <tr>\n",
       "      <th>model</th>\n",
       "      <th></th>\n",
       "      <th></th>\n",
       "      <th></th>\n",
       "    </tr>\n",
       "  </thead>\n",
       "  <tbody>\n",
       "    <tr>\n",
       "      <th>nodal</th>\n",
       "      <td>base</td>\n",
       "      <td>4.82</td>\n",
       "      <td>30.46</td>\n",
       "    </tr>\n",
       "    <tr>\n",
       "      <th>nodal</th>\n",
       "      <td>peak</td>\n",
       "      <td>1.13</td>\n",
       "      <td>1.60</td>\n",
       "    </tr>\n",
       "    <tr>\n",
       "      <th>nodal</th>\n",
       "      <td>solar</td>\n",
       "      <td>NaN</td>\n",
       "      <td>100.00</td>\n",
       "    </tr>\n",
       "    <tr>\n",
       "      <th>nodal</th>\n",
       "      <td>wind</td>\n",
       "      <td>87.47</td>\n",
       "      <td>31.11</td>\n",
       "    </tr>\n",
       "    <tr>\n",
       "      <th>with_instrument</th>\n",
       "      <td>base</td>\n",
       "      <td>0.69</td>\n",
       "      <td>16.63</td>\n",
       "    </tr>\n",
       "    <tr>\n",
       "      <th>with_instrument</th>\n",
       "      <td>peak</td>\n",
       "      <td>16.13</td>\n",
       "      <td>21.47</td>\n",
       "    </tr>\n",
       "    <tr>\n",
       "      <th>with_instrument</th>\n",
       "      <td>solar</td>\n",
       "      <td>10.19</td>\n",
       "      <td>48.09</td>\n",
       "    </tr>\n",
       "    <tr>\n",
       "      <th>with_instrument</th>\n",
       "      <td>wind</td>\n",
       "      <td>60.57</td>\n",
       "      <td>56.60</td>\n",
       "    </tr>\n",
       "    <tr>\n",
       "      <th>without_instrument</th>\n",
       "      <td>base</td>\n",
       "      <td>18.88</td>\n",
       "      <td>18.88</td>\n",
       "    </tr>\n",
       "    <tr>\n",
       "      <th>without_instrument</th>\n",
       "      <td>solar</td>\n",
       "      <td>NaN</td>\n",
       "      <td>57.22</td>\n",
       "    </tr>\n",
       "    <tr>\n",
       "      <th>without_instrument</th>\n",
       "      <td>wind</td>\n",
       "      <td>100.00</td>\n",
       "      <td>NaN</td>\n",
       "    </tr>\n",
       "  </tbody>\n",
       "</table>\n",
       "</div>"
      ],
      "text/plain": [
       "                      tec   north   south\n",
       "model                                    \n",
       "nodal                base    4.82   30.46\n",
       "nodal                peak    1.13    1.60\n",
       "nodal               solar     NaN  100.00\n",
       "nodal                wind   87.47   31.11\n",
       "with_instrument      base    0.69   16.63\n",
       "with_instrument      peak   16.13   21.47\n",
       "with_instrument     solar   10.19   48.09\n",
       "with_instrument      wind   60.57   56.60\n",
       "without_instrument   base   18.88   18.88\n",
       "without_instrument  solar     NaN   57.22\n",
       "without_instrument   wind  100.00     NaN"
      ]
     },
     "execution_count": 8,
     "metadata": {},
     "output_type": "execute_result"
    }
   ],
   "source": [
    "capacities"
   ]
  },
  {
   "cell_type": "code",
   "execution_count": 42,
   "id": "f89ed63e-d3c5-4ab3-b1f6-4589a4822c58",
   "metadata": {},
   "outputs": [
    {
     "data": {
      "image/png": "[encoded data removed]",
      "text/plain": [
       "<Figure size 720x165.6 with 2 Axes>"
      ]
     },
     "metadata": {
      "needs_background": "light"
     },
     "output_type": "display_data"
    }
   ],
   "source": [
    "#plt.rcdefaults()\n",
    "fig = plt.figure(figsize=(10, 2.3))\n",
    "\n",
    "ax1 = plt.subplot(1,2,1)\n",
    "ax2 = plt.subplot(1,2,2)\n",
    "\n",
    "y_pos = np.arange(len(scenarios))\n",
    "#leg = pd.Dataframe()\n",
    "\n",
    "plot_distribution(capacities, ax1, 'north')\n",
    "axes = plot_distribution(capacities, ax2, 'south')\n",
    "\n",
    "ax1.set_xlim(0, 175)\n",
    "ax2.set_xlim(0, 175)\n",
    "\n",
    "ax1.set_title('North')\n",
    "ax2.set_title('South')\n",
    "                        \n",
    "ax2.legend(['Base', 'Peak', 'Wind', 'Solar'], bbox_to_anchor=(1.01, 0.87))\n",
    "#ax1.legend(['Base', 'Peak', 'Wind', 'Solar'])\n",
    "ax1.set_yticks(y_pos);\n",
    "ax1.set_yticklabels(['First-best', 'Second-best', 'Reference scenario'])\n",
    "ax2.set_yticklabels([]);\n",
    "ax1.set_xlabel('Installed capacity in GW')\n",
    "ax2.set_xlabel('Installed capacity in GW')\n",
    "plt.tight_layout()\n",
    "\n",
    "fig.savefig('capacity_distribution.jpeg', dpi=500)"
   ]
  },
  {
   "cell_type": "code",
   "execution_count": 43,
   "id": "56984c35-39bd-4159-82b6-792dac3929ce",
   "metadata": {},
   "outputs": [
    {
     "data": {
      "image/png": "[encoded data removed]",
      "text/plain": [
       "<Figure size 720x237.6 with 2 Axes>"
      ]
     },
     "metadata": {
      "needs_background": "light"
     },
     "output_type": "display_data"
    }
   ],
   "source": [
    "# plot generation\n",
    "#plt.rcdefaults()\n",
    "fig = plt.figure(figsize=(10, 3.3))\n",
    "\n",
    "ax1 = plt.subplot(1,2,1)\n",
    "ax2 = plt.subplot(1,2,2)\n",
    "\n",
    "y_pos = np.arange(len(scenarios))\n",
    "#leg = pd.Dataframe()\n",
    "\n",
    "plot_distribution(gen, ax1, nodes[0])\n",
    "axes = plot_distribution(gen, ax2, nodes[1])\n",
    "\n",
    "ax1.set_xlim(0, 1100)\n",
    "ax2.set_xlim(0, 1100)\n",
    "\n",
    "ax1.set_title('North')\n",
    "ax2.set_title('South')\n",
    "                        \n",
    "ax2.legend(['Base', 'Peak', 'Wind', 'Solar'], bbox_to_anchor=(1.0, 1))\n",
    "#ax1.legend(['Base', 'Peak', 'Wind', 'Solar'])\n",
    "ax1.set_yticks(y_pos);\n",
    "ax1.set_yticklabels(['Nodal market', 'Locational instrument', 'Reference scenario']);\n",
    "ax2.set_yticklabels([]);\n",
    "ax1.set_xlabel('Generation in GWh')\n",
    "ax2.set_xlabel('Generation in GWh')\n",
    "plt.tight_layout()\n",
    "\n",
    "fig.savefig('generation_distribution.jpeg', dpi=500)"
   ]
  },
  {
   "cell_type": "markdown",
   "id": "a76428a9-c96b-4672-b196-26adf5c07822",
   "metadata": {},
   "source": [
    "# Welfare comparison"
   ]
  },
  {
   "cell_type": "code",
   "execution_count": 11,
   "id": "596a2026-ec24-41f1-9417-e61fcaa04f31",
   "metadata": {},
   "outputs": [],
   "source": [
    "welfare = pd.DataFrame(index = scenarios, columns = ['Network cost', 'Generation cost', 'Gross consumer surplus'])"
   ]
  },
  {
   "cell_type": "code",
   "execution_count": 12,
   "id": "d6ee85d2-1492-4b2f-a9a0-f5a8133da966",
   "metadata": {},
   "outputs": [],
   "source": [
    "for scenario in scenarios:\n",
    "    welfare.loc[scenario, 'Network cost'] = read_data(scenario, 'network_cost').iloc[0,0]\n",
    "    welfare.loc[scenario, 'Generation cost'] = read_data(scenario, 'generation_costs').iloc[0,0]\n",
    "    welfare.loc[scenario, 'Gross consumer surplus'] = read_data(scenario, 'consumer_surplus').iloc[0,0]"
   ]
  },
  {
   "cell_type": "code",
   "execution_count": 13,
   "id": "593d4d92-8f84-46cb-a604-0bff4f463c19",
   "metadata": {},
   "outputs": [],
   "source": [
    "welfare['Welfare'] = welfare['Gross consumer surplus'] - welfare['Network cost'] - welfare['Generation cost'];\n",
    "welfare['Welfare'] = welfare['Welfare']\n",
    "\n"
   ]
  },
  {
   "cell_type": "code",
   "execution_count": 14,
   "id": "0a2ac94a-9b4b-471e-8e21-556a32734352",
   "metadata": {},
   "outputs": [],
   "source": [
    "welfare = welfare / 1000"
   ]
  },
  {
   "cell_type": "code",
   "execution_count": 25,
   "id": "43b28ff7-ccfa-4b4a-876a-9ff19a2d82fc",
   "metadata": {},
   "outputs": [
    {
     "data": {
      "text/html": [
       "<style  type=\"text/css\" >\n",
       "</style><table id=\"T_b7ffe_\" ><thead>    <tr>        <th class=\"blank level0\" ></th>        <th class=\"col_heading level0 col0\" >Network cost</th>        <th class=\"col_heading level0 col1\" >Generation cost</th>        <th class=\"col_heading level0 col2\" >Gross consumer surplus</th>        <th class=\"col_heading level0 col3\" >Welfare</th>    </tr></thead><tbody>\n",
       "                <tr>\n",
       "                        <th id=\"T_b7ffe_level0_row0\" class=\"row_heading level0 row0\" >nodal</th>\n",
       "                        <td id=\"T_b7ffe_row0_col0\" class=\"data row0 col0\" >644</td>\n",
       "                        <td id=\"T_b7ffe_row0_col1\" class=\"data row0 col1\" >34,577</td>\n",
       "                        <td id=\"T_b7ffe_row0_col2\" class=\"data row0 col2\" >106,668</td>\n",
       "                        <td id=\"T_b7ffe_row0_col3\" class=\"data row0 col3\" >71,447</td>\n",
       "            </tr>\n",
       "            <tr>\n",
       "                        <th id=\"T_b7ffe_level0_row1\" class=\"row_heading level0 row1\" >with_instrument</th>\n",
       "                        <td id=\"T_b7ffe_row1_col0\" class=\"data row1 col0\" >657</td>\n",
       "                        <td id=\"T_b7ffe_row1_col1\" class=\"data row1 col1\" >35,452</td>\n",
       "                        <td id=\"T_b7ffe_row1_col2\" class=\"data row1 col2\" >105,098</td>\n",
       "                        <td id=\"T_b7ffe_row1_col3\" class=\"data row1 col3\" >68,988</td>\n",
       "            </tr>\n",
       "            <tr>\n",
       "                        <th id=\"T_b7ffe_level0_row2\" class=\"row_heading level0 row2\" >without_instrument</th>\n",
       "                        <td id=\"T_b7ffe_row2_col0\" class=\"data row2 col0\" >6,067</td>\n",
       "                        <td id=\"T_b7ffe_row2_col1\" class=\"data row2 col1\" >33,367</td>\n",
       "                        <td id=\"T_b7ffe_row2_col2\" class=\"data row2 col2\" >105,978</td>\n",
       "                        <td id=\"T_b7ffe_row2_col3\" class=\"data row2 col3\" >66,545</td>\n",
       "            </tr>\n",
       "    </tbody></table>"
      ],
      "text/plain": [
       "<pandas.io.formats.style.Styler at 0x18662962d60>"
      ]
     },
     "execution_count": 25,
     "metadata": {},
     "output_type": "execute_result"
    }
   ],
   "source": [
    "welfare.style.format('{0:,.0f}')"
   ]
  },
  {
   "cell_type": "code",
   "execution_count": 26,
   "id": "f58ed1f1-9f32-48b4-9c8d-826f9f3b35e5",
   "metadata": {},
   "outputs": [
    {
     "name": "stdout",
     "output_type": "stream",
     "text": [
      "welfare gains through instrument in %\n",
      "3.67\n",
      "welfare gains through nodal pricing in %\n",
      "7.37\n",
      "welfare loss through uniform signal in %\n"
     ]
    }
   ],
   "source": [
    "print('welfare gains through instrument in %')\n",
    "    \n",
    "print(round((welfare['Welfare']['with_instrument'] - welfare['Welfare']['without_instrument']) / welfare['Welfare']['without_instrument'] * 100,2))\n",
    "\n",
    "print('welfare gains through nodal pricing in %')\n",
    "    \n",
    "print(round((welfare['Welfare']['nodal'] - welfare['Welfare']['without_instrument']) / welfare['Welfare']['without_instrument'] * 100,2))\n",
    "\n",
    "print('welfare loss through uniform signal in %')\n",
    "    \n",
    "#print(round((welfare['Welfare']['with_instrument'] - welfare['Welfare']['agnostic_instrument']) / welfare['Welfare']['with_instrument'] * 100,2))\n"
   ]
  },
  {
   "cell_type": "markdown",
   "id": "dcc55c93-5cee-4bbb-a833-9f9533801678",
   "metadata": {},
   "source": [
    "# Instrument level"
   ]
  },
  {
   "cell_type": "code",
   "execution_count": 27,
   "id": "e337a326-2901-4d28-a580-67caecaf6ee2",
   "metadata": {},
   "outputs": [],
   "source": [
    "fixed_costs = read_data('with_instrument', 'c_fix').reset_index(drop = True).set_index(['tec','n']).unstack()\n",
    "fixed_costs.columns = fixed_costs.columns.droplevel(0)"
   ]
  },
  {
   "cell_type": "code",
   "execution_count": 28,
   "id": "595438cb-b2f3-4e2e-87a1-ce4cf7506f86",
   "metadata": {},
   "outputs": [
    {
     "data": {
      "text/html": [
       "<div>\n",
       "<style scoped>\n",
       "    .dataframe tbody tr th:only-of-type {\n",
       "        vertical-align: middle;\n",
       "    }\n",
       "\n",
       "    .dataframe tbody tr th {\n",
       "        vertical-align: top;\n",
       "    }\n",
       "\n",
       "    .dataframe thead th {\n",
       "        text-align: right;\n",
       "    }\n",
       "</style>\n",
       "<table border=\"1\" class=\"dataframe\">\n",
       "  <thead>\n",
       "    <tr style=\"text-align: right;\">\n",
       "      <th>n</th>\n",
       "      <th>north</th>\n",
       "      <th>south</th>\n",
       "    </tr>\n",
       "    <tr>\n",
       "      <th>tec</th>\n",
       "      <th></th>\n",
       "      <th></th>\n",
       "    </tr>\n",
       "  </thead>\n",
       "  <tbody>\n",
       "    <tr>\n",
       "      <th>base</th>\n",
       "      <td>260.0</td>\n",
       "      <td>260.0</td>\n",
       "    </tr>\n",
       "    <tr>\n",
       "      <th>peak</th>\n",
       "      <td>88.0</td>\n",
       "      <td>88.0</td>\n",
       "    </tr>\n",
       "    <tr>\n",
       "      <th>solar</th>\n",
       "      <td>137.0</td>\n",
       "      <td>137.0</td>\n",
       "    </tr>\n",
       "    <tr>\n",
       "      <th>wind</th>\n",
       "      <td>260.0</td>\n",
       "      <td>260.0</td>\n",
       "    </tr>\n",
       "  </tbody>\n",
       "</table>\n",
       "</div>"
      ],
      "text/plain": [
       "n      north  south\n",
       "tec                \n",
       "base   260.0  260.0\n",
       "peak    88.0   88.0\n",
       "solar  137.0  137.0\n",
       "wind   260.0  260.0"
      ]
     },
     "execution_count": 28,
     "metadata": {},
     "output_type": "execute_result"
    }
   ],
   "source": [
    "fixed_costs"
   ]
  },
  {
   "cell_type": "code",
   "execution_count": 29,
   "id": "979b188e-1385-44e8-bd5d-6c0b013c5e48",
   "metadata": {},
   "outputs": [],
   "source": [
    "instr = read_data('with_instrument', 'i_instrument').reset_index(drop = True).set_index(['tec','n']).unstack()\n",
    "instr.columns = instr.columns.droplevel(0)\n",
    "instr = instr.round(1)"
   ]
  },
  {
   "cell_type": "code",
   "execution_count": 30,
   "id": "f46a72ca-6c9e-458c-bbbc-9d63a7c09ffb",
   "metadata": {},
   "outputs": [
    {
     "data": {
      "text/html": [
       "<div>\n",
       "<style scoped>\n",
       "    .dataframe tbody tr th:only-of-type {\n",
       "        vertical-align: middle;\n",
       "    }\n",
       "\n",
       "    .dataframe tbody tr th {\n",
       "        vertical-align: top;\n",
       "    }\n",
       "\n",
       "    .dataframe thead th {\n",
       "        text-align: right;\n",
       "    }\n",
       "</style>\n",
       "<table border=\"1\" class=\"dataframe\">\n",
       "  <thead>\n",
       "    <tr style=\"text-align: right;\">\n",
       "      <th>n</th>\n",
       "      <th>north</th>\n",
       "      <th>south</th>\n",
       "    </tr>\n",
       "    <tr>\n",
       "      <th>tec</th>\n",
       "      <th></th>\n",
       "      <th></th>\n",
       "    </tr>\n",
       "  </thead>\n",
       "  <tbody>\n",
       "    <tr>\n",
       "      <th>base</th>\n",
       "      <td>80.3</td>\n",
       "      <td>79.4</td>\n",
       "    </tr>\n",
       "    <tr>\n",
       "      <th>peak</th>\n",
       "      <td>-33.0</td>\n",
       "      <td>-33.3</td>\n",
       "    </tr>\n",
       "    <tr>\n",
       "      <th>solar</th>\n",
       "      <td>10.5</td>\n",
       "      <td>30.9</td>\n",
       "    </tr>\n",
       "    <tr>\n",
       "      <th>wind</th>\n",
       "      <td>54.2</td>\n",
       "      <td>13.8</td>\n",
       "    </tr>\n",
       "  </tbody>\n",
       "</table>\n",
       "</div>"
      ],
      "text/plain": [
       "n      north  south\n",
       "tec                \n",
       "base    80.3   79.4\n",
       "peak   -33.0  -33.3\n",
       "solar   10.5   30.9\n",
       "wind    54.2   13.8"
      ]
     },
     "execution_count": 30,
     "metadata": {},
     "output_type": "execute_result"
    }
   ],
   "source": [
    "instr"
   ]
  },
  {
   "cell_type": "code",
   "execution_count": 31,
   "id": "5385ca8f-bcfc-48e4-9a95-4240bd81b4b7",
   "metadata": {},
   "outputs": [],
   "source": [
    "cap = read_data('with_instrument', 'o_cap').reset_index(drop = True).set_index(['tec','n']).unstack()\n",
    "cap.columns = cap.columns.droplevel(0)\n",
    "instr[cap.isna()] = np.nan"
   ]
  },
  {
   "cell_type": "code",
   "execution_count": 32,
   "id": "b267b4e5-510d-4a00-aec7-8d23b6db6b33",
   "metadata": {},
   "outputs": [],
   "source": [
    "shares = round(100 *instr / fixed_costs,1)"
   ]
  },
  {
   "cell_type": "code",
   "execution_count": 33,
   "id": "c9648b36-44f9-4b1a-ac20-04013d764707",
   "metadata": {},
   "outputs": [],
   "source": [
    "shares = shares.rename(columns={'north':'north (share)', 'south': 'south (share)'})\n",
    "#shares.columns = shares.columns.droplevel(0)"
   ]
  },
  {
   "cell_type": "code",
   "execution_count": 34,
   "id": "60ce8858-c9ca-405d-9fa5-a45cb3eed878",
   "metadata": {},
   "outputs": [
    {
     "data": {
      "text/html": [
       "<div>\n",
       "<style scoped>\n",
       "    .dataframe tbody tr th:only-of-type {\n",
       "        vertical-align: middle;\n",
       "    }\n",
       "\n",
       "    .dataframe tbody tr th {\n",
       "        vertical-align: top;\n",
       "    }\n",
       "\n",
       "    .dataframe thead th {\n",
       "        text-align: right;\n",
       "    }\n",
       "</style>\n",
       "<table border=\"1\" class=\"dataframe\">\n",
       "  <thead>\n",
       "    <tr style=\"text-align: right;\">\n",
       "      <th>n</th>\n",
       "      <th>north (share)</th>\n",
       "      <th>south (share)</th>\n",
       "    </tr>\n",
       "    <tr>\n",
       "      <th>tec</th>\n",
       "      <th></th>\n",
       "      <th></th>\n",
       "    </tr>\n",
       "  </thead>\n",
       "  <tbody>\n",
       "    <tr>\n",
       "      <th>base</th>\n",
       "      <td>30.9</td>\n",
       "      <td>30.5</td>\n",
       "    </tr>\n",
       "    <tr>\n",
       "      <th>peak</th>\n",
       "      <td>-37.5</td>\n",
       "      <td>-37.8</td>\n",
       "    </tr>\n",
       "    <tr>\n",
       "      <th>solar</th>\n",
       "      <td>7.7</td>\n",
       "      <td>22.6</td>\n",
       "    </tr>\n",
       "    <tr>\n",
       "      <th>wind</th>\n",
       "      <td>20.8</td>\n",
       "      <td>5.3</td>\n",
       "    </tr>\n",
       "  </tbody>\n",
       "</table>\n",
       "</div>"
      ],
      "text/plain": [
       "n      north (share)  south (share)\n",
       "tec                                \n",
       "base            30.9           30.5\n",
       "peak           -37.5          -37.8\n",
       "solar            7.7           22.6\n",
       "wind            20.8            5.3"
      ]
     },
     "execution_count": 34,
     "metadata": {},
     "output_type": "execute_result"
    }
   ],
   "source": [
    "shares"
   ]
  },
  {
   "cell_type": "code",
   "execution_count": 35,
   "id": "d846379d-a4af-465e-a794-ff5f6f1fe951",
   "metadata": {},
   "outputs": [],
   "source": [
    "instrument = pd.concat([instr, shares], axis=1)\n",
    "instrument = instrument.sort_index(axis = 1)"
   ]
  },
  {
   "cell_type": "code",
   "execution_count": 36,
   "id": "da9cd7bf-9eb4-4f15-8d61-ba5d3539caee",
   "metadata": {},
   "outputs": [],
   "source": [
    "#fixed_costs.columns = fixed_costs.columns.droplevel(0)\n",
    "instrument['Fixed cost'] = fixed_costs['north']"
   ]
  },
  {
   "cell_type": "code",
   "execution_count": 37,
   "id": "497eda19-bd00-47d3-8e56-0d747345a8b8",
   "metadata": {},
   "outputs": [
    {
     "data": {
      "text/html": [
       "<style  type=\"text/css\" >\n",
       "</style><table id=\"T_cd6ae_\" ><thead>    <tr>        <th class=\"index_name level0\" >n</th>        <th class=\"col_heading level0 col0\" >north</th>        <th class=\"col_heading level0 col1\" >north (share)</th>        <th class=\"col_heading level0 col2\" >south</th>        <th class=\"col_heading level0 col3\" >south (share)</th>        <th class=\"col_heading level0 col4\" >Fixed cost</th>    </tr>    <tr>        <th class=\"index_name level0\" >tec</th>        <th class=\"blank\" ></th>        <th class=\"blank\" ></th>        <th class=\"blank\" ></th>        <th class=\"blank\" ></th>        <th class=\"blank\" ></th>    </tr></thead><tbody>\n",
       "                <tr>\n",
       "                        <th id=\"T_cd6ae_level0_row0\" class=\"row_heading level0 row0\" >base</th>\n",
       "                        <td id=\"T_cd6ae_row0_col0\" class=\"data row0 col0\" >80 €</td>\n",
       "                        <td id=\"T_cd6ae_row0_col1\" class=\"data row0 col1\" >31%</td>\n",
       "                        <td id=\"T_cd6ae_row0_col2\" class=\"data row0 col2\" >79 €</td>\n",
       "                        <td id=\"T_cd6ae_row0_col3\" class=\"data row0 col3\" >30%</td>\n",
       "                        <td id=\"T_cd6ae_row0_col4\" class=\"data row0 col4\" >260 €</td>\n",
       "            </tr>\n",
       "            <tr>\n",
       "                        <th id=\"T_cd6ae_level0_row1\" class=\"row_heading level0 row1\" >peak</th>\n",
       "                        <td id=\"T_cd6ae_row1_col0\" class=\"data row1 col0\" >-33 €</td>\n",
       "                        <td id=\"T_cd6ae_row1_col1\" class=\"data row1 col1\" >-38%</td>\n",
       "                        <td id=\"T_cd6ae_row1_col2\" class=\"data row1 col2\" >-33 €</td>\n",
       "                        <td id=\"T_cd6ae_row1_col3\" class=\"data row1 col3\" >-38%</td>\n",
       "                        <td id=\"T_cd6ae_row1_col4\" class=\"data row1 col4\" >88 €</td>\n",
       "            </tr>\n",
       "            <tr>\n",
       "                        <th id=\"T_cd6ae_level0_row2\" class=\"row_heading level0 row2\" >solar</th>\n",
       "                        <td id=\"T_cd6ae_row2_col0\" class=\"data row2 col0\" >10 €</td>\n",
       "                        <td id=\"T_cd6ae_row2_col1\" class=\"data row2 col1\" >8%</td>\n",
       "                        <td id=\"T_cd6ae_row2_col2\" class=\"data row2 col2\" >31 €</td>\n",
       "                        <td id=\"T_cd6ae_row2_col3\" class=\"data row2 col3\" >23%</td>\n",
       "                        <td id=\"T_cd6ae_row2_col4\" class=\"data row2 col4\" >137 €</td>\n",
       "            </tr>\n",
       "            <tr>\n",
       "                        <th id=\"T_cd6ae_level0_row3\" class=\"row_heading level0 row3\" >wind</th>\n",
       "                        <td id=\"T_cd6ae_row3_col0\" class=\"data row3 col0\" >54 €</td>\n",
       "                        <td id=\"T_cd6ae_row3_col1\" class=\"data row3 col1\" >21%</td>\n",
       "                        <td id=\"T_cd6ae_row3_col2\" class=\"data row3 col2\" >14 €</td>\n",
       "                        <td id=\"T_cd6ae_row3_col3\" class=\"data row3 col3\" >5%</td>\n",
       "                        <td id=\"T_cd6ae_row3_col4\" class=\"data row3 col4\" >260 €</td>\n",
       "            </tr>\n",
       "    </tbody></table>"
      ],
      "text/plain": [
       "<pandas.io.formats.style.Styler at 0x1866261a9a0>"
      ]
     },
     "execution_count": 37,
     "metadata": {},
     "output_type": "execute_result"
    }
   ],
   "source": [
    "format_dict = {'north':'{0:,.0f} €', 'north (share)': '{0:,.0f}%', 'south': '{0:,.0f} €', 'south (share)': '{0:,.0f}%', 'Fixed cost': '{0:,.0f} €'}\n",
    "instrument.style.format(format_dict)"
   ]
  },
  {
   "cell_type": "code",
   "execution_count": 38,
   "id": "48d374b7-9a7e-4036-8e7e-c173a574028c",
   "metadata": {},
   "outputs": [
    {
     "data": {
      "text/html": [
       "<div>\n",
       "<style scoped>\n",
       "    .dataframe tbody tr th:only-of-type {\n",
       "        vertical-align: middle;\n",
       "    }\n",
       "\n",
       "    .dataframe tbody tr th {\n",
       "        vertical-align: top;\n",
       "    }\n",
       "\n",
       "    .dataframe thead th {\n",
       "        text-align: right;\n",
       "    }\n",
       "</style>\n",
       "<table border=\"1\" class=\"dataframe\">\n",
       "  <thead>\n",
       "    <tr style=\"text-align: right;\">\n",
       "      <th>n</th>\n",
       "      <th>north</th>\n",
       "      <th>south</th>\n",
       "    </tr>\n",
       "    <tr>\n",
       "      <th>tec</th>\n",
       "      <th></th>\n",
       "      <th></th>\n",
       "    </tr>\n",
       "  </thead>\n",
       "  <tbody>\n",
       "    <tr>\n",
       "      <th>base</th>\n",
       "      <td>80.3</td>\n",
       "      <td>79.4</td>\n",
       "    </tr>\n",
       "    <tr>\n",
       "      <th>peak</th>\n",
       "      <td>-33.0</td>\n",
       "      <td>-33.3</td>\n",
       "    </tr>\n",
       "    <tr>\n",
       "      <th>solar</th>\n",
       "      <td>10.5</td>\n",
       "      <td>30.9</td>\n",
       "    </tr>\n",
       "    <tr>\n",
       "      <th>wind</th>\n",
       "      <td>54.2</td>\n",
       "      <td>13.8</td>\n",
       "    </tr>\n",
       "  </tbody>\n",
       "</table>\n",
       "</div>"
      ],
      "text/plain": [
       "n      north  south\n",
       "tec                \n",
       "base    80.3   79.4\n",
       "peak   -33.0  -33.3\n",
       "solar   10.5   30.9\n",
       "wind    54.2   13.8"
      ]
     },
     "execution_count": 38,
     "metadata": {},
     "output_type": "execute_result"
    }
   ],
   "source": [
    "instr"
   ]
  },
  {
   "cell_type": "markdown",
   "id": "a837be38-207c-40bb-8552-7edca32332ca",
   "metadata": {},
   "source": [
    "# testing"
   ]
  },
  {
   "cell_type": "code",
   "execution_count": 50,
   "id": "63a360df-267e-4e43-a8bc-0a32c84a6f53",
   "metadata": {},
   "outputs": [
    {
     "data": {
      "text/plain": [
       "array([ 4.62, 10.65,  9.28,  9.37])"
      ]
     },
     "execution_count": 50,
     "metadata": {},
     "output_type": "execute_result"
    }
   ],
   "source": [
    "width = 0.8\n",
    "#baseload\n",
    "tmp = df.loc[df['tec'] == 'base'][location].fillna(0)\n",
    "tmp = tmp.reindex(index = scenarios)\n",
    "\n",
    "tmp.values\n",
    "\n"
   ]
  },
  {
   "cell_type": "code",
   "execution_count": 49,
   "id": "c1093554-5644-4b51-8fb6-728d1bb13cf5",
   "metadata": {},
   "outputs": [
    {
     "data": {
      "text/plain": [
       "array([0, 1, 2, 3])"
      ]
     },
     "execution_count": 49,
     "metadata": {},
     "output_type": "execute_result"
    }
   ],
   "source": [
    "y_pos"
   ]
  },
  {
   "cell_type": "code",
   "execution_count": 51,
   "id": "75803e54-1851-4f41-9cee-fcb40ecf4452",
   "metadata": {},
   "outputs": [],
   "source": [
    "leg = axes.barh(y_pos, tmp.values, width, align='center', color = 'darkred')\n",
    "left = tmp"
   ]
  },
  {
   "cell_type": "code",
   "execution_count": 52,
   "id": "b5071a6d-5764-40ce-810b-3c41a3abe893",
   "metadata": {},
   "outputs": [
    {
     "data": {
      "text/plain": [
       "<BarContainer object of 4 artists>"
      ]
     },
     "execution_count": 52,
     "metadata": {},
     "output_type": "execute_result"
    }
   ],
   "source": [
    "leg"
   ]
  },
  {
   "cell_type": "code",
   "execution_count": null,
   "id": "c64f3f56-4b96-4e99-9a60-3c3b49a9f759",
   "metadata": {},
   "outputs": [],
   "source": []
  }
 ],
 "metadata": {
  "kernelspec": {
   "display_name": "Python 3",
   "language": "python",
   "name": "python3"
  },
  "language_info": {
   "codemirror_mode": {
    "name": "ipython",
    "version": 3
   },
   "file_extension": ".py",
   "mimetype": "text/x-python",
   "name": "python",
   "nbconvert_exporter": "python",
   "pygments_lexer": "ipython3",
   "version": "3.9.1"
  }
 },
 "nbformat": 4,
 "nbformat_minor": 5
}

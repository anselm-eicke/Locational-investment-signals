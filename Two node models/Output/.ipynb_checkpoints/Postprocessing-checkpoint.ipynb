{
 "cells": [
  {
   "cell_type": "code",
   "execution_count": 1,
   "id": "07958183-16b7-4e7a-bdfe-545e1abe1329",
   "metadata": {},
   "outputs": [],
   "source": [
    "import gdxpds\n",
    "import pandas as pd\n",
    "import matplotlib.pyplot as plt\n",
    "import numpy as np"
   ]
  },
  {
   "cell_type": "code",
   "execution_count": 2,
   "id": "af123d3a-1f20-416c-8335-ac8bffeb6b6d",
   "metadata": {},
   "outputs": [],
   "source": [
    "scenarios = list(['nodal', 'with_instrument', 'without_instrument']);\n",
    "nodes = list(['north', 'south'])"
   ]
  },
  {
   "cell_type": "code",
   "execution_count": 3,
   "id": "5d2a8854-b836-4493-89ed-f273c683cfcd",
   "metadata": {},
   "outputs": [],
   "source": [
    "scenarios = list(['nodal', 'with_instrument', 'without_instrument', 'agnostic_instrument']);\n",
    "\n",
    "nodes = list(['north', 'south'])"
   ]
  },
  {
   "cell_type": "code",
   "execution_count": 4,
   "id": "393ce09e-6ac3-4835-95e4-7516087b898d",
   "metadata": {},
   "outputs": [],
   "source": [
    "def read_data(file, indicator):\n",
    "    gams_dir='C:\\Program Files\\GAMS'\n",
    "    df = gdxpds.to_dataframes(str(file) + '.gdx', gams_dir=gams_dir)\n",
    "    df = df[indicator]\n",
    "    df['model'] = file\n",
    "    if 'Level' in df.columns:\n",
    "        df['Value'] = df['Level']\n",
    "    df['Value'] = df['Value'].round(2)\n",
    "    return(df.set_index(['model']))\n",
    "\n",
    "def read(indicator):\n",
    "    if (len(scenarios) == 4):\n",
    "        df = read_data(scenarios[0], indicator).append(read_data(scenarios[1], indicator)).append(read_data(scenarios[2], indicator)).append(read_data(scenarios[3], indicator))\n",
    "    elif (len(scenarios) == 3):\n",
    "        df = read_data(scenarios[0], indicator).append(read_data(scenarios[1], indicator)).append(read_data(scenarios[2], indicator))\n",
    "    return(df)\n",
    "    \n",
    "def plot_distribution(df, axes, location):\n",
    "    \n",
    "    width = 0.8\n",
    "    #baseload\n",
    "    \n",
    "    tmp = df.loc[df['tec'] == 'base'][location].fillna(0)\n",
    "    tmp = tmp.reindex(index = scenarios)\n",
    "    leg = axes.barh(y_pos, tmp, width, align='center', color = 'darkred')\n",
    "    left = tmp.fillna(0)\n",
    "\n",
    "    #peaker\n",
    "    tmp = df.loc[df['tec'] == 'peak'][location].fillna(0)\n",
    "    tmp = tmp.reindex(index = scenarios)\n",
    "    axes.barh(y_pos, tmp, width, left=left, align='center', color = 'black')\n",
    "    left = left + tmp.fillna(0)\n",
    "\n",
    "    #wind\n",
    "    tmp = df.loc[df['tec'] == 'wind'][location].fillna(0)\n",
    "    tmp = tmp.reindex(index = scenarios)\n",
    "    axes.barh(y_pos, tmp, width, left=left, align='center', color = 'lightblue')\n",
    "    left = left + tmp.fillna(0)\n",
    "\n",
    "    #solar\n",
    "    tmp = df.loc[df['tec'] == 'solar'][location].fillna(0)\n",
    "    tmp = tmp.reindex(index = scenarios)\n",
    "    axes.barh(y_pos, tmp, width, left=left, align='center', color = 'gold')\n",
    "    left = left + tmp.fillna(0)\n",
    "    #leg.legend()\n",
    "    return(axes)\n",
    "\n",
    "    "
   ]
  },
  {
   "cell_type": "code",
   "execution_count": 5,
   "id": "df437588-8b57-4d4b-8a02-c146c361a356",
   "metadata": {},
   "outputs": [],
   "source": [
    "df = read('o_gen')\n",
    "df = df.reset_index().set_index(['model','t', 'n','tec'])\n",
    "df = df.swaplevel().unstack()\n",
    "df.columns = df.columns.droplevel(0)\n",
    "df.columns.name = ''\n",
    "\n",
    "df = df.groupby(['model','tec']).sum()\n",
    "df = df.reset_index().set_index(['model'])\n",
    "gen = df"
   ]
  },
  {
   "cell_type": "code",
   "execution_count": 6,
   "id": "c1e84cab-5a3e-475e-aeb5-5c2272db5448",
   "metadata": {},
   "outputs": [
    {
     "data": {
      "text/html": [
       "<div>\n",
       "<style scoped>\n",
       "    .dataframe tbody tr th:only-of-type {\n",
       "        vertical-align: middle;\n",
       "    }\n",
       "\n",
       "    .dataframe tbody tr th {\n",
       "        vertical-align: top;\n",
       "    }\n",
       "\n",
       "    .dataframe thead th {\n",
       "        text-align: right;\n",
       "    }\n",
       "</style>\n",
       "<table border=\"1\" class=\"dataframe\">\n",
       "  <thead>\n",
       "    <tr style=\"text-align: right;\">\n",
       "      <th></th>\n",
       "      <th>tec</th>\n",
       "      <th>north</th>\n",
       "      <th>south</th>\n",
       "    </tr>\n",
       "    <tr>\n",
       "      <th>model</th>\n",
       "      <th></th>\n",
       "      <th></th>\n",
       "      <th></th>\n",
       "    </tr>\n",
       "  </thead>\n",
       "  <tbody>\n",
       "    <tr>\n",
       "      <th>agnostic_instrument</th>\n",
       "      <td>base</td>\n",
       "      <td>167.85</td>\n",
       "      <td>311.35</td>\n",
       "    </tr>\n",
       "    <tr>\n",
       "      <th>agnostic_instrument</th>\n",
       "      <td>peak</td>\n",
       "      <td>5.34</td>\n",
       "      <td>58.24</td>\n",
       "    </tr>\n",
       "    <tr>\n",
       "      <th>agnostic_instrument</th>\n",
       "      <td>solar</td>\n",
       "      <td>0.00</td>\n",
       "      <td>31.75</td>\n",
       "    </tr>\n",
       "    <tr>\n",
       "      <th>agnostic_instrument</th>\n",
       "      <td>wind</td>\n",
       "      <td>50.19</td>\n",
       "      <td>26.51</td>\n",
       "    </tr>\n",
       "    <tr>\n",
       "      <th>nodal</th>\n",
       "      <td>base</td>\n",
       "      <td>22.55</td>\n",
       "      <td>384.84</td>\n",
       "    </tr>\n",
       "    <tr>\n",
       "      <th>nodal</th>\n",
       "      <td>peak</td>\n",
       "      <td>66.29</td>\n",
       "      <td>29.99</td>\n",
       "    </tr>\n",
       "    <tr>\n",
       "      <th>nodal</th>\n",
       "      <td>solar</td>\n",
       "      <td>8.26</td>\n",
       "      <td>29.20</td>\n",
       "    </tr>\n",
       "    <tr>\n",
       "      <th>nodal</th>\n",
       "      <td>wind</td>\n",
       "      <td>77.79</td>\n",
       "      <td>31.17</td>\n",
       "    </tr>\n",
       "    <tr>\n",
       "      <th>with_instrument</th>\n",
       "      <td>base</td>\n",
       "      <td>23.04</td>\n",
       "      <td>384.31</td>\n",
       "    </tr>\n",
       "    <tr>\n",
       "      <th>with_instrument</th>\n",
       "      <td>peak</td>\n",
       "      <td>69.67</td>\n",
       "      <td>28.13</td>\n",
       "    </tr>\n",
       "    <tr>\n",
       "      <th>with_instrument</th>\n",
       "      <td>solar</td>\n",
       "      <td>8.26</td>\n",
       "      <td>29.20</td>\n",
       "    </tr>\n",
       "    <tr>\n",
       "      <th>with_instrument</th>\n",
       "      <td>wind</td>\n",
       "      <td>77.79</td>\n",
       "      <td>31.17</td>\n",
       "    </tr>\n",
       "    <tr>\n",
       "      <th>without_instrument</th>\n",
       "      <td>base</td>\n",
       "      <td>232.04</td>\n",
       "      <td>233.82</td>\n",
       "    </tr>\n",
       "    <tr>\n",
       "      <th>without_instrument</th>\n",
       "      <td>peak</td>\n",
       "      <td>37.69</td>\n",
       "      <td>29.77</td>\n",
       "    </tr>\n",
       "    <tr>\n",
       "      <th>without_instrument</th>\n",
       "      <td>solar</td>\n",
       "      <td>3.42</td>\n",
       "      <td>26.25</td>\n",
       "    </tr>\n",
       "    <tr>\n",
       "      <th>without_instrument</th>\n",
       "      <td>wind</td>\n",
       "      <td>69.58</td>\n",
       "      <td>18.85</td>\n",
       "    </tr>\n",
       "  </tbody>\n",
       "</table>\n",
       "</div>"
      ],
      "text/plain": [
       "                       tec   north   south\n",
       "model                                     \n",
       "agnostic_instrument   base  167.85  311.35\n",
       "agnostic_instrument   peak    5.34   58.24\n",
       "agnostic_instrument  solar    0.00   31.75\n",
       "agnostic_instrument   wind   50.19   26.51\n",
       "nodal                 base   22.55  384.84\n",
       "nodal                 peak   66.29   29.99\n",
       "nodal                solar    8.26   29.20\n",
       "nodal                 wind   77.79   31.17\n",
       "with_instrument       base   23.04  384.31\n",
       "with_instrument       peak   69.67   28.13\n",
       "with_instrument      solar    8.26   29.20\n",
       "with_instrument       wind   77.79   31.17\n",
       "without_instrument    base  232.04  233.82\n",
       "without_instrument    peak   37.69   29.77\n",
       "without_instrument   solar    3.42   26.25\n",
       "without_instrument    wind   69.58   18.85"
      ]
     },
     "execution_count": 6,
     "metadata": {},
     "output_type": "execute_result"
    }
   ],
   "source": [
    "gen"
   ]
  },
  {
   "cell_type": "code",
   "execution_count": 7,
   "id": "b3f27d06-2567-4caf-876d-9e2e9684e183",
   "metadata": {},
   "outputs": [],
   "source": [
    "gen['total'] = gen['north'] + gen['south']"
   ]
  },
  {
   "cell_type": "code",
   "execution_count": 8,
   "id": "612413d2-26b5-49de-bd70-a69774d20953",
   "metadata": {},
   "outputs": [],
   "source": [
    "gen['type'] = ['RE' if tec in ['wind', 'solar'] else 'non RE' for tec in gen['tec']]"
   ]
  },
  {
   "cell_type": "code",
   "execution_count": 9,
   "id": "1453f08f-f13f-4355-8faf-22bf24c46c33",
   "metadata": {},
   "outputs": [],
   "source": [
    "re_shares = gen[['total', 'type']].groupby(['model', 'type']).sum()"
   ]
  },
  {
   "cell_type": "code",
   "execution_count": 10,
   "id": "26764aec-7ee5-4eea-8b5a-e751679d86f3",
   "metadata": {},
   "outputs": [],
   "source": [
    "re_shares = re_shares.unstack()"
   ]
  },
  {
   "cell_type": "code",
   "execution_count": 11,
   "id": "b2d0aa90-fbd7-4c78-ab8d-292eefc2abb7",
   "metadata": {},
   "outputs": [
    {
     "data": {
      "text/html": [
       "<div>\n",
       "<style scoped>\n",
       "    .dataframe tbody tr th:only-of-type {\n",
       "        vertical-align: middle;\n",
       "    }\n",
       "\n",
       "    .dataframe tbody tr th {\n",
       "        vertical-align: top;\n",
       "    }\n",
       "\n",
       "    .dataframe thead tr th {\n",
       "        text-align: left;\n",
       "    }\n",
       "\n",
       "    .dataframe thead tr:last-of-type th {\n",
       "        text-align: right;\n",
       "    }\n",
       "</style>\n",
       "<table border=\"1\" class=\"dataframe\">\n",
       "  <thead>\n",
       "    <tr>\n",
       "      <th></th>\n",
       "      <th colspan=\"2\" halign=\"left\">total</th>\n",
       "    </tr>\n",
       "    <tr>\n",
       "      <th>type</th>\n",
       "      <th>RE</th>\n",
       "      <th>non RE</th>\n",
       "    </tr>\n",
       "    <tr>\n",
       "      <th>model</th>\n",
       "      <th></th>\n",
       "      <th></th>\n",
       "    </tr>\n",
       "  </thead>\n",
       "  <tbody>\n",
       "    <tr>\n",
       "      <th>agnostic_instrument</th>\n",
       "      <td>108.45</td>\n",
       "      <td>542.78</td>\n",
       "    </tr>\n",
       "    <tr>\n",
       "      <th>nodal</th>\n",
       "      <td>146.42</td>\n",
       "      <td>503.67</td>\n",
       "    </tr>\n",
       "    <tr>\n",
       "      <th>with_instrument</th>\n",
       "      <td>146.42</td>\n",
       "      <td>505.15</td>\n",
       "    </tr>\n",
       "    <tr>\n",
       "      <th>without_instrument</th>\n",
       "      <td>118.10</td>\n",
       "      <td>533.32</td>\n",
       "    </tr>\n",
       "  </tbody>\n",
       "</table>\n",
       "</div>"
      ],
      "text/plain": [
       "                      total        \n",
       "type                     RE  non RE\n",
       "model                              \n",
       "agnostic_instrument  108.45  542.78\n",
       "nodal                146.42  503.67\n",
       "with_instrument      146.42  505.15\n",
       "without_instrument   118.10  533.32"
      ]
     },
     "execution_count": 11,
     "metadata": {},
     "output_type": "execute_result"
    }
   ],
   "source": [
    "re_shares"
   ]
  },
  {
   "cell_type": "code",
   "execution_count": 12,
   "id": "685584f7-0cef-47be-9c2e-7d0d6bd7a885",
   "metadata": {},
   "outputs": [
    {
     "data": {
      "text/plain": [
       "model\n",
       "agnostic_instrument    0.166531\n",
       "nodal                  0.225230\n",
       "with_instrument        0.224719\n",
       "without_instrument     0.181296\n",
       "dtype: float64"
      ]
     },
     "execution_count": 12,
     "metadata": {},
     "output_type": "execute_result"
    }
   ],
   "source": [
    "re_shares['total', 'RE'] / (re_shares['total', 'RE'] + re_shares['total', 'non RE'])"
   ]
  },
  {
   "cell_type": "code",
   "execution_count": 13,
   "id": "e2948ac8-9a9e-46a2-8b1f-dda72b642845",
   "metadata": {},
   "outputs": [
    {
     "data": {
      "text/html": [
       "<div>\n",
       "<style scoped>\n",
       "    .dataframe tbody tr th:only-of-type {\n",
       "        vertical-align: middle;\n",
       "    }\n",
       "\n",
       "    .dataframe tbody tr th {\n",
       "        vertical-align: top;\n",
       "    }\n",
       "\n",
       "    .dataframe thead th {\n",
       "        text-align: right;\n",
       "    }\n",
       "</style>\n",
       "<table border=\"1\" class=\"dataframe\">\n",
       "  <thead>\n",
       "    <tr style=\"text-align: right;\">\n",
       "      <th></th>\n",
       "      <th>north</th>\n",
       "      <th>south</th>\n",
       "      <th>total</th>\n",
       "      <th>share north</th>\n",
       "    </tr>\n",
       "    <tr>\n",
       "      <th>model</th>\n",
       "      <th></th>\n",
       "      <th></th>\n",
       "      <th></th>\n",
       "      <th></th>\n",
       "    </tr>\n",
       "  </thead>\n",
       "  <tbody>\n",
       "    <tr>\n",
       "      <th>agnostic_instrument</th>\n",
       "      <td>40766.850</td>\n",
       "      <td>78082.625</td>\n",
       "      <td>118849.475</td>\n",
       "      <td>0.343012</td>\n",
       "    </tr>\n",
       "    <tr>\n",
       "      <th>nodal</th>\n",
       "      <td>31917.425</td>\n",
       "      <td>86724.000</td>\n",
       "      <td>118641.425</td>\n",
       "      <td>0.269024</td>\n",
       "    </tr>\n",
       "    <tr>\n",
       "      <th>with_instrument</th>\n",
       "      <td>32623.700</td>\n",
       "      <td>86287.825</td>\n",
       "      <td>118911.525</td>\n",
       "      <td>0.274353</td>\n",
       "    </tr>\n",
       "    <tr>\n",
       "      <th>without_instrument</th>\n",
       "      <td>62548.225</td>\n",
       "      <td>56335.925</td>\n",
       "      <td>118884.150</td>\n",
       "      <td>0.526128</td>\n",
       "    </tr>\n",
       "  </tbody>\n",
       "</table>\n",
       "</div>"
      ],
      "text/plain": [
       "                         north      south       total  share north\n",
       "model                                                             \n",
       "agnostic_instrument  40766.850  78082.625  118849.475     0.343012\n",
       "nodal                31917.425  86724.000  118641.425     0.269024\n",
       "with_instrument      32623.700  86287.825  118911.525     0.274353\n",
       "without_instrument   62548.225  56335.925  118884.150     0.526128"
      ]
     },
     "execution_count": 13,
     "metadata": {},
     "output_type": "execute_result"
    }
   ],
   "source": [
    "sums = gen.groupby(['model']).sum()\n",
    "sums['total'] = sums[nodes[0]] + sums[nodes[1]]\n",
    "sums = sums /48 * 8760\n",
    "sums['share north'] = sums[nodes[0]] / sums['total']\n",
    "sums\n",
    "# in GWh"
   ]
  },
  {
   "cell_type": "markdown",
   "id": "68f14ab3-cc4a-4392-a2d1-246b8155d002",
   "metadata": {},
   "source": [
    "# Installed capacities"
   ]
  },
  {
   "cell_type": "code",
   "execution_count": 14,
   "id": "c3bbb3c2-5a0f-4c02-9126-b45d662f067e",
   "metadata": {},
   "outputs": [],
   "source": [
    "df = read('o_cap')\n",
    "df = df.reset_index().set_index(['model', 'n','tec'])\n",
    "df = df.swaplevel().unstack()\n",
    "df.columns = df.columns.droplevel(0)\n",
    "df.columns.name = ''\n",
    "df = df.reset_index().set_index(['model'])\n",
    "capacities = df"
   ]
  },
  {
   "cell_type": "code",
   "execution_count": 15,
   "id": "485eab88-195e-4db7-a575-220972693df2",
   "metadata": {},
   "outputs": [
    {
     "data": {
      "text/html": [
       "<div>\n",
       "<style scoped>\n",
       "    .dataframe tbody tr th:only-of-type {\n",
       "        vertical-align: middle;\n",
       "    }\n",
       "\n",
       "    .dataframe tbody tr th {\n",
       "        vertical-align: top;\n",
       "    }\n",
       "\n",
       "    .dataframe thead th {\n",
       "        text-align: right;\n",
       "    }\n",
       "</style>\n",
       "<table border=\"1\" class=\"dataframe\">\n",
       "  <thead>\n",
       "    <tr style=\"text-align: right;\">\n",
       "      <th></th>\n",
       "      <th>tec</th>\n",
       "      <th>north</th>\n",
       "      <th>south</th>\n",
       "    </tr>\n",
       "    <tr>\n",
       "      <th>model</th>\n",
       "      <th></th>\n",
       "      <th></th>\n",
       "      <th></th>\n",
       "    </tr>\n",
       "  </thead>\n",
       "  <tbody>\n",
       "    <tr>\n",
       "      <th>agnostic_instrument</th>\n",
       "      <td>base</td>\n",
       "      <td>14.57</td>\n",
       "      <td>26.41</td>\n",
       "    </tr>\n",
       "    <tr>\n",
       "      <th>agnostic_instrument</th>\n",
       "      <td>peak</td>\n",
       "      <td>1.04</td>\n",
       "      <td>12.89</td>\n",
       "    </tr>\n",
       "    <tr>\n",
       "      <th>agnostic_instrument</th>\n",
       "      <td>solar</td>\n",
       "      <td>NaN</td>\n",
       "      <td>21.17</td>\n",
       "    </tr>\n",
       "    <tr>\n",
       "      <th>agnostic_instrument</th>\n",
       "      <td>wind</td>\n",
       "      <td>20.40</td>\n",
       "      <td>12.87</td>\n",
       "    </tr>\n",
       "    <tr>\n",
       "      <th>nodal</th>\n",
       "      <td>base</td>\n",
       "      <td>2.05</td>\n",
       "      <td>32.71</td>\n",
       "    </tr>\n",
       "    <tr>\n",
       "      <th>nodal</th>\n",
       "      <td>peak</td>\n",
       "      <td>15.02</td>\n",
       "      <td>4.34</td>\n",
       "    </tr>\n",
       "    <tr>\n",
       "      <th>nodal</th>\n",
       "      <td>solar</td>\n",
       "      <td>5.98</td>\n",
       "      <td>19.46</td>\n",
       "    </tr>\n",
       "    <tr>\n",
       "      <th>nodal</th>\n",
       "      <td>wind</td>\n",
       "      <td>31.62</td>\n",
       "      <td>15.14</td>\n",
       "    </tr>\n",
       "    <tr>\n",
       "      <th>with_instrument</th>\n",
       "      <td>base</td>\n",
       "      <td>2.05</td>\n",
       "      <td>32.71</td>\n",
       "    </tr>\n",
       "    <tr>\n",
       "      <th>with_instrument</th>\n",
       "      <td>peak</td>\n",
       "      <td>15.02</td>\n",
       "      <td>4.34</td>\n",
       "    </tr>\n",
       "    <tr>\n",
       "      <th>with_instrument</th>\n",
       "      <td>solar</td>\n",
       "      <td>5.98</td>\n",
       "      <td>19.46</td>\n",
       "    </tr>\n",
       "    <tr>\n",
       "      <th>with_instrument</th>\n",
       "      <td>wind</td>\n",
       "      <td>31.62</td>\n",
       "      <td>15.14</td>\n",
       "    </tr>\n",
       "    <tr>\n",
       "      <th>without_instrument</th>\n",
       "      <td>base</td>\n",
       "      <td>20.01</td>\n",
       "      <td>20.01</td>\n",
       "    </tr>\n",
       "    <tr>\n",
       "      <th>without_instrument</th>\n",
       "      <td>peak</td>\n",
       "      <td>7.27</td>\n",
       "      <td>7.27</td>\n",
       "    </tr>\n",
       "    <tr>\n",
       "      <th>without_instrument</th>\n",
       "      <td>solar</td>\n",
       "      <td>2.48</td>\n",
       "      <td>17.50</td>\n",
       "    </tr>\n",
       "    <tr>\n",
       "      <th>without_instrument</th>\n",
       "      <td>wind</td>\n",
       "      <td>28.29</td>\n",
       "      <td>9.15</td>\n",
       "    </tr>\n",
       "  </tbody>\n",
       "</table>\n",
       "</div>"
      ],
      "text/plain": [
       "                       tec  north  south\n",
       "model                                   \n",
       "agnostic_instrument   base  14.57  26.41\n",
       "agnostic_instrument   peak   1.04  12.89\n",
       "agnostic_instrument  solar    NaN  21.17\n",
       "agnostic_instrument   wind  20.40  12.87\n",
       "nodal                 base   2.05  32.71\n",
       "nodal                 peak  15.02   4.34\n",
       "nodal                solar   5.98  19.46\n",
       "nodal                 wind  31.62  15.14\n",
       "with_instrument       base   2.05  32.71\n",
       "with_instrument       peak  15.02   4.34\n",
       "with_instrument      solar   5.98  19.46\n",
       "with_instrument       wind  31.62  15.14\n",
       "without_instrument    base  20.01  20.01\n",
       "without_instrument    peak   7.27   7.27\n",
       "without_instrument   solar   2.48  17.50\n",
       "without_instrument    wind  28.29   9.15"
      ]
     },
     "execution_count": 15,
     "metadata": {},
     "output_type": "execute_result"
    }
   ],
   "source": [
    "capacities"
   ]
  },
  {
   "cell_type": "code",
   "execution_count": 16,
   "id": "da510634-5cec-49c0-a5be-f91ad259c42d",
   "metadata": {},
   "outputs": [
    {
     "data": {
      "image/png": "[encoded data removed]",
      "text/plain": [
       "<Figure size 720x165.6 with 2 Axes>"
      ]
     },
     "metadata": {
      "needs_background": "light"
     },
     "output_type": "display_data"
    }
   ],
   "source": [
    "#plt.rcdefaults()\n",
    "fig = plt.figure(figsize=(10, 2.3))\n",
    "\n",
    "ax1 = plt.subplot(1,2,1)\n",
    "ax2 = plt.subplot(1,2,2)\n",
    "\n",
    "y_pos = np.arange(len(scenarios))\n",
    "#leg = pd.Dataframe()\n",
    "\n",
    "plot_distribution(capacities, ax1, 'north')\n",
    "axes = plot_distribution(capacities, ax2, 'south')\n",
    "\n",
    "ax1.set_xlim(0, 175)\n",
    "ax2.set_xlim(0, 175)\n",
    "\n",
    "ax1.set_title('North')\n",
    "ax2.set_title('South')\n",
    "                        \n",
    "ax2.legend(['Base', 'Peak', 'Wind', 'Solar'], bbox_to_anchor=(1.01, 0.87))\n",
    "ax1.set_yticks(y_pos);\n",
    "\n",
    "if len(scenarios) == 3:\n",
    "    ax1.set_yticklabels(['First-best', 'Second-best', 'Reference scenario'])\n",
    "ax2.set_yticklabels([]);\n",
    "ax1.set_xlabel('Installed capacity in GW')\n",
    "ax2.set_xlabel('Installed capacity in GW')\n",
    "plt.tight_layout()\n",
    "\n",
    "fig.savefig('Figures/capacity_distribution.jpeg', dpi=500)"
   ]
  },
  {
   "cell_type": "code",
   "execution_count": 17,
   "id": "7aabf416-00b9-4d1f-be3e-49469848858c",
   "metadata": {},
   "outputs": [
    {
     "data": {
      "image/png": "[encoded data removed]",
      "text/plain": [
       "<Figure size 720x237.6 with 2 Axes>"
      ]
     },
     "metadata": {
      "needs_background": "light"
     },
     "output_type": "display_data"
    }
   ],
   "source": [
    "# plot generation\n",
    "#plt.rcdefaults()\n",
    "fig = plt.figure(figsize=(10, 3.3))\n",
    "\n",
    "ax1 = plt.subplot(1,2,1)\n",
    "ax2 = plt.subplot(1,2,2)\n",
    "\n",
    "y_pos = np.arange(len(scenarios))\n",
    "#leg = pd.Dataframe()\n",
    "\n",
    "plot_distribution(gen, ax1, nodes[0])\n",
    "axes = plot_distribution(gen, ax2, nodes[1])\n",
    "\n",
    "ax1.set_xlim(0, 1100)\n",
    "ax2.set_xlim(0, 1100)\n",
    "\n",
    "ax1.set_title('North')\n",
    "ax2.set_title('South')\n",
    "                        \n",
    "ax2.legend(['Base', 'Peak', 'Wind', 'Solar'], bbox_to_anchor=(1.0, 1))\n",
    "#ax1.legend(['Base', 'Peak', 'Wind', 'Solar'])\n",
    "ax1.set_yticks(y_pos);\n",
    "\n",
    "if len(scenarios) == 3:\n",
    "    ax1.set_yticklabels(['Nodal market', 'Locational instrument', 'Reference scenario']);\n",
    "    \n",
    "ax2.set_yticklabels([]);\n",
    "ax1.set_xlabel('Generation in GWh')\n",
    "ax2.set_xlabel('Generation in GWh')\n",
    "plt.tight_layout()\n",
    "\n",
    "fig.savefig('generation_distribution.jpeg', dpi=500)"
   ]
  },
  {
   "cell_type": "markdown",
   "id": "a76428a9-c96b-4672-b196-26adf5c07822",
   "metadata": {},
   "source": [
    "# Welfare comparison"
   ]
  },
  {
   "cell_type": "code",
   "execution_count": 18,
   "id": "596a2026-ec24-41f1-9417-e61fcaa04f31",
   "metadata": {},
   "outputs": [],
   "source": [
    "welfare = pd.DataFrame(index = scenarios, columns = ['Network cost', 'Generation cost', 'Gross consumer surplus'])"
   ]
  },
  {
   "cell_type": "code",
   "execution_count": 19,
   "id": "d6ee85d2-1492-4b2f-a9a0-f5a8133da966",
   "metadata": {},
   "outputs": [],
   "source": [
    "for scenario in scenarios:\n",
    "    welfare.loc[scenario, 'Network cost'] = read_data(scenario, 'network_cost').iloc[0,0]\n",
    "    welfare.loc[scenario, 'Generation cost'] = read_data(scenario, 'generation_costs').iloc[0,0]\n",
    "    welfare.loc[scenario, 'Gross consumer surplus'] = read_data(scenario, 'consumer_surplus').iloc[0,0]"
   ]
  },
  {
   "cell_type": "code",
   "execution_count": 20,
   "id": "593d4d92-8f84-46cb-a604-0bff4f463c19",
   "metadata": {},
   "outputs": [],
   "source": [
    "welfare['Welfare'] = welfare['Gross consumer surplus'] - welfare['Network cost'] - welfare['Generation cost'];\n",
    "#welfare['Welfare'] = welfare['Welfare']\n",
    "\n"
   ]
  },
  {
   "cell_type": "code",
   "execution_count": 21,
   "id": "0a2ac94a-9b4b-471e-8e21-556a32734352",
   "metadata": {},
   "outputs": [],
   "source": [
    "welfare = welfare / 1000"
   ]
  },
  {
   "cell_type": "code",
   "execution_count": 22,
   "id": "43b28ff7-ccfa-4b4a-876a-9ff19a2d82fc",
   "metadata": {},
   "outputs": [
    {
     "data": {
      "text/html": [
       "<style type=\"text/css\">\n",
       "</style>\n",
       "<table id=\"T_c054e_\">\n",
       "  <thead>\n",
       "    <tr>\n",
       "      <th class=\"blank level0\" >&nbsp;</th>\n",
       "      <th class=\"col_heading level0 col0\" >Network cost</th>\n",
       "      <th class=\"col_heading level0 col1\" >Generation cost</th>\n",
       "      <th class=\"col_heading level0 col2\" >Gross consumer surplus</th>\n",
       "      <th class=\"col_heading level0 col3\" >Welfare</th>\n",
       "    </tr>\n",
       "  </thead>\n",
       "  <tbody>\n",
       "    <tr>\n",
       "      <th id=\"T_c054e_level0_row0\" class=\"row_heading level0 row0\" >nodal</th>\n",
       "      <td id=\"T_c054e_row0_col0\" class=\"data row0 col0\" >1.50</td>\n",
       "      <td id=\"T_c054e_row0_col1\" class=\"data row0 col1\" >49.41</td>\n",
       "      <td id=\"T_c054e_row0_col2\" class=\"data row0 col2\" >401.21</td>\n",
       "      <td id=\"T_c054e_row0_col3\" class=\"data row0 col3\" >350.30</td>\n",
       "    </tr>\n",
       "    <tr>\n",
       "      <th id=\"T_c054e_level0_row1\" class=\"row_heading level0 row1\" >with_instrument</th>\n",
       "      <td id=\"T_c054e_row1_col0\" class=\"data row1 col0\" >1.60</td>\n",
       "      <td id=\"T_c054e_row1_col1\" class=\"data row1 col1\" >49.52</td>\n",
       "      <td id=\"T_c054e_row1_col2\" class=\"data row1 col2\" >401.42</td>\n",
       "      <td id=\"T_c054e_row1_col3\" class=\"data row1 col3\" >350.30</td>\n",
       "    </tr>\n",
       "    <tr>\n",
       "      <th id=\"T_c054e_level0_row2\" class=\"row_heading level0 row2\" >without_instrument</th>\n",
       "      <td id=\"T_c054e_row2_col0\" class=\"data row2 col0\" >4.01</td>\n",
       "      <td id=\"T_c054e_row2_col1\" class=\"data row2 col1\" >49.72</td>\n",
       "      <td id=\"T_c054e_row2_col2\" class=\"data row2 col2\" >401.33</td>\n",
       "      <td id=\"T_c054e_row2_col3\" class=\"data row2 col3\" >347.59</td>\n",
       "    </tr>\n",
       "    <tr>\n",
       "      <th id=\"T_c054e_level0_row3\" class=\"row_heading level0 row3\" >agnostic_instrument</th>\n",
       "      <td id=\"T_c054e_row3_col0\" class=\"data row3 col0\" >2.45</td>\n",
       "      <td id=\"T_c054e_row3_col1\" class=\"data row3 col1\" >49.82</td>\n",
       "      <td id=\"T_c054e_row3_col2\" class=\"data row3 col2\" >401.33</td>\n",
       "      <td id=\"T_c054e_row3_col3\" class=\"data row3 col3\" >349.06</td>\n",
       "    </tr>\n",
       "  </tbody>\n",
       "</table>\n"
      ],
      "text/plain": [
       "<pandas.io.formats.style.Styler at 0x2a1eafc8ac0>"
      ]
     },
     "execution_count": 22,
     "metadata": {},
     "output_type": "execute_result"
    }
   ],
   "source": [
    "welfare.style.format('{0:,.2f}')"
   ]
  },
  {
   "cell_type": "code",
   "execution_count": 23,
   "id": "f58ed1f1-9f32-48b4-9c8d-826f9f3b35e5",
   "metadata": {},
   "outputs": [
    {
     "name": "stdout",
     "output_type": "stream",
     "text": [
      "welfare gains through instrument in %\n",
      "0.778697\n",
      "welfare gains through nodal pricing in %\n",
      "0.7787\n",
      "welfare gain through uniform signal in %\n",
      "0.42\n"
     ]
    }
   ],
   "source": [
    "print('welfare gains through instrument in %')\n",
    "    \n",
    "print(round((welfare['Welfare']['with_instrument'] - welfare['Welfare']['without_instrument']) / welfare['Welfare']['without_instrument'] * 100,6))\n",
    "\n",
    "print('welfare gains through nodal pricing in %')\n",
    "    \n",
    "print(round((welfare['Welfare']['nodal'] - welfare['Welfare']['without_instrument']) / welfare['Welfare']['without_instrument'] * 100,6))\n",
    "\n",
    "if len(scenarios) > 3:\n",
    "    print('welfare gain through uniform signal in %')\n",
    "    print(round((welfare['Welfare']['agnostic_instrument'] - welfare['Welfare']['without_instrument']) / welfare['Welfare']['with_instrument'] * 100,2))\n"
   ]
  },
  {
   "cell_type": "markdown",
   "id": "dcc55c93-5cee-4bbb-a833-9f9533801678",
   "metadata": {},
   "source": [
    "# Instrument level"
   ]
  },
  {
   "cell_type": "code",
   "execution_count": 24,
   "id": "e337a326-2901-4d28-a580-67caecaf6ee2",
   "metadata": {},
   "outputs": [],
   "source": [
    "fixed_costs = read_data('with_instrument', 'c_fix').reset_index(drop = True).set_index(['tec','n']).unstack()\n",
    "fixed_costs.columns = fixed_costs.columns.droplevel(0)"
   ]
  },
  {
   "cell_type": "code",
   "execution_count": 25,
   "id": "595438cb-b2f3-4e2e-87a1-ce4cf7506f86",
   "metadata": {},
   "outputs": [
    {
     "data": {
      "text/html": [
       "<div>\n",
       "<style scoped>\n",
       "    .dataframe tbody tr th:only-of-type {\n",
       "        vertical-align: middle;\n",
       "    }\n",
       "\n",
       "    .dataframe tbody tr th {\n",
       "        vertical-align: top;\n",
       "    }\n",
       "\n",
       "    .dataframe thead th {\n",
       "        text-align: right;\n",
       "    }\n",
       "</style>\n",
       "<table border=\"1\" class=\"dataframe\">\n",
       "  <thead>\n",
       "    <tr style=\"text-align: right;\">\n",
       "      <th>n</th>\n",
       "      <th>north</th>\n",
       "      <th>south</th>\n",
       "    </tr>\n",
       "    <tr>\n",
       "      <th>tec</th>\n",
       "      <th></th>\n",
       "      <th></th>\n",
       "    </tr>\n",
       "  </thead>\n",
       "  <tbody>\n",
       "    <tr>\n",
       "      <th>base</th>\n",
       "      <td>411.0</td>\n",
       "      <td>411.0</td>\n",
       "    </tr>\n",
       "    <tr>\n",
       "      <th>peak</th>\n",
       "      <td>151.0</td>\n",
       "      <td>151.0</td>\n",
       "    </tr>\n",
       "    <tr>\n",
       "      <th>solar</th>\n",
       "      <td>82.0</td>\n",
       "      <td>82.0</td>\n",
       "    </tr>\n",
       "    <tr>\n",
       "      <th>wind</th>\n",
       "      <td>137.0</td>\n",
       "      <td>137.0</td>\n",
       "    </tr>\n",
       "  </tbody>\n",
       "</table>\n",
       "</div>"
      ],
      "text/plain": [
       "n      north  south\n",
       "tec                \n",
       "base   411.0  411.0\n",
       "peak   151.0  151.0\n",
       "solar   82.0   82.0\n",
       "wind   137.0  137.0"
      ]
     },
     "execution_count": 25,
     "metadata": {},
     "output_type": "execute_result"
    }
   ],
   "source": [
    "fixed_costs"
   ]
  },
  {
   "cell_type": "code",
   "execution_count": 26,
   "id": "979b188e-1385-44e8-bd5d-6c0b013c5e48",
   "metadata": {},
   "outputs": [],
   "source": [
    "instr = read_data('with_instrument', 'o_instrument').reset_index(drop = True).set_index(['tec','n']).unstack()\n",
    "instr.columns = instr.columns.droplevel(0)\n",
    "instr = instr.round(1)"
   ]
  },
  {
   "cell_type": "code",
   "execution_count": 27,
   "id": "f46a72ca-6c9e-458c-bbbc-9d63a7c09ffb",
   "metadata": {},
   "outputs": [
    {
     "data": {
      "text/html": [
       "<div>\n",
       "<style scoped>\n",
       "    .dataframe tbody tr th:only-of-type {\n",
       "        vertical-align: middle;\n",
       "    }\n",
       "\n",
       "    .dataframe tbody tr th {\n",
       "        vertical-align: top;\n",
       "    }\n",
       "\n",
       "    .dataframe thead th {\n",
       "        text-align: right;\n",
       "    }\n",
       "</style>\n",
       "<table border=\"1\" class=\"dataframe\">\n",
       "  <thead>\n",
       "    <tr style=\"text-align: right;\">\n",
       "      <th>n</th>\n",
       "      <th>north</th>\n",
       "      <th>south</th>\n",
       "    </tr>\n",
       "    <tr>\n",
       "      <th>tec</th>\n",
       "      <th></th>\n",
       "      <th></th>\n",
       "    </tr>\n",
       "  </thead>\n",
       "  <tbody>\n",
       "    <tr>\n",
       "      <th>base</th>\n",
       "      <td>11.3</td>\n",
       "      <td>1.1</td>\n",
       "    </tr>\n",
       "    <tr>\n",
       "      <th>peak</th>\n",
       "      <td>-22.2</td>\n",
       "      <td>-18.7</td>\n",
       "    </tr>\n",
       "    <tr>\n",
       "      <th>solar</th>\n",
       "      <td>4.4</td>\n",
       "      <td>8.7</td>\n",
       "    </tr>\n",
       "    <tr>\n",
       "      <th>wind</th>\n",
       "      <td>7.8</td>\n",
       "      <td>-1.5</td>\n",
       "    </tr>\n",
       "  </tbody>\n",
       "</table>\n",
       "</div>"
      ],
      "text/plain": [
       "n      north  south\n",
       "tec                \n",
       "base    11.3    1.1\n",
       "peak   -22.2  -18.7\n",
       "solar    4.4    8.7\n",
       "wind     7.8   -1.5"
      ]
     },
     "execution_count": 27,
     "metadata": {},
     "output_type": "execute_result"
    }
   ],
   "source": [
    "instr"
   ]
  },
  {
   "cell_type": "code",
   "execution_count": 28,
   "id": "5385ca8f-bcfc-48e4-9a95-4240bd81b4b7",
   "metadata": {},
   "outputs": [],
   "source": [
    "cap = read_data('with_instrument', 'o_cap').reset_index(drop = True).set_index(['tec','n']).unstack()\n",
    "cap.columns = cap.columns.droplevel(0)\n",
    "instr[cap.isna()] = np.nan"
   ]
  },
  {
   "cell_type": "code",
   "execution_count": 188,
   "id": "b267b4e5-510d-4a00-aec7-8d23b6db6b33",
   "metadata": {},
   "outputs": [],
   "source": [
    "shares = round(100 *instr / fixed_costs,1)"
   ]
  },
  {
   "cell_type": "code",
   "execution_count": 189,
   "id": "c9648b36-44f9-4b1a-ac20-04013d764707",
   "metadata": {},
   "outputs": [],
   "source": [
    "shares = shares.rename(columns={'north':'north (share)', 'south': 'south (share)'})\n",
    "#shares.columns = shares.columns.droplevel(0)"
   ]
  },
  {
   "cell_type": "code",
   "execution_count": 190,
   "id": "60ce8858-c9ca-405d-9fa5-a45cb3eed878",
   "metadata": {},
   "outputs": [
    {
     "data": {
      "text/html": [
       "<div>\n",
       "<style scoped>\n",
       "    .dataframe tbody tr th:only-of-type {\n",
       "        vertical-align: middle;\n",
       "    }\n",
       "\n",
       "    .dataframe tbody tr th {\n",
       "        vertical-align: top;\n",
       "    }\n",
       "\n",
       "    .dataframe thead th {\n",
       "        text-align: right;\n",
       "    }\n",
       "</style>\n",
       "<table border=\"1\" class=\"dataframe\">\n",
       "  <thead>\n",
       "    <tr style=\"text-align: right;\">\n",
       "      <th>n</th>\n",
       "      <th>north (share)</th>\n",
       "      <th>south (share)</th>\n",
       "    </tr>\n",
       "    <tr>\n",
       "      <th>tec</th>\n",
       "      <th></th>\n",
       "      <th></th>\n",
       "    </tr>\n",
       "  </thead>\n",
       "  <tbody>\n",
       "    <tr>\n",
       "      <th>base</th>\n",
       "      <td>-0.8</td>\n",
       "      <td>-2.0</td>\n",
       "    </tr>\n",
       "    <tr>\n",
       "      <th>peak</th>\n",
       "      <td>-22.6</td>\n",
       "      <td>-21.3</td>\n",
       "    </tr>\n",
       "    <tr>\n",
       "      <th>solar</th>\n",
       "      <td>6.6</td>\n",
       "      <td>6.1</td>\n",
       "    </tr>\n",
       "    <tr>\n",
       "      <th>wind</th>\n",
       "      <td>3.0</td>\n",
       "      <td>-2.0</td>\n",
       "    </tr>\n",
       "  </tbody>\n",
       "</table>\n",
       "</div>"
      ],
      "text/plain": [
       "n      north (share)  south (share)\n",
       "tec                                \n",
       "base            -0.8           -2.0\n",
       "peak           -22.6          -21.3\n",
       "solar            6.6            6.1\n",
       "wind             3.0           -2.0"
      ]
     },
     "execution_count": 190,
     "metadata": {},
     "output_type": "execute_result"
    }
   ],
   "source": [
    "shares"
   ]
  },
  {
   "cell_type": "code",
   "execution_count": 191,
   "id": "d846379d-a4af-465e-a794-ff5f6f1fe951",
   "metadata": {},
   "outputs": [],
   "source": [
    "instrument = pd.concat([instr, shares], axis=1)\n",
    "instrument = instrument.sort_index(axis = 1)"
   ]
  },
  {
   "cell_type": "code",
   "execution_count": 192,
   "id": "da9cd7bf-9eb4-4f15-8d61-ba5d3539caee",
   "metadata": {},
   "outputs": [],
   "source": [
    "#fixed_costs.columns = fixed_costs.columns.droplevel(0)\n",
    "instrument['Fixed cost'] = fixed_costs['north']"
   ]
  },
  {
   "cell_type": "code",
   "execution_count": 193,
   "id": "497eda19-bd00-47d3-8e56-0d747345a8b8",
   "metadata": {},
   "outputs": [
    {
     "data": {
      "text/html": [
       "<style type=\"text/css\">\n",
       "</style>\n",
       "<table id=\"T_3bb20_\">\n",
       "  <thead>\n",
       "    <tr>\n",
       "      <th class=\"index_name level0\" >n</th>\n",
       "      <th class=\"col_heading level0 col0\" >north</th>\n",
       "      <th class=\"col_heading level0 col1\" >north (share)</th>\n",
       "      <th class=\"col_heading level0 col2\" >south</th>\n",
       "      <th class=\"col_heading level0 col3\" >south (share)</th>\n",
       "      <th class=\"col_heading level0 col4\" >Fixed cost</th>\n",
       "    </tr>\n",
       "    <tr>\n",
       "      <th class=\"index_name level0\" >tec</th>\n",
       "      <th class=\"blank col0\" >&nbsp;</th>\n",
       "      <th class=\"blank col1\" >&nbsp;</th>\n",
       "      <th class=\"blank col2\" >&nbsp;</th>\n",
       "      <th class=\"blank col3\" >&nbsp;</th>\n",
       "      <th class=\"blank col4\" >&nbsp;</th>\n",
       "    </tr>\n",
       "  </thead>\n",
       "  <tbody>\n",
       "    <tr>\n",
       "      <th id=\"T_3bb20_level0_row0\" class=\"row_heading level0 row0\" >base</th>\n",
       "      <td id=\"T_3bb20_row0_col0\" class=\"data row0 col0\" >-3 €</td>\n",
       "      <td id=\"T_3bb20_row0_col1\" class=\"data row0 col1\" >-1%</td>\n",
       "      <td id=\"T_3bb20_row0_col2\" class=\"data row0 col2\" >-8 €</td>\n",
       "      <td id=\"T_3bb20_row0_col3\" class=\"data row0 col3\" >-2%</td>\n",
       "      <td id=\"T_3bb20_row0_col4\" class=\"data row0 col4\" >411 €</td>\n",
       "    </tr>\n",
       "    <tr>\n",
       "      <th id=\"T_3bb20_level0_row1\" class=\"row_heading level0 row1\" >peak</th>\n",
       "      <td id=\"T_3bb20_row1_col0\" class=\"data row1 col0\" >-34 €</td>\n",
       "      <td id=\"T_3bb20_row1_col1\" class=\"data row1 col1\" >-23%</td>\n",
       "      <td id=\"T_3bb20_row1_col2\" class=\"data row1 col2\" >-32 €</td>\n",
       "      <td id=\"T_3bb20_row1_col3\" class=\"data row1 col3\" >-21%</td>\n",
       "      <td id=\"T_3bb20_row1_col4\" class=\"data row1 col4\" >151 €</td>\n",
       "    </tr>\n",
       "    <tr>\n",
       "      <th id=\"T_3bb20_level0_row2\" class=\"row_heading level0 row2\" >solar</th>\n",
       "      <td id=\"T_3bb20_row2_col0\" class=\"data row2 col0\" >5 €</td>\n",
       "      <td id=\"T_3bb20_row2_col1\" class=\"data row2 col1\" >7%</td>\n",
       "      <td id=\"T_3bb20_row2_col2\" class=\"data row2 col2\" >5 €</td>\n",
       "      <td id=\"T_3bb20_row2_col3\" class=\"data row2 col3\" >6%</td>\n",
       "      <td id=\"T_3bb20_row2_col4\" class=\"data row2 col4\" >82 €</td>\n",
       "    </tr>\n",
       "    <tr>\n",
       "      <th id=\"T_3bb20_level0_row3\" class=\"row_heading level0 row3\" >wind</th>\n",
       "      <td id=\"T_3bb20_row3_col0\" class=\"data row3 col0\" >4 €</td>\n",
       "      <td id=\"T_3bb20_row3_col1\" class=\"data row3 col1\" >3%</td>\n",
       "      <td id=\"T_3bb20_row3_col2\" class=\"data row3 col2\" >-3 €</td>\n",
       "      <td id=\"T_3bb20_row3_col3\" class=\"data row3 col3\" >-2%</td>\n",
       "      <td id=\"T_3bb20_row3_col4\" class=\"data row3 col4\" >137 €</td>\n",
       "    </tr>\n",
       "  </tbody>\n",
       "</table>\n"
      ],
      "text/plain": [
       "<pandas.io.formats.style.Styler at 0x2e7715d9f40>"
      ]
     },
     "execution_count": 193,
     "metadata": {},
     "output_type": "execute_result"
    }
   ],
   "source": [
    "format_dict = {'north':'{0:,.0f} €', 'north (share)': '{0:,.0f}%', 'south': '{0:,.0f} €', 'south (share)': '{0:,.0f}%', 'Fixed cost': '{0:,.0f} €'}\n",
    "instrument.style.format(format_dict)"
   ]
  },
  {
   "cell_type": "code",
   "execution_count": 194,
   "id": "48d374b7-9a7e-4036-8e7e-c173a574028c",
   "metadata": {},
   "outputs": [
    {
     "data": {
      "text/html": [
       "<div>\n",
       "<style scoped>\n",
       "    .dataframe tbody tr th:only-of-type {\n",
       "        vertical-align: middle;\n",
       "    }\n",
       "\n",
       "    .dataframe tbody tr th {\n",
       "        vertical-align: top;\n",
       "    }\n",
       "\n",
       "    .dataframe thead th {\n",
       "        text-align: right;\n",
       "    }\n",
       "</style>\n",
       "<table border=\"1\" class=\"dataframe\">\n",
       "  <thead>\n",
       "    <tr style=\"text-align: right;\">\n",
       "      <th>n</th>\n",
       "      <th>north</th>\n",
       "      <th>south</th>\n",
       "    </tr>\n",
       "    <tr>\n",
       "      <th>tec</th>\n",
       "      <th></th>\n",
       "      <th></th>\n",
       "    </tr>\n",
       "  </thead>\n",
       "  <tbody>\n",
       "    <tr>\n",
       "      <th>base</th>\n",
       "      <td>-3.2</td>\n",
       "      <td>-8.2</td>\n",
       "    </tr>\n",
       "    <tr>\n",
       "      <th>peak</th>\n",
       "      <td>-34.1</td>\n",
       "      <td>-32.2</td>\n",
       "    </tr>\n",
       "    <tr>\n",
       "      <th>solar</th>\n",
       "      <td>5.4</td>\n",
       "      <td>5.0</td>\n",
       "    </tr>\n",
       "    <tr>\n",
       "      <th>wind</th>\n",
       "      <td>4.1</td>\n",
       "      <td>-2.7</td>\n",
       "    </tr>\n",
       "  </tbody>\n",
       "</table>\n",
       "</div>"
      ],
      "text/plain": [
       "n      north  south\n",
       "tec                \n",
       "base    -3.2   -8.2\n",
       "peak   -34.1  -32.2\n",
       "solar    5.4    5.0\n",
       "wind     4.1   -2.7"
      ]
     },
     "execution_count": 194,
     "metadata": {},
     "output_type": "execute_result"
    }
   ],
   "source": [
    "instr"
   ]
  },
  {
   "cell_type": "code",
   "execution_count": null,
   "id": "276f99b8-2882-4202-9fb4-18fb778b0d35",
   "metadata": {},
   "outputs": [],
   "source": []
  }
 ],
 "metadata": {
  "kernelspec": {
   "display_name": "Python 3 (ipykernel)",
   "language": "python",
   "name": "python3"
  },
  "language_info": {
   "codemirror_mode": {
    "name": "ipython",
    "version": 3
   },
   "file_extension": ".py",
   "mimetype": "text/x-python",
   "name": "python",
   "nbconvert_exporter": "python",
   "pygments_lexer": "ipython3",
   "version": "3.9.9"
  }
 },
 "nbformat": 4,
 "nbformat_minor": 5
}
